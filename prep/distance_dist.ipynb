{
 "cells": [
  {
   "cell_type": "markdown",
   "metadata": {},
   "source": [
    "# distance_dist"
   ]
  },
  {
   "cell_type": "code",
   "execution_count": 37,
   "metadata": {},
   "outputs": [],
   "source": [
    "MODE = 'local_train'\n",
    "#MODE = 'kaggle_inference'"
   ]
  },
  {
   "cell_type": "code",
   "execution_count": 38,
   "metadata": {},
   "outputs": [],
   "source": [
    "exp_name = 'distance_dist'"
   ]
  },
  {
   "cell_type": "code",
   "execution_count": 39,
   "metadata": {},
   "outputs": [
    {
     "name": "stdout",
     "output_type": "stream",
     "text": [
      "The Cython extension is already loaded. To reload it, use:\n",
      "  %reload_ext Cython\n"
     ]
    }
   ],
   "source": [
    "import os\n",
    "import sys\n",
    "import gc\n",
    "\n",
    "if MODE == 'local_train':\n",
    "    sys.path.append('/home/kaggler/.local/lib/python3.8/site-packages')\n",
    "    from dotenv import load_dotenv\n",
    "    load_dotenv\n",
    "    sys.path.append(os.getenv('UTILS_PATH'))\n",
    "    import line_notify\n",
    "    import slack_notify\n",
    "    \n",
    "import pandas as pd\n",
    "import numpy as np\n",
    "import matplotlib.pyplot as plt; plt.style.use(\"ggplot\")\n",
    "import seaborn as sns\n",
    "from sklearn.metrics.pairwise import haversine_distances\n",
    "from sklearn.model_selection import GroupKFold, KFold, StratifiedKFold\n",
    "from sklearn.metrics import accuracy_score\n",
    "import lightgbm as lgb\n",
    "import itertools\n",
    "from tqdm import tqdm\n",
    "from scipy.spatial.distance import canberra\n",
    "from sklearn.neighbors import KNeighborsRegressor\n",
    "import multiprocessing\n",
    "import Levenshtein\n",
    "import difflib\n",
    "import pickle\n",
    "%load_ext Cython"
   ]
  },
  {
   "cell_type": "code",
   "execution_count": 40,
   "metadata": {},
   "outputs": [],
   "source": [
    "# directry_setting\n",
    "if MODE == 'local_train':\n",
    "    INPUT_DIR = os.getenv('INPUT_DIR')\n",
    "    OUTPUT_DIR = os.getenv('OUTPUT_DIR')\n",
    "    MODEL_DIR = os.getenv('OUTPUT_DIR')\n",
    "    os.makedirs(OUTPUT_DIR + 'prep/' + exp_name, exist_ok=True)\n",
    "\n",
    "elif MODE == 'kaggle_inference':\n",
    "    INPUT_DIR = '/kaggle/input/foursquare-location-matching/'\n",
    "    OUTPUT_DIR = './'\n",
    "    MODEL_DIR = f'../input/fs{exp_name}/'"
   ]
  },
  {
   "cell_type": "code",
   "execution_count": 41,
   "metadata": {},
   "outputs": [],
   "source": [
    "# CONFIG\n",
    "SEED = 42\n",
    "N_NEIGHBORS = 10\n",
    "N_SPLITS = 5\n",
    "PROB_TH = 0.5"
   ]
  },
  {
   "cell_type": "code",
   "execution_count": 42,
   "metadata": {},
   "outputs": [],
   "source": [
    "train = pd.read_csv(INPUT_DIR + \"train.csv\")"
   ]
  },
  {
   "cell_type": "code",
   "execution_count": 43,
   "metadata": {},
   "outputs": [
    {
     "data": {
      "text/plain": [
       "(array([5.2127e+04, 1.5600e+02, 6.6000e+01, 4.0000e+01, 3.0000e+01,\n",
       "        2.0000e+01, 2.1000e+01, 1.2000e+01, 6.0000e+00, 1.1000e+01,\n",
       "        1.0000e+01, 9.0000e+00, 5.0000e+00, 9.0000e+00, 4.0000e+00,\n",
       "        2.0000e+00, 2.0000e+00, 2.0000e+00, 4.0000e+00, 8.0000e+00,\n",
       "        2.0000e+00, 3.0000e+00, 2.0000e+00, 1.0000e+00, 0.0000e+00,\n",
       "        2.0000e+00, 1.0000e+00, 2.0000e+00, 2.0000e+00, 0.0000e+00,\n",
       "        1.0000e+00, 2.0000e+00, 1.0000e+00, 0.0000e+00, 0.0000e+00,\n",
       "        0.0000e+00, 1.0000e+00, 1.0000e+00, 0.0000e+00, 1.0000e+00,\n",
       "        1.0000e+00, 0.0000e+00, 0.0000e+00, 0.0000e+00, 1.0000e+00,\n",
       "        0.0000e+00, 1.0000e+00, 1.0000e+00, 0.0000e+00, 0.0000e+00,\n",
       "        0.0000e+00, 0.0000e+00, 0.0000e+00, 1.0000e+00, 0.0000e+00,\n",
       "        0.0000e+00, 0.0000e+00, 0.0000e+00, 0.0000e+00, 0.0000e+00,\n",
       "        0.0000e+00, 0.0000e+00, 0.0000e+00, 0.0000e+00, 0.0000e+00,\n",
       "        1.0000e+00, 1.0000e+00, 1.0000e+00, 0.0000e+00, 1.0000e+00,\n",
       "        0.0000e+00, 0.0000e+00, 0.0000e+00, 0.0000e+00, 0.0000e+00,\n",
       "        0.0000e+00, 0.0000e+00, 0.0000e+00, 0.0000e+00, 0.0000e+00,\n",
       "        0.0000e+00, 0.0000e+00, 0.0000e+00, 0.0000e+00, 2.0000e+00,\n",
       "        0.0000e+00, 0.0000e+00, 0.0000e+00, 0.0000e+00, 0.0000e+00,\n",
       "        0.0000e+00, 0.0000e+00, 0.0000e+00, 0.0000e+00, 0.0000e+00,\n",
       "        0.0000e+00, 0.0000e+00, 0.0000e+00, 0.0000e+00, 1.0000e+00]),\n",
       " array([1.00000e+00, 2.55800e+02, 5.10600e+02, 7.65400e+02, 1.02020e+03,\n",
       "        1.27500e+03, 1.52980e+03, 1.78460e+03, 2.03940e+03, 2.29420e+03,\n",
       "        2.54900e+03, 2.80380e+03, 3.05860e+03, 3.31340e+03, 3.56820e+03,\n",
       "        3.82300e+03, 4.07780e+03, 4.33260e+03, 4.58740e+03, 4.84220e+03,\n",
       "        5.09700e+03, 5.35180e+03, 5.60660e+03, 5.86140e+03, 6.11620e+03,\n",
       "        6.37100e+03, 6.62580e+03, 6.88060e+03, 7.13540e+03, 7.39020e+03,\n",
       "        7.64500e+03, 7.89980e+03, 8.15460e+03, 8.40940e+03, 8.66420e+03,\n",
       "        8.91900e+03, 9.17380e+03, 9.42860e+03, 9.68340e+03, 9.93820e+03,\n",
       "        1.01930e+04, 1.04478e+04, 1.07026e+04, 1.09574e+04, 1.12122e+04,\n",
       "        1.14670e+04, 1.17218e+04, 1.19766e+04, 1.22314e+04, 1.24862e+04,\n",
       "        1.27410e+04, 1.29958e+04, 1.32506e+04, 1.35054e+04, 1.37602e+04,\n",
       "        1.40150e+04, 1.42698e+04, 1.45246e+04, 1.47794e+04, 1.50342e+04,\n",
       "        1.52890e+04, 1.55438e+04, 1.57986e+04, 1.60534e+04, 1.63082e+04,\n",
       "        1.65630e+04, 1.68178e+04, 1.70726e+04, 1.73274e+04, 1.75822e+04,\n",
       "        1.78370e+04, 1.80918e+04, 1.83466e+04, 1.86014e+04, 1.88562e+04,\n",
       "        1.91110e+04, 1.93658e+04, 1.96206e+04, 1.98754e+04, 2.01302e+04,\n",
       "        2.03850e+04, 2.06398e+04, 2.08946e+04, 2.11494e+04, 2.14042e+04,\n",
       "        2.16590e+04, 2.19138e+04, 2.21686e+04, 2.24234e+04, 2.26782e+04,\n",
       "        2.29330e+04, 2.31878e+04, 2.34426e+04, 2.36974e+04, 2.39522e+04,\n",
       "        2.42070e+04, 2.44618e+04, 2.47166e+04, 2.49714e+04, 2.52262e+04,\n",
       "        2.54810e+04]),\n",
       " <BarContainer object of 100 artists>)"
      ]
     },
     "execution_count": 43,
     "metadata": {},
     "output_type": "execute_result"
    },
    {
     "data": {
      "image/png": "[encoded data removed]",
      "text/plain": [
       "<Figure size 1440x360 with 1 Axes>"
      ]
     },
     "metadata": {},
     "output_type": "display_data"
    }
   ],
   "source": [
    "fig, ax = plt.subplots(figsize=(20,5))\n",
    "ax.hist(train['categories'].value_counts(), log=True, bins=100)"
   ]
  },
  {
   "cell_type": "code",
   "execution_count": 44,
   "metadata": {},
   "outputs": [
    {
     "data": {
      "text/plain": [
       "<matplotlib.collections.PathCollection at 0x7f64dc0b7340>"
      ]
     },
     "execution_count": 44,
     "metadata": {},
     "output_type": "execute_result"
    },
    {
     "data": {
      "image/png": "[encoded data removed]",
      "text/plain": [
       "<Figure size 1440x360 with 1 Axes>"
      ]
     },
     "metadata": {},
     "output_type": "display_data"
    }
   ],
   "source": [
    "# カウント数の足切り検討\n",
    "vc = train['categories'].value_counts().to_frame()\n",
    "\n",
    "ths = [5, 10,20,30,40,50,60,70,80,90,100]\n",
    "rates = []\n",
    "for th in ths:\n",
    "    rate = vc[vc['categories']>th]['categories'].sum() / vc['categories'].sum()\n",
    "    rates.append(rate)\n",
    "\n",
    "fig, ax = plt.subplots(figsize=(20,5))\n",
    "ax.scatter(ths, rates)"
   ]
  },
  {
   "cell_type": "code",
   "execution_count": 45,
   "metadata": {},
   "outputs": [],
   "source": [
    "def extract_candidate(df):\n",
    "    dfs = []\n",
    "    candidates = pd.DataFrame()\n",
    "    for country, country_df in tqdm(df.groupby(\"country\")):\n",
    "        country_df = country_df.reset_index(drop=True)\n",
    "        \n",
    "        knn = KNeighborsRegressor(n_neighbors=min(len(country_df), 10), \n",
    "                                  metric='haversine', n_jobs=-1)\n",
    "        knn.fit(country_df[['latitude','longitude']], country_df.index)\n",
    "        dists, nears = knn.kneighbors(country_df[['latitude','longitude']], return_distance=True)\n",
    "        \n",
    "        k = min(len(country_df), 10)\n",
    "        country_df['match_id'] = country_df['id'].values[nears[:, :k]].tolist()\n",
    "        country_df['d_near'] = dists[:, :k].tolist()\n",
    "        dfs.append(country_df[['id','match_id','d_near']])\n",
    "    df = pd.concat(dfs).reset_index(drop=True)\n",
    "    return df"
   ]
  },
  {
   "cell_type": "markdown",
   "metadata": {},
   "source": [
    "# 距離算出が一致しているか事前確認"
   ]
  },
  {
   "cell_type": "code",
   "execution_count": 46,
   "metadata": {},
   "outputs": [
    {
     "name": "stderr",
     "output_type": "stream",
     "text": [
      "100%|██████████| 68/68 [00:00<00:00, 70.29it/s]\n"
     ]
    }
   ],
   "source": [
    "knn_result = extract_candidate(train.head(1000))\n",
    "knn_result = knn_result.explode(['match_id','d_near'])"
   ]
  },
  {
   "cell_type": "code",
   "execution_count": 47,
   "metadata": {},
   "outputs": [
    {
     "data": {
      "text/html": [
       "<div>\n",
       "<style scoped>\n",
       "    .dataframe tbody tr th:only-of-type {\n",
       "        vertical-align: middle;\n",
       "    }\n",
       "\n",
       "    .dataframe tbody tr th {\n",
       "        vertical-align: top;\n",
       "    }\n",
       "\n",
       "    .dataframe thead th {\n",
       "        text-align: right;\n",
       "    }\n",
       "</style>\n",
       "<table border=\"1\" class=\"dataframe\">\n",
       "  <thead>\n",
       "    <tr style=\"text-align: right;\">\n",
       "      <th></th>\n",
       "      <th>id</th>\n",
       "      <th>match_id</th>\n",
       "      <th>d_near</th>\n",
       "    </tr>\n",
       "  </thead>\n",
       "  <tbody>\n",
       "    <tr>\n",
       "      <th>0</th>\n",
       "      <td>E_0013149ad8ed18</td>\n",
       "      <td>E_0013149ad8ed18</td>\n",
       "      <td>0.0</td>\n",
       "    </tr>\n",
       "    <tr>\n",
       "      <th>0</th>\n",
       "      <td>E_0013149ad8ed18</td>\n",
       "      <td>E_0030de94b528e7</td>\n",
       "      <td>0.07938</td>\n",
       "    </tr>\n",
       "    <tr>\n",
       "      <th>0</th>\n",
       "      <td>E_0013149ad8ed18</td>\n",
       "      <td>E_0031c764c706c6</td>\n",
       "      <td>0.237002</td>\n",
       "    </tr>\n",
       "    <tr>\n",
       "      <th>0</th>\n",
       "      <td>E_0013149ad8ed18</td>\n",
       "      <td>E_002e4c4793fbc7</td>\n",
       "      <td>0.783273</td>\n",
       "    </tr>\n",
       "    <tr>\n",
       "      <th>0</th>\n",
       "      <td>E_0013149ad8ed18</td>\n",
       "      <td>E_0019ce8998b3a8</td>\n",
       "      <td>0.917119</td>\n",
       "    </tr>\n",
       "    <tr>\n",
       "      <th>...</th>\n",
       "      <td>...</td>\n",
       "      <td>...</td>\n",
       "      <td>...</td>\n",
       "    </tr>\n",
       "    <tr>\n",
       "      <th>997</th>\n",
       "      <td>E_001750bd8a2e4e</td>\n",
       "      <td>E_001750bd8a2e4e</td>\n",
       "      <td>0.0</td>\n",
       "    </tr>\n",
       "    <tr>\n",
       "      <th>998</th>\n",
       "      <td>E_0003ffef645c7f</td>\n",
       "      <td>E_0003ffef645c7f</td>\n",
       "      <td>0.0</td>\n",
       "    </tr>\n",
       "    <tr>\n",
       "      <th>998</th>\n",
       "      <td>E_0003ffef645c7f</td>\n",
       "      <td>E_000695824236ae</td>\n",
       "      <td>0.528505</td>\n",
       "    </tr>\n",
       "    <tr>\n",
       "      <th>999</th>\n",
       "      <td>E_000695824236ae</td>\n",
       "      <td>E_000695824236ae</td>\n",
       "      <td>0.0</td>\n",
       "    </tr>\n",
       "    <tr>\n",
       "      <th>999</th>\n",
       "      <td>E_000695824236ae</td>\n",
       "      <td>E_0003ffef645c7f</td>\n",
       "      <td>0.528505</td>\n",
       "    </tr>\n",
       "  </tbody>\n",
       "</table>\n",
       "<p>9118 rows × 3 columns</p>\n",
       "</div>"
      ],
      "text/plain": [
       "                   id          match_id    d_near\n",
       "0    E_0013149ad8ed18  E_0013149ad8ed18       0.0\n",
       "0    E_0013149ad8ed18  E_0030de94b528e7   0.07938\n",
       "0    E_0013149ad8ed18  E_0031c764c706c6  0.237002\n",
       "0    E_0013149ad8ed18  E_002e4c4793fbc7  0.783273\n",
       "0    E_0013149ad8ed18  E_0019ce8998b3a8  0.917119\n",
       "..                ...               ...       ...\n",
       "997  E_001750bd8a2e4e  E_001750bd8a2e4e       0.0\n",
       "998  E_0003ffef645c7f  E_0003ffef645c7f       0.0\n",
       "998  E_0003ffef645c7f  E_000695824236ae  0.528505\n",
       "999  E_000695824236ae  E_000695824236ae       0.0\n",
       "999  E_000695824236ae  E_0003ffef645c7f  0.528505\n",
       "\n",
       "[9118 rows x 3 columns]"
      ]
     },
     "execution_count": 47,
     "metadata": {},
     "output_type": "execute_result"
    }
   ],
   "source": [
    "knn_result"
   ]
  },
  {
   "cell_type": "code",
   "execution_count": 48,
   "metadata": {},
   "outputs": [
    {
     "data": {
      "text/plain": [
       "array([[0.       , 0.2370018],\n",
       "       [0.2370018, 0.       ]])"
      ]
     },
     "execution_count": 48,
     "metadata": {},
     "output_type": "execute_result"
    }
   ],
   "source": [
    "tmp = train[train['id'].isin(['E_0013149ad8ed18', 'E_0031c764c706c6'])]\n",
    "haversine_distances(tmp[[\"latitude\", \"longitude\"]].values)"
   ]
  },
  {
   "cell_type": "markdown",
   "metadata": {},
   "source": [
    "一致する"
   ]
  },
  {
   "cell_type": "markdown",
   "metadata": {},
   "source": [
    "# 距離計算\n",
    "https://www.kaggle.com/code/hidehisaarai1213/foursquare-eda-distance-distribution-variation/notebook"
   ]
  },
  {
   "cell_type": "code",
   "execution_count": 50,
   "metadata": {},
   "outputs": [
    {
     "name": "stderr",
     "output_type": "stream",
     "text": [
      "100%|██████████| 739972/739972 [01:29<00:00, 8242.84it/s]\n"
     ]
    }
   ],
   "source": [
    "poi2distances = {}\n",
    "for poi, df in tqdm(train[[\"latitude\", \"longitude\", \"point_of_interest\"]].groupby(\"point_of_interest\"),\n",
    "                    total=train[\"point_of_interest\"].nunique()):\n",
    "    if len(df) == 1:\n",
    "        # no matches\n",
    "        continue\n",
    "        \n",
    "    distances = []\n",
    "    distances_mat = haversine_distances(df[[\"latitude\", \"longitude\"]].values)\n",
    "    for i in range(len(df)):\n",
    "        for j in range(len(df)):\n",
    "            if j >= i:\n",
    "                continue\n",
    "            # haversine distance -> meters\n",
    "            distances.append(distances_mat[i, j])\n",
    "    poi2distances[poi] = distances"
   ]
  },
  {
   "cell_type": "code",
   "execution_count": 51,
   "metadata": {},
   "outputs": [
    {
     "data": {
      "text/html": [
       "<div>\n",
       "<style scoped>\n",
       "    .dataframe tbody tr th:only-of-type {\n",
       "        vertical-align: middle;\n",
       "    }\n",
       "\n",
       "    .dataframe tbody tr th {\n",
       "        vertical-align: top;\n",
       "    }\n",
       "\n",
       "    .dataframe thead th {\n",
       "        text-align: right;\n",
       "    }\n",
       "</style>\n",
       "<table border=\"1\" class=\"dataframe\">\n",
       "  <thead>\n",
       "    <tr style=\"text-align: right;\">\n",
       "      <th></th>\n",
       "      <th>point_of_interest</th>\n",
       "      <th>distances</th>\n",
       "    </tr>\n",
       "  </thead>\n",
       "  <tbody>\n",
       "    <tr>\n",
       "      <th>0</th>\n",
       "      <td>P_00001c309a5e0a</td>\n",
       "      <td>[7.392899610072019e-05, 0.0013074433813009816,...</td>\n",
       "    </tr>\n",
       "    <tr>\n",
       "      <th>1</th>\n",
       "      <td>P_0000561fe92bed</td>\n",
       "      <td>[0.0005504564134837164]</td>\n",
       "    </tr>\n",
       "    <tr>\n",
       "      <th>2</th>\n",
       "      <td>P_0000bccb92573c</td>\n",
       "      <td>[7.01213571512607e-05]</td>\n",
       "    </tr>\n",
       "    <tr>\n",
       "      <th>3</th>\n",
       "      <td>P_0000c58a53df6d</td>\n",
       "      <td>[0.002288377953984225]</td>\n",
       "    </tr>\n",
       "    <tr>\n",
       "      <th>4</th>\n",
       "      <td>P_00010455487fcf</td>\n",
       "      <td>[0.0004857766987403706]</td>\n",
       "    </tr>\n",
       "  </tbody>\n",
       "</table>\n",
       "</div>"
      ],
      "text/plain": [
       "  point_of_interest                                          distances\n",
       "0  P_00001c309a5e0a  [7.392899610072019e-05, 0.0013074433813009816,...\n",
       "1  P_0000561fe92bed                            [0.0005504564134837164]\n",
       "2  P_0000bccb92573c                             [7.01213571512607e-05]\n",
       "3  P_0000c58a53df6d                             [0.002288377953984225]\n",
       "4  P_00010455487fcf                            [0.0004857766987403706]"
      ]
     },
     "execution_count": 51,
     "metadata": {},
     "output_type": "execute_result"
    }
   ],
   "source": [
    "poi2distances_df = pd.DataFrame({\n",
    "    \"point_of_interest\": list(poi2distances.keys()),\n",
    "    \"distances\": list(poi2distances.values())\n",
    "})\n",
    "poi2distances_df.head()"
   ]
  },
  {
   "cell_type": "code",
   "execution_count": 52,
   "metadata": {},
   "outputs": [],
   "source": [
    "train[\"categories\"] = train[\"categories\"].fillna(\"\").map(lambda x: x.split(\", \"))\n",
    "train_ = train[[\"id\", \"name\", \"categories\", \"point_of_interest\"]].merge(\n",
    "    poi2distances_df, on=\"point_of_interest\", how=\"inner\")"
   ]
  },
  {
   "cell_type": "code",
   "execution_count": 53,
   "metadata": {},
   "outputs": [
    {
     "data": {
      "text/html": [
       "<div>\n",
       "<style scoped>\n",
       "    .dataframe tbody tr th:only-of-type {\n",
       "        vertical-align: middle;\n",
       "    }\n",
       "\n",
       "    .dataframe tbody tr th {\n",
       "        vertical-align: top;\n",
       "    }\n",
       "\n",
       "    .dataframe thead th {\n",
       "        text-align: right;\n",
       "    }\n",
       "</style>\n",
       "<table border=\"1\" class=\"dataframe\">\n",
       "  <thead>\n",
       "    <tr style=\"text-align: right;\">\n",
       "      <th></th>\n",
       "      <th>id</th>\n",
       "      <th>name</th>\n",
       "      <th>categories</th>\n",
       "      <th>point_of_interest</th>\n",
       "      <th>distances</th>\n",
       "    </tr>\n",
       "  </thead>\n",
       "  <tbody>\n",
       "    <tr>\n",
       "      <th>0</th>\n",
       "      <td>E_000001272c6c5d</td>\n",
       "      <td>Café Stad Oudenaarde</td>\n",
       "      <td>Bars</td>\n",
       "      <td>P_677e840bb6fc7e</td>\n",
       "      <td>0.00942</td>\n",
       "    </tr>\n",
       "    <tr>\n",
       "      <th>2</th>\n",
       "      <td>E_000002eae2a589</td>\n",
       "      <td>Carioca Manero</td>\n",
       "      <td>Brazilian Restaurants</td>\n",
       "      <td>P_d82910d8382a83</td>\n",
       "      <td>0.000227</td>\n",
       "    </tr>\n",
       "    <tr>\n",
       "      <th>3</th>\n",
       "      <td>E_e80db432029aea</td>\n",
       "      <td>Carioca Manero</td>\n",
       "      <td>Bars</td>\n",
       "      <td>P_d82910d8382a83</td>\n",
       "      <td>0.000227</td>\n",
       "    </tr>\n",
       "    <tr>\n",
       "      <th>3</th>\n",
       "      <td>E_e80db432029aea</td>\n",
       "      <td>Carioca Manero</td>\n",
       "      <td>Snack Places</td>\n",
       "      <td>P_d82910d8382a83</td>\n",
       "      <td>0.000227</td>\n",
       "    </tr>\n",
       "    <tr>\n",
       "      <th>4</th>\n",
       "      <td>E_00001d92066153</td>\n",
       "      <td>Restaurante Casa Cofiño</td>\n",
       "      <td>Spanish Restaurants</td>\n",
       "      <td>P_809a884d4407fb</td>\n",
       "      <td>0.000106</td>\n",
       "    </tr>\n",
       "  </tbody>\n",
       "</table>\n",
       "</div>"
      ],
      "text/plain": [
       "                 id                     name             categories  \\\n",
       "0  E_000001272c6c5d     Café Stad Oudenaarde                   Bars   \n",
       "2  E_000002eae2a589           Carioca Manero  Brazilian Restaurants   \n",
       "3  E_e80db432029aea           Carioca Manero                   Bars   \n",
       "3  E_e80db432029aea           Carioca Manero           Snack Places   \n",
       "4  E_00001d92066153  Restaurante Casa Cofiño    Spanish Restaurants   \n",
       "\n",
       "  point_of_interest distances  \n",
       "0  P_677e840bb6fc7e   0.00942  \n",
       "2  P_d82910d8382a83  0.000227  \n",
       "3  P_d82910d8382a83  0.000227  \n",
       "3  P_d82910d8382a83  0.000227  \n",
       "4  P_809a884d4407fb  0.000106  "
      ]
     },
     "execution_count": 53,
     "metadata": {},
     "output_type": "execute_result"
    }
   ],
   "source": [
    "exploded = train_.explode('categories').explode('distances')\n",
    "exploded = exploded.drop_duplicates(['categories', 'point_of_interest', 'distances'])\n",
    "exploded.head()"
   ]
  },
  {
   "cell_type": "code",
   "execution_count": 54,
   "metadata": {},
   "outputs": [
    {
     "data": {
      "text/html": [
       "<div>\n",
       "<style scoped>\n",
       "    .dataframe tbody tr th:only-of-type {\n",
       "        vertical-align: middle;\n",
       "    }\n",
       "\n",
       "    .dataframe tbody tr th {\n",
       "        vertical-align: top;\n",
       "    }\n",
       "\n",
       "    .dataframe thead tr th {\n",
       "        text-align: left;\n",
       "    }\n",
       "\n",
       "    .dataframe thead tr:last-of-type th {\n",
       "        text-align: right;\n",
       "    }\n",
       "</style>\n",
       "<table border=\"1\" class=\"dataframe\">\n",
       "  <thead>\n",
       "    <tr>\n",
       "      <th></th>\n",
       "      <th colspan=\"9\" halign=\"left\">distances</th>\n",
       "      <th>id</th>\n",
       "    </tr>\n",
       "    <tr>\n",
       "      <th></th>\n",
       "      <th>max</th>\n",
       "      <th>min</th>\n",
       "      <th>mean</th>\n",
       "      <th>median</th>\n",
       "      <th>std</th>\n",
       "      <th>percentile25</th>\n",
       "      <th>percentile75</th>\n",
       "      <th>percentile90</th>\n",
       "      <th>percentile95</th>\n",
       "      <th>count</th>\n",
       "    </tr>\n",
       "    <tr>\n",
       "      <th>categories</th>\n",
       "      <th></th>\n",
       "      <th></th>\n",
       "      <th></th>\n",
       "      <th></th>\n",
       "      <th></th>\n",
       "      <th></th>\n",
       "      <th></th>\n",
       "      <th></th>\n",
       "      <th></th>\n",
       "      <th></th>\n",
       "    </tr>\n",
       "  </thead>\n",
       "  <tbody>\n",
       "    <tr>\n",
       "      <th></th>\n",
       "      <td>3.139476</td>\n",
       "      <td>0.000000</td>\n",
       "      <td>0.328330</td>\n",
       "      <td>0.030052</td>\n",
       "      <td>0.627895</td>\n",
       "      <td>0.002708</td>\n",
       "      <td>0.211639</td>\n",
       "      <td>1.371936</td>\n",
       "      <td>1.870677</td>\n",
       "      <td>542100</td>\n",
       "    </tr>\n",
       "    <tr>\n",
       "      <th>ATMs</th>\n",
       "      <td>3.059347</td>\n",
       "      <td>0.000000</td>\n",
       "      <td>0.113454</td>\n",
       "      <td>0.001559</td>\n",
       "      <td>0.388037</td>\n",
       "      <td>0.000378</td>\n",
       "      <td>0.011669</td>\n",
       "      <td>0.147516</td>\n",
       "      <td>0.863028</td>\n",
       "      <td>2690</td>\n",
       "    </tr>\n",
       "    <tr>\n",
       "      <th>Acai Houses</th>\n",
       "      <td>0.021202</td>\n",
       "      <td>0.000003</td>\n",
       "      <td>0.002201</td>\n",
       "      <td>0.000960</td>\n",
       "      <td>0.004197</td>\n",
       "      <td>0.000178</td>\n",
       "      <td>0.002147</td>\n",
       "      <td>0.004925</td>\n",
       "      <td>0.006026</td>\n",
       "      <td>27</td>\n",
       "    </tr>\n",
       "    <tr>\n",
       "      <th>Accessories Stores</th>\n",
       "      <td>2.908691</td>\n",
       "      <td>0.000000</td>\n",
       "      <td>0.190494</td>\n",
       "      <td>0.002465</td>\n",
       "      <td>0.521948</td>\n",
       "      <td>0.000469</td>\n",
       "      <td>0.050477</td>\n",
       "      <td>0.583247</td>\n",
       "      <td>1.711482</td>\n",
       "      <td>1868</td>\n",
       "    </tr>\n",
       "    <tr>\n",
       "      <th>Acehnese Restaurants</th>\n",
       "      <td>0.075329</td>\n",
       "      <td>0.000023</td>\n",
       "      <td>0.018210</td>\n",
       "      <td>0.014562</td>\n",
       "      <td>0.017227</td>\n",
       "      <td>0.003227</td>\n",
       "      <td>0.028496</td>\n",
       "      <td>0.042701</td>\n",
       "      <td>0.050414</td>\n",
       "      <td>153</td>\n",
       "    </tr>\n",
       "  </tbody>\n",
       "</table>\n",
       "</div>"
      ],
      "text/plain": [
       "                     distances                                          \\\n",
       "                           max       min      mean    median       std   \n",
       "categories                                                               \n",
       "                      3.139476  0.000000  0.328330  0.030052  0.627895   \n",
       "ATMs                  3.059347  0.000000  0.113454  0.001559  0.388037   \n",
       "Acai Houses           0.021202  0.000003  0.002201  0.000960  0.004197   \n",
       "Accessories Stores    2.908691  0.000000  0.190494  0.002465  0.521948   \n",
       "Acehnese Restaurants  0.075329  0.000023  0.018210  0.014562  0.017227   \n",
       "\n",
       "                                                                          \\\n",
       "                     percentile25 percentile75 percentile90 percentile95   \n",
       "categories                                                                 \n",
       "                         0.002708     0.211639     1.371936     1.870677   \n",
       "ATMs                     0.000378     0.011669     0.147516     0.863028   \n",
       "Acai Houses              0.000178     0.002147     0.004925     0.006026   \n",
       "Accessories Stores       0.000469     0.050477     0.583247     1.711482   \n",
       "Acehnese Restaurants     0.003227     0.028496     0.042701     0.050414   \n",
       "\n",
       "                          id  \n",
       "                       count  \n",
       "categories                    \n",
       "                      542100  \n",
       "ATMs                    2690  \n",
       "Acai Houses               27  \n",
       "Accessories Stores      1868  \n",
       "Acehnese Restaurants     153  "
      ]
     },
     "execution_count": 54,
     "metadata": {},
     "output_type": "execute_result"
    }
   ],
   "source": [
    "def percentile25(x):\n",
    "    return np.percentile(x, q=25)\n",
    "def percentile75(x):\n",
    "    return np.percentile(x, q=75)\n",
    "def percentile90(x):\n",
    "    return np.percentile(x, q=90)\n",
    "def percentile95(x):\n",
    "    return np.percentile(x, q=95)\n",
    "\n",
    "\n",
    "aggregated_df = exploded.groupby(\"categories\").agg({\n",
    "    \"distances\": [\"max\", \"min\", \"mean\", \"median\", \"std\", \n",
    "                  percentile25, percentile75, percentile90, percentile95],\n",
    "    \"id\": \"count\"\n",
    "})\n",
    "\n",
    "aggregated_df.head()"
   ]
  },
  {
   "cell_type": "code",
   "execution_count": 58,
   "metadata": {},
   "outputs": [],
   "source": [
    "aggregated_df.columns = ['max', 'min', 'mean', 'median', 'std',\n",
    "                         'percentile25', 'percentile75', 'percentile90', 'percentile95', 'count']"
   ]
  },
  {
   "cell_type": "code",
   "execution_count": 63,
   "metadata": {},
   "outputs": [],
   "source": [
    "aggregated_df.to_csv(OUTPUT_DIR + 'prep/' + exp_name + '/distance_dist.csv')"
   ]
  }
 ],
 "metadata": {
  "interpreter": {
   "hash": "d4d1e4263499bec80672ea0156c357c1ee493ec2b1c70f0acce89fc37c4a6abe"
  },
  "kernelspec": {
   "display_name": "Python 3.8.12 ('base')",
   "language": "python",
   "name": "python3"
  },
  "language_info": {
   "codemirror_mode": {
    "name": "ipython",
    "version": 3
   },
   "file_extension": ".py",
   "mimetype": "text/x-python",
   "name": "python",
   "nbconvert_exporter": "python",
   "pygments_lexer": "ipython3",
   "version": "3.8.12"
  },
  "orig_nbformat": 4
 },
 "nbformat": 4,
 "nbformat_minor": 2
}
