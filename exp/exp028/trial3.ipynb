{
 "cells": [
  {
   "cell_type": "markdown",
   "metadata": {},
   "source": [
    "# exp027"
   ]
  },
  {
   "cell_type": "code",
   "execution_count": 21,
   "metadata": {},
   "outputs": [],
   "source": [
    "MODE = 'local_train'\n",
    "#MODE = 'kaggle_inference'"
   ]
  },
  {
   "cell_type": "code",
   "execution_count": 22,
   "metadata": {},
   "outputs": [],
   "source": [
    "exp_name = 'exp028'\n",
    "memo = ''"
   ]
  },
  {
   "cell_type": "code",
   "execution_count": 23,
   "metadata": {},
   "outputs": [
    {
     "name": "stdout",
     "output_type": "stream",
     "text": [
      "The Cython extension is already loaded. To reload it, use:\n",
      "  %reload_ext Cython\n"
     ]
    }
   ],
   "source": [
    "import os\n",
    "import sys\n",
    "import gc\n",
    "\n",
    "if MODE == 'local_train':\n",
    "    sys.path.append('/home/kaggler/.local/lib/python3.8/site-packages')\n",
    "    from dotenv import load_dotenv\n",
    "    load_dotenv\n",
    "    sys.path.append(os.getenv('UTILS_PATH'))\n",
    "    import line_notify\n",
    "    import slack_notify\n",
    "    \n",
    "if MODE == \"kaggle_inference\":\n",
    "    from cuml import ForestInference\n",
    "    import treelite\n",
    "    \n",
    "import pandas as pd\n",
    "import numpy as np\n",
    "import matplotlib.pyplot as plt; plt.style.use(\"ggplot\")\n",
    "import seaborn as sns\n",
    "from sklearn.metrics.pairwise import haversine_distances\n",
    "from sklearn.model_selection import GroupKFold, KFold, StratifiedKFold\n",
    "from sklearn.metrics import accuracy_score\n",
    "from sklearn.decomposition import TruncatedSVD\n",
    "import lightgbm as lgb\n",
    "import itertools\n",
    "from scipy.spatial.distance import canberra\n",
    "from sklearn.neighbors import KNeighborsRegressor\n",
    "import functools\n",
    "import multiprocessing\n",
    "import Levenshtein\n",
    "import difflib\n",
    "import pickle\n",
    "from tqdm import tqdm\n",
    "%load_ext Cython\n",
    "\n",
    "from transformers import DistilBertModel, DistilBertTokenizer, AutoModel, AutoTokenizer, BertTokenizer, BertModel\n",
    "from torch.utils.data import DataLoader, Dataset\n",
    "import torch.nn.functional as F\n",
    "import torch.nn as nn\n",
    "import torch\n",
    "\n",
    "from sklearn.metrics.pairwise import cosine_similarity\n",
    "from sklearn.feature_extraction.text import TfidfVectorizer"
   ]
  },
  {
   "cell_type": "code",
   "execution_count": 24,
   "metadata": {},
   "outputs": [],
   "source": [
    "# directry_setting\n",
    "if MODE == 'local_train':\n",
    "    INPUT_DIR = os.getenv('INPUT_DIR')\n",
    "    OUTPUT_DIR = os.getenv('OUTPUT_DIR')\n",
    "    MODEL_DIR = os.getenv('OUTPUT_DIR')\n",
    "    BERT_PATH_DISTILBERT_BASE_UNCASED = \"distilbert-base-uncased\"\n",
    "    BERT_PATH_DISTILBERT_BASE_MULTILINGUAL_CASED = \"distilbert-base-multilingual-cased\"\n",
    "    BERT_PATH_XLM_ROBERTA_BASE = \"xlm-roberta-base\"\n",
    "    BERT_PATH_BERT_BASE_JAPANESE = \"cl-tohoku/bert-base-japanese\"\n",
    "    BERT_PATH_BERT_BASE_JAPANESE_WHOLE_WORD_MASKING = \"cl-tohoku/bert-base-japanese-whole-word-masking\"\n",
    "    BERT_PATH_BERT_BASE_TURKISH_CASED = \"dbmdz/bert-base-turkish-cased\"\n",
    "    BERT_PATH_INDOBERT_BASE_UNCASED = \"indolem/indobert-base-uncased\"\n",
    "    BERT_PATH_BERT_BASE_TH_CASED = \"Geotrend/bert-base-th-cased\"\n",
    "    BERT_PATH_BERT_BASE_MULTILINGUAL_UNCASED = \"bert-base-multilingual-uncased\"\n",
    "\n",
    "\n",
    "    os.makedirs(OUTPUT_DIR + exp_name, exist_ok=True)\n",
    "\n",
    "elif MODE == 'kaggle_inference':\n",
    "    INPUT_DIR = '/kaggle/input/foursquare-location-matching/'\n",
    "    OUTPUT_DIR = './'\n",
    "    MODEL_DIR = f'../input/fs{exp_name}/'\n",
    "    BERT_PATH_DISTILBERT_BASE_UNCASED = \"../input/distilbertbaseuncased\"\n",
    "    BERT_PATH_DISTILBERT_BASE_MULTILINGUAL_CASED = \"\"\n",
    "    BERT_PATH_XLM_ROBERTA_BASE = \"\"\n",
    "    BERT_PATH_BERT_BASE_JAPANESE = \"\"\n",
    "    BERT_PATH_BERT_BASE_JAPANESE_WHOLE_WORD_MASKING = \"\"\n",
    "    BERT_PATH_BERT_BASE_TURKISH_CASED = \"\"\n",
    "    BERT_PATH_INDOBERT_BASE_UNCASED =  \"\"\n",
    "    BERT_PATH_BERT_BASE_TH_CASED = \"\"\n",
    "    BERT_PATH_BERT_BASE_MULTILINGUAL_UNCASED = \"\""
   ]
  },
  {
   "cell_type": "code",
   "execution_count": 25,
   "metadata": {},
   "outputs": [],
   "source": [
    "# CONFIG\n",
    "SEED = 42\n",
    "N_NEIGHBORS = 10\n",
    "N_SPLITS = 5\n",
    "PROB_TH = 0.5\n",
    "MAX_LEN = 32\n",
    "BS = 1024\n",
    "NW = 2\n",
    "SVD_N_COMP = 50"
   ]
  },
  {
   "cell_type": "code",
   "execution_count": 26,
   "metadata": {},
   "outputs": [],
   "source": [
    "class InferenceDataset(Dataset):\n",
    "    \n",
    "    def __init__(self, df, max_len, col, tokenizer):\n",
    "        super().__init__()\n",
    "        self.df = df.reset_index(drop=True)\n",
    "        self.max_len = max_len\n",
    "        self.tokenizer = tokenizer\n",
    "        self.col = col\n",
    "\n",
    "    def __getitem__(self, index):\n",
    "        row = self.df.iloc[index]\n",
    "        \n",
    "        inputs = self.tokenizer.encode_plus(\n",
    "            row[self.col],\n",
    "            None,\n",
    "            add_special_tokens=True,\n",
    "            max_length=MAX_LEN,\n",
    "            padding=\"max_length\",\n",
    "            return_token_type_ids=True,\n",
    "            truncation=True\n",
    "        )\n",
    "        ids = torch.LongTensor(inputs['input_ids'])\n",
    "        mask = torch.LongTensor(inputs['attention_mask'])\n",
    "\n",
    "        return ids, mask\n",
    "\n",
    "    def __len__(self):\n",
    "        return self.df.shape[0]\n",
    "\n",
    "def bert_inference(model, tokenizer, df, col):\n",
    "    model = model.cuda()\n",
    "    ds = InferenceDataset(df, max_len=MAX_LEN, col=col, tokenizer=tokenizer)\n",
    "    loader = DataLoader(ds, batch_size=BS, shuffle=False, num_workers=NW,\n",
    "                        pin_memory=False, drop_last=False)\n",
    "    vs = []\n",
    "    with torch.no_grad():\n",
    "        for idx, (ids, masks) in enumerate(tqdm(loader)):\n",
    "            v = model(ids.cuda(), masks.cuda()).detach().cpu().numpy()\n",
    "            vs.append(v)\n",
    "    return np.concatenate(vs)"
   ]
  },
  {
   "cell_type": "code",
   "execution_count": 27,
   "metadata": {},
   "outputs": [],
   "source": [
    "def add_bert_similarity(df, col, model_name):\n",
    "    df_ = pd.concat([df[col], df[\"match_\" + col]]).drop_duplicates().to_frame()\n",
    "    df_ = df_.reset_index(drop=True)\n",
    "    df_.columns = [col]\n",
    "    \n",
    "    if model_name == \"distilbert-base-uncased\":\n",
    "        model = DistilBertCat2VecModel(BERT_PATH_DISTILBERT_BASE_UNCASED)\n",
    "        tokenizer = DistilBertTokenizer.from_pretrained(BERT_PATH_DISTILBERT_BASE_UNCASED, do_lower_case=True)\n",
    "\n",
    "    if model_name == \"distilbert-base-multilingual-cased\":\n",
    "        model = DistilBertCat2VecModel(BERT_PATH_DISTILBERT_BASE_MULTILINGUAL_CASED)\n",
    "        tokenizer = DistilBertTokenizer.from_pretrained(BERT_PATH_DISTILBERT_BASE_MULTILINGUAL_CASED, do_lower_case=True)\n",
    "\n",
    "    if model_name == \"xlm-roberta-base\":\n",
    "        model = XlmRobertaCat2VecModel(BERT_PATH_XLM_ROBERTA_BASE)\n",
    "        tokenizer = AutoTokenizer.from_pretrained(BERT_PATH_XLM_ROBERTA_BASE)\n",
    "\n",
    "    if model_name == \"bert_base_japanese\":\n",
    "        model = BertCat2VecModel(BERT_PATH_BERT_BASE_JAPANESE)\n",
    "        tokenizer = BertTokenizer.from_pretrained(BERT_PATH_BERT_BASE_JAPANESE)\n",
    "\n",
    "    if model_name == \"bert-base-japanese-whole-word-masking\":\n",
    "        model = BertCat2VecModel(BERT_PATH_BERT_BASE_JAPANESE_WHOLE_WORD_MASKING)\n",
    "        tokenizer = BertTokenizer.from_pretrained(BERT_PATH_BERT_BASE_JAPANESE_WHOLE_WORD_MASKING)\n",
    "\n",
    "    if model_name == \"bert-base-turkish-cased\":\n",
    "        model = BertCat2VecModel(BERT_PATH_BERT_BASE_TURKISH_CASED)\n",
    "        tokenizer = BertTokenizer.from_pretrained(BERT_PATH_BERT_BASE_TURKISH_CASED)\n",
    "\n",
    "    if model_name == \"indobert-base-uncased\":\n",
    "        model = BertCat2VecModel(BERT_PATH_INDOBERT_BASE_UNCASED)\n",
    "        tokenizer = BertTokenizer.from_pretrained(BERT_PATH_INDOBERT_BASE_UNCASED)\n",
    "\n",
    "    if model_name == \"bert-base-th-cased\":\n",
    "        model = BertCat2VecModel(BERT_PATH_BERT_BASE_TH_CASED)\n",
    "        tokenizer = BertTokenizer.from_pretrained(BERT_PATH_BERT_BASE_TH_CASED)\n",
    "\n",
    "    if model_name == \"bert-base-multilingual-uncased\":\n",
    "        model = BertCat2VecModel(BERT_PATH_BERT_BASE_MULTILINGUAL_UNCASED)\n",
    "        tokenizer = BertTokenizer.from_pretrained(BERT_PATH_BERT_BASE_MULTILINGUAL_UNCASED)\n",
    "        \n",
    "    V = bert_inference(model, tokenizer, df_, col)\n",
    "    V = V.astype(\"float16\")\n",
    "    bert_vec = {k:v for k,v in zip(df_[col].values, V)}\n",
    "\n",
    "    sim_list = []\n",
    "    for str1, str2 in tqdm(df[[f\"{col}\", f\"match_{col}\"]].values.astype(str)):\n",
    "        if str1!=\"nan\" and str2!=\"nan\":\n",
    "            sim = cosine_similarity(bert_vec[str1].reshape(1, -1), bert_vec[str2].reshape(1, -1))[0][0]\n",
    "        else:\n",
    "            sim = -1\n",
    "        sim_list.append(sim)\n",
    "    df[f\"bert_sim_{col}\"] = sim_list\n",
    "    df[f\"bert_sim_{col}\"] = df[f\"bert_sim_{col}\"].astype(np.float16)\n",
    "    return df"
   ]
  },
  {
   "cell_type": "code",
   "execution_count": 28,
   "metadata": {},
   "outputs": [],
   "source": [
    "class DistilBertCat2VecModel(nn.Module):\n",
    "    def __init__(self, bert_model):\n",
    "        super(DistilBertCat2VecModel, self).__init__()\n",
    "        self.distill_bert = DistilBertModel.from_pretrained(bert_model)\n",
    "        \n",
    "    def forward(self, ids, mask):\n",
    "        x = self.distill_bert(ids, mask)[0]\n",
    "        x = F.normalize((x[:, 1:, :]*mask[:, 1:, None]).mean(axis=1))\n",
    "        return x\n",
    "\n",
    "class XlmRobertaCat2VecModel(nn.Module):\n",
    "    def __init__(self, bert_model):\n",
    "        super(XlmRobertaCat2VecModel, self).__init__()\n",
    "        self.backbone = AutoModel.from_pretrained(bert_model)\n",
    "        \n",
    "    def forward(self, ids, mask):\n",
    "        x = self.backbone(ids, mask)[0]\n",
    "        x = F.normalize((x[:, 1:, :]*mask[:, 1:, None]).mean(axis=1))\n",
    "        return x\n",
    "\n",
    "class BertCat2VecModel(nn.Module):\n",
    "    def __init__(self, bert_model):\n",
    "        super(BertCat2VecModel, self).__init__()\n",
    "        self.backbone = BertModel.from_pretrained(bert_model)\n",
    "        \n",
    "    def forward(self, ids, mask):\n",
    "        x = self.backbone(ids, mask)[0]\n",
    "        x = F.normalize((x[:, 1:, :]*mask[:, 1:, None]).mean(axis=1))\n",
    "        return x\n"
   ]
  },
  {
   "cell_type": "code",
   "execution_count": 29,
   "metadata": {},
   "outputs": [],
   "source": [
    "def make_tfidf_vec(df, col):\n",
    "    df_ = pd.concat([df[col], df[\"match_\" + col]]).drop_duplicates().to_frame()\n",
    "    df_ = df_.reset_index(drop=True)\n",
    "    df_.columns = [col]\n",
    "\n",
    "    tfidf_vectorizer = TfidfVectorizer(ngram_range=(1,2), stop_words='english')\n",
    "    tfidf_vec = tfidf_vectorizer.fit_transform(df_[col].tolist())\n",
    "    #svd = TruncatedSVD(n_components=SVD_N_COMP, random_state=SEED)\n",
    "    #tfidf_vec = svd.fit_transform(tfidf_vec)\n",
    "    tfidf_vec = {k:v for k,v in zip(df_[col].values, tfidf_vec)}\n",
    "    return tfidf_vec"
   ]
  },
  {
   "cell_type": "code",
   "execution_count": 30,
   "metadata": {},
   "outputs": [],
   "source": [
    "def add_vec_sim_features(df, vec, vec_name, col):\n",
    "    sim_list = []\n",
    "    for str1, str2 in tqdm(df[[f\"{col}\", f\"match_{col}\"]].values.astype(str)):\n",
    "        if str1!=\"nan\" and str2!=\"nan\":\n",
    "            sim = cosine_similarity(vec[str1].reshape(1, -1), vec[str2].reshape(1, -1))[0][0]\n",
    "        else:\n",
    "            sim = -1\n",
    "        sim_list.append(sim)\n",
    "    df[f\"{vec_name}_sim_{col}\"] = sim_list\n",
    "    df[f\"{vec_name}_sim_{col}\"] = df[f\"{vec_name}_sim_{col}\"].astype(np.float16)\n",
    "    return df"
   ]
  },
  {
   "cell_type": "code",
   "execution_count": 31,
   "metadata": {},
   "outputs": [],
   "source": [
    "train = pd.read_csv(OUTPUT_DIR + 'exp027/first_stage_data.csv', usecols=[\"name\", \"match_name\", \"country\", \"point_of_interest\", \"match_point_of_interest\"])\n",
    "train['target'] = (train['point_of_interest'] == train['match_point_of_interest']).values.astype(int)\n",
    "train[\"target\"] = train[\"target\"].fillna(0)"
   ]
  },
  {
   "cell_type": "code",
   "execution_count": 32,
   "metadata": {},
   "outputs": [
    {
     "data": {
      "text/plain": [
       "us    2209034\n",
       "tr    1036621\n",
       "id     997193\n",
       "jp     630288\n",
       "th     529272\n",
       "ru     513270\n",
       "br     461169\n",
       "my     416934\n",
       "be     232392\n",
       "gb     229896\n",
       "ph     199620\n",
       "mx     192564\n",
       "sg     189045\n",
       "kr     171783\n",
       "de     160317\n",
       "fr     127566\n",
       "es     116307\n",
       "ca     107343\n",
       "it     102555\n",
       "sa      97803\n",
       "Name: country, dtype: int64"
      ]
     },
     "execution_count": 32,
     "metadata": {},
     "output_type": "execute_result"
    }
   ],
   "source": [
    "train[\"country\"].value_counts().head(20)"
   ]
  },
  {
   "cell_type": "code",
   "execution_count": 33,
   "metadata": {},
   "outputs": [],
   "source": [
    "#train = train[train[\"country\"].isin([\"us\", \"tr\", \"id\", \"jp\", \"th\"])].copy()\n",
    "#train = train[train[\"name\"]!=train[\"match_name\"]].copy()\n",
    "#train = train.reset_index(drop=True)\n",
    "train[\"name\"] = train[\"name\"].astype(str)\n",
    "train[\"match_name\"] = train[\"match_name\"].astype(str)"
   ]
  },
  {
   "cell_type": "code",
   "execution_count": 34,
   "metadata": {},
   "outputs": [],
   "source": [
    "import pykakasi\n",
    "def convert_japanese_alphabet(df: pd.DataFrame):\n",
    "    kakasi = pykakasi.kakasi()\n",
    "    kakasi.setMode('H', 'a')  # Convert Hiragana into alphabet\n",
    "    kakasi.setMode('K', 'a')  # Convert Katakana into alphabet\n",
    "    kakasi.setMode('J', 'a')  # Convert Kanji into alphabet\n",
    "    conversion = kakasi.getConverter()\n",
    "\n",
    "    def convert(row):\n",
    "        for column in [\"name\", \"match_name\"]:\n",
    "            try:\n",
    "                row[column] = conversion.do(row[column])\n",
    "            except:\n",
    "                pass\n",
    "        return row\n",
    "\n",
    "    df[df[\"country\"] == \"jp\"] = df[df[\"country\"] == \"jp\"].apply(convert, axis=1)\n",
    "    return df"
   ]
  },
  {
   "cell_type": "code",
   "execution_count": 35,
   "metadata": {},
   "outputs": [],
   "source": [
    "#train = convert_japanese_alphabet(train)"
   ]
  },
  {
   "cell_type": "code",
   "execution_count": 36,
   "metadata": {},
   "outputs": [],
   "source": [
    "from unidecode import unidecode\n",
    "#train.loc[train[\"country\"]!=\"jp\", \"name\"] = train.loc[train[\"country\"]!=\"jp\", \"name\"].apply(unidecode)\n",
    "#train.loc[train[\"country\"]!=\"jp\", \"match_name\"] = train.loc[train[\"country\"]!=\"jp\", \"match_name\"].apply(unidecode)"
   ]
  },
  {
   "cell_type": "code",
   "execution_count": 37,
   "metadata": {},
   "outputs": [],
   "source": [
    "def show_hist(df, title):\n",
    "    plt.hist(df.loc[df[\"target\"]==0, \"tfidf_sim_name\"], color=\"blue\", label=\"target=0\", bins=40, alpha=0.8, density=True)\n",
    "    plt.hist(df.loc[df[\"target\"]==1, \"tfidf_sim_name\"], color=\"red\", label=\"target=1\", bins=40, alpha=0.8, density=True)\n",
    "    plt.legend()\n",
    "    plt.xlim(0,1)\n",
    "    plt.title(title)\n",
    "    plt.savefig(OUTPUT_DIR + exp_name + \"/\" + title + \".png\")\n",
    "    plt.show()"
   ]
  },
  {
   "cell_type": "code",
   "execution_count": 38,
   "metadata": {},
   "outputs": [],
   "source": [
    "from sklearn.metrics import f1_score\n",
    "def calc_score(df):\n",
    "    best_score = 0\n",
    "    best_th = np.nan\n",
    "\n",
    "    for th in [0.1,0.2,0.3,0.4,0.5,0.6,0.7,0.8,0.9]:\n",
    "        df[\"pred\"] = np.nan\n",
    "        df.loc[df[\"tfidf_sim_name\"]>th, \"pred\"] = 1\n",
    "        df[\"pred\"] = df[\"pred\"].fillna(0)\n",
    "        score = f1_score(df[\"target\"], df[\"pred\"]).astype(\"float16\")\n",
    "\n",
    "        if score > best_score:\n",
    "            best_score = score\n",
    "            best_th = th\n",
    "    \n",
    "    return best_th, best_score"
   ]
  },
  {
   "cell_type": "code",
   "execution_count": 39,
   "metadata": {},
   "outputs": [
    {
     "data": {
      "text/html": [
       "<div>\n",
       "<style scoped>\n",
       "    .dataframe tbody tr th:only-of-type {\n",
       "        vertical-align: middle;\n",
       "    }\n",
       "\n",
       "    .dataframe tbody tr th {\n",
       "        vertical-align: top;\n",
       "    }\n",
       "\n",
       "    .dataframe thead th {\n",
       "        text-align: right;\n",
       "    }\n",
       "</style>\n",
       "<table border=\"1\" class=\"dataframe\">\n",
       "  <thead>\n",
       "    <tr style=\"text-align: right;\">\n",
       "      <th></th>\n",
       "      <th>name</th>\n",
       "      <th>country</th>\n",
       "      <th>point_of_interest</th>\n",
       "      <th>match_name</th>\n",
       "      <th>match_point_of_interest</th>\n",
       "      <th>target</th>\n",
       "    </tr>\n",
       "  </thead>\n",
       "  <tbody>\n",
       "    <tr>\n",
       "      <th>0</th>\n",
       "      <td>mamá maría</td>\n",
       "      <td>ad</td>\n",
       "      <td>P_a12b9416902417</td>\n",
       "      <td>mamá maría</td>\n",
       "      <td>P_a12b9416902417</td>\n",
       "      <td>1</td>\n",
       "    </tr>\n",
       "    <tr>\n",
       "      <th>1</th>\n",
       "      <td>ahotels piolets park &amp; spa</td>\n",
       "      <td>ad</td>\n",
       "      <td>P_9299650d4117cd</td>\n",
       "      <td>mamá maría</td>\n",
       "      <td>P_a12b9416902417</td>\n",
       "      <td>0</td>\n",
       "    </tr>\n",
       "    <tr>\n",
       "      <th>2</th>\n",
       "      <td>la borda xica</td>\n",
       "      <td>ad</td>\n",
       "      <td>P_ab8804cceda471</td>\n",
       "      <td>mamá maría</td>\n",
       "      <td>P_a12b9416902417</td>\n",
       "      <td>0</td>\n",
       "    </tr>\n",
       "    <tr>\n",
       "      <th>3</th>\n",
       "      <td>escola de esquí el forn de canillo, grandvalira</td>\n",
       "      <td>ad</td>\n",
       "      <td>P_8a1a127b787fbe</td>\n",
       "      <td>mamá maría</td>\n",
       "      <td>P_a12b9416902417</td>\n",
       "      <td>0</td>\n",
       "    </tr>\n",
       "    <tr>\n",
       "      <th>4</th>\n",
       "      <td>pic negre 11</td>\n",
       "      <td>ad</td>\n",
       "      <td>P_15f4dafd9cc0f4</td>\n",
       "      <td>mamá maría</td>\n",
       "      <td>P_a12b9416902417</td>\n",
       "      <td>0</td>\n",
       "    </tr>\n",
       "    <tr>\n",
       "      <th>...</th>\n",
       "      <td>...</td>\n",
       "      <td>...</td>\n",
       "      <td>...</td>\n",
       "      <td>...</td>\n",
       "      <td>...</td>\n",
       "      <td>...</td>\n",
       "    </tr>\n",
       "    <tr>\n",
       "      <th>10248608</th>\n",
       "      <td>victoria falls national park</td>\n",
       "      <td>zw</td>\n",
       "      <td>P_10bb0c5301aede</td>\n",
       "      <td>pelos</td>\n",
       "      <td>P_cb260ef030108c</td>\n",
       "      <td>0</td>\n",
       "    </tr>\n",
       "    <tr>\n",
       "      <th>10248609</th>\n",
       "      <td>avondale shopping center</td>\n",
       "      <td>zw</td>\n",
       "      <td>P_74d41fed77a422</td>\n",
       "      <td>pelos</td>\n",
       "      <td>P_cb260ef030108c</td>\n",
       "      <td>0</td>\n",
       "    </tr>\n",
       "    <tr>\n",
       "      <th>10248610</th>\n",
       "      <td>pelos</td>\n",
       "      <td>zw</td>\n",
       "      <td>P_cb260ef030108c</td>\n",
       "      <td>apple avondale</td>\n",
       "      <td>P_6d0759f3b47ee2</td>\n",
       "      <td>0</td>\n",
       "    </tr>\n",
       "    <tr>\n",
       "      <th>10248611</th>\n",
       "      <td>victoria falls national park</td>\n",
       "      <td>zw</td>\n",
       "      <td>P_10bb0c5301aede</td>\n",
       "      <td>apple avondale</td>\n",
       "      <td>P_6d0759f3b47ee2</td>\n",
       "      <td>0</td>\n",
       "    </tr>\n",
       "    <tr>\n",
       "      <th>10248612</th>\n",
       "      <td>avondale shopping center</td>\n",
       "      <td>zw</td>\n",
       "      <td>P_74d41fed77a422</td>\n",
       "      <td>apple avondale</td>\n",
       "      <td>P_6d0759f3b47ee2</td>\n",
       "      <td>0</td>\n",
       "    </tr>\n",
       "  </tbody>\n",
       "</table>\n",
       "<p>10248613 rows × 6 columns</p>\n",
       "</div>"
      ],
      "text/plain": [
       "                                                     name country  \\\n",
       "0                                              mamá maría      ad   \n",
       "1                              ahotels piolets park & spa      ad   \n",
       "2                                           la borda xica      ad   \n",
       "3         escola de esquí el forn de canillo, grandvalira      ad   \n",
       "4                                            pic negre 11      ad   \n",
       "...                                                   ...     ...   \n",
       "10248608                     victoria falls national park      zw   \n",
       "10248609                         avondale shopping center      zw   \n",
       "10248610                                            pelos      zw   \n",
       "10248611                     victoria falls national park      zw   \n",
       "10248612                         avondale shopping center      zw   \n",
       "\n",
       "         point_of_interest      match_name match_point_of_interest  target  \n",
       "0         P_a12b9416902417      mamá maría        P_a12b9416902417       1  \n",
       "1         P_9299650d4117cd      mamá maría        P_a12b9416902417       0  \n",
       "2         P_ab8804cceda471      mamá maría        P_a12b9416902417       0  \n",
       "3         P_8a1a127b787fbe      mamá maría        P_a12b9416902417       0  \n",
       "4         P_15f4dafd9cc0f4      mamá maría        P_a12b9416902417       0  \n",
       "...                    ...             ...                     ...     ...  \n",
       "10248608  P_10bb0c5301aede           pelos        P_cb260ef030108c       0  \n",
       "10248609  P_74d41fed77a422           pelos        P_cb260ef030108c       0  \n",
       "10248610  P_cb260ef030108c  apple avondale        P_6d0759f3b47ee2       0  \n",
       "10248611  P_10bb0c5301aede  apple avondale        P_6d0759f3b47ee2       0  \n",
       "10248612  P_74d41fed77a422  apple avondale        P_6d0759f3b47ee2       0  \n",
       "\n",
       "[10248613 rows x 6 columns]"
      ]
     },
     "execution_count": 39,
     "metadata": {},
     "output_type": "execute_result"
    }
   ],
   "source": [
    "train"
   ]
  },
  {
   "cell_type": "code",
   "execution_count": 40,
   "metadata": {},
   "outputs": [
    {
     "name": "stderr",
     "output_type": "stream",
     "text": [
      "100%|██████████| 2142668/2142668 [16:17<00:00, 2191.70it/s]\n"
     ]
    },
    {
     "data": {
      "image/png": "[encoded data removed]",
      "text/plain": [
       "<Figure size 432x288 with 1 Axes>"
      ]
     },
     "metadata": {},
     "output_type": "display_data"
    },
    {
     "name": "stderr",
     "output_type": "stream",
     "text": [
      "100%|██████████| 1019196/1019196 [06:56<00:00, 2448.83it/s]\n"
     ]
    },
    {
     "data": {
      "image/png": "[encoded data removed]",
      "text/plain": [
       "<Figure size 432x288 with 1 Axes>"
      ]
     },
     "metadata": {},
     "output_type": "display_data"
    },
    {
     "name": "stderr",
     "output_type": "stream",
     "text": [
      "100%|██████████| 983431/983431 [06:35<00:00, 2484.54it/s]\n"
     ]
    },
    {
     "data": {
      "image/png": "[encoded data removed]",
      "text/plain": [
       "<Figure size 432x288 with 1 Axes>"
      ]
     },
     "metadata": {},
     "output_type": "display_data"
    },
    {
     "name": "stderr",
     "output_type": "stream",
     "text": [
      "100%|██████████| 620433/620433 [04:00<00:00, 2574.66it/s]\n"
     ]
    },
    {
     "data": {
      "image/png": "[encoded data removed]",
      "text/plain": [
       "<Figure size 432x288 with 1 Axes>"
      ]
     },
     "metadata": {},
     "output_type": "display_data"
    },
    {
     "name": "stderr",
     "output_type": "stream",
     "text": [
      "100%|██████████| 525282/525282 [03:25<00:00, 2560.88it/s]\n"
     ]
    },
    {
     "data": {
      "image/png": "[encoded data removed]",
      "text/plain": [
       "<Figure size 432x288 with 1 Axes>"
      ]
     },
     "metadata": {},
     "output_type": "display_data"
    }
   ],
   "source": [
    "result_countries = []\n",
    "result_ths = []\n",
    "result_scores = []\n",
    "\n",
    "countries = [\"us\", \"tr\", \"id\", \"jp\", \"th\"]\n",
    "\n",
    "type_ = \"indi\"\n",
    "\n",
    "train = train[train[\"country\"].isin([\"us\", \"tr\", \"id\", \"jp\", \"th\"])].copy()\n",
    "train = train[train[\"name\"]!=train[\"match_name\"]].copy()\n",
    "train = train.reset_index(drop=True)\n",
    "\n",
    "for country in countries:\n",
    "    tmp = train[train[\"country\"]==country].copy()\n",
    "    vec = make_tfidf_vec(tmp, \"name\")\n",
    "    tmp = add_vec_sim_features(tmp, vec, \"tfidf\", \"name\")\n",
    "    show_hist(tmp, f\"{country}_{type_}\")\n",
    "    best_th, best_score = calc_score(tmp)\n",
    "    result_countries.append(country)\n",
    "    result_ths.append(best_th)\n",
    "    result_scores.append(best_score)\n",
    "\n",
    "#train = train.drop(columns=[\"tfidf_sim_name\"])\n",
    "\n",
    "result = pd.DataFrame()\n",
    "result[\"country\"] = result_countries\n",
    "result[\"best_th\"] = result_ths\n",
    "result[\"best_score\"] = result_scores\n",
    "result[\"type\"] = type_"
   ]
  },
  {
   "cell_type": "code",
   "execution_count": 41,
   "metadata": {},
   "outputs": [
    {
     "data": {
      "text/html": [
       "<div>\n",
       "<style scoped>\n",
       "    .dataframe tbody tr th:only-of-type {\n",
       "        vertical-align: middle;\n",
       "    }\n",
       "\n",
       "    .dataframe tbody tr th {\n",
       "        vertical-align: top;\n",
       "    }\n",
       "\n",
       "    .dataframe thead th {\n",
       "        text-align: right;\n",
       "    }\n",
       "</style>\n",
       "<table border=\"1\" class=\"dataframe\">\n",
       "  <thead>\n",
       "    <tr style=\"text-align: right;\">\n",
       "      <th></th>\n",
       "      <th>country</th>\n",
       "      <th>best_th</th>\n",
       "      <th>best_score</th>\n",
       "      <th>type</th>\n",
       "    </tr>\n",
       "  </thead>\n",
       "  <tbody>\n",
       "    <tr>\n",
       "      <th>0</th>\n",
       "      <td>us</td>\n",
       "      <td>0.2</td>\n",
       "      <td>0.571289</td>\n",
       "      <td>indi</td>\n",
       "    </tr>\n",
       "    <tr>\n",
       "      <th>1</th>\n",
       "      <td>tr</td>\n",
       "      <td>0.2</td>\n",
       "      <td>0.580566</td>\n",
       "      <td>indi</td>\n",
       "    </tr>\n",
       "    <tr>\n",
       "      <th>2</th>\n",
       "      <td>id</td>\n",
       "      <td>0.2</td>\n",
       "      <td>0.575195</td>\n",
       "      <td>indi</td>\n",
       "    </tr>\n",
       "    <tr>\n",
       "      <th>3</th>\n",
       "      <td>jp</td>\n",
       "      <td>0.1</td>\n",
       "      <td>0.436279</td>\n",
       "      <td>indi</td>\n",
       "    </tr>\n",
       "    <tr>\n",
       "      <th>4</th>\n",
       "      <td>th</td>\n",
       "      <td>0.1</td>\n",
       "      <td>0.527344</td>\n",
       "      <td>indi</td>\n",
       "    </tr>\n",
       "  </tbody>\n",
       "</table>\n",
       "</div>"
      ],
      "text/plain": [
       "  country  best_th  best_score  type\n",
       "0      us      0.2    0.571289  indi\n",
       "1      tr      0.2    0.580566  indi\n",
       "2      id      0.2    0.575195  indi\n",
       "3      jp      0.1    0.436279  indi\n",
       "4      th      0.1    0.527344  indi"
      ]
     },
     "execution_count": 41,
     "metadata": {},
     "output_type": "execute_result"
    }
   ],
   "source": [
    "result.to_csv(OUTPUT_DIR + f\"{exp_name}/result3.csv\", index=False)\n",
    "result.head(20)"
   ]
  }
 ],
 "metadata": {
  "interpreter": {
   "hash": "d4d1e4263499bec80672ea0156c357c1ee493ec2b1c70f0acce89fc37c4a6abe"
  },
  "kernelspec": {
   "display_name": "Python 3.8.12 ('base')",
   "language": "python",
   "name": "python3"
  },
  "language_info": {
   "codemirror_mode": {
    "name": "ipython",
    "version": 3
   },
   "file_extension": ".py",
   "mimetype": "text/x-python",
   "name": "python",
   "nbconvert_exporter": "python",
   "pygments_lexer": "ipython3",
   "version": "3.8.12"
  },
  "orig_nbformat": 4
 },
 "nbformat": 4,
 "nbformat_minor": 2
}
