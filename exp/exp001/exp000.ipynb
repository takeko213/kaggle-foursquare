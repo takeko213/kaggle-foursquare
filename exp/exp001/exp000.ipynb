{
 "cells": [
  {
   "cell_type": "markdown",
   "metadata": {},
   "source": [
    "# exp001"
   ]
  },
  {
   "cell_type": "code",
   "execution_count": 2,
   "metadata": {},
   "outputs": [],
   "source": [
    "import os\n",
    "import sys\n",
    "import gc\n",
    "sys.path.append('/home/kaggler/.local/lib/python3.8/site-packages')\n",
    "from dotenv import load_dotenv\n",
    "load_dotenv\n",
    "sys.path.append(os.getenv('UTILS_PATH'))\n",
    "import pandas as pd\n",
    "import numpy as np\n",
    "import matplotlib.pyplot as plt; plt.style.use(\"ggplot\")\n",
    "import seaborn as sns\n",
    "from sklearn.metrics.pairwise import haversine_distances\n",
    "from sklearn.model_selection import GroupKFold, KFold, StratifiedKFold\n",
    "from sklearn.metrics import accuracy_score\n",
    "import lightgbm as lgb\n",
    "import itertools\n",
    "from tqdm import tqdm\n",
    "from scipy.spatial.distance import canberra\n",
    "from sklearn.neighbors import KNeighborsRegressor\n",
    "import multiprocessing\n",
    "import Levenshtein\n",
    "import difflib\n",
    "import pickle"
   ]
  },
  {
   "cell_type": "code",
   "execution_count": 3,
   "metadata": {},
   "outputs": [],
   "source": [
    "import builtins\n",
    "import types\n",
    "\n",
    "def imports():\n",
    "    for name, val in globals().items():\n",
    "        # module imports\n",
    "        if isinstance(val, types.ModuleType):\n",
    "            yield name, val\n",
    "\n",
    "            # functions / callables\n",
    "        if hasattr(val, '__call__'):\n",
    "            yield name, val\n",
    "\n",
    "\n",
    "def noglobal(f):\n",
    "    '''\n",
    "    ref: https://gist.github.com/raven38/4e4c3c7a179283c441f575d6e375510c\n",
    "    '''\n",
    "    return types.FunctionType(f.__code__,\n",
    "                              dict(imports()),\n",
    "                              f.__name__,\n",
    "                              f.__defaults__,\n",
    "                              f.__closure__\n",
    "                              )"
   ]
  },
  {
   "cell_type": "code",
   "execution_count": 4,
   "metadata": {},
   "outputs": [],
   "source": [
    "INPUT_DIR = os.getenv('INPUT_DIR')\n",
    "OUTPUT_DIR = os.getenv('OUTPUT_DIR')\n",
    "#exp_name = os.path.dirname(__file__).split('/')[-1]\n",
    "exp_name = 'exp001'\n",
    "os.makedirs(OUTPUT_DIR + exp_name, exist_ok=True)"
   ]
  },
  {
   "cell_type": "code",
   "execution_count": 5,
   "metadata": {},
   "outputs": [],
   "source": [
    "SEED = 42\n",
    "N_NEIGHBORS = 10\n",
    "N_SPLITS = 5\n",
    "PROB_TH = 0.5\n",
    "MODE = 'train'\n",
    "TARGET = 'point_of_interest'\n",
    "# MODE = 'inference'"
   ]
  },
  {
   "cell_type": "code",
   "execution_count": 6,
   "metadata": {},
   "outputs": [],
   "source": [
    "# データ読み込み\n",
    "train_origin = pd.read_csv(INPUT_DIR + \"train.csv\")\n",
    "test_origin = pd.read_csv(INPUT_DIR + \"test.csv\")"
   ]
  },
  {
   "cell_type": "code",
   "execution_count": 10,
   "metadata": {},
   "outputs": [
    {
     "data": {
      "text/plain": [
       "1.0    569406\n",
       "0.0    569406\n",
       "Name: set, dtype: int64"
      ]
     },
     "execution_count": 10,
     "metadata": {},
     "output_type": "execute_result"
    }
   ],
   "source": [
    "# trainデータの分割\n",
    "kf = GroupKFold(n_splits=2)\n",
    "for i, (trn_idx, val_idx) in enumerate(kf.split(train_origin, train_origin[TARGET], train_origin[TARGET])):\n",
    "    train_origin.loc[val_idx, \"set\"] = i\n",
    "train_origin[\"set\"].value_counts()"
   ]
  },
  {
   "cell_type": "code",
   "execution_count": 11,
   "metadata": {},
   "outputs": [
    {
     "name": "stderr",
     "output_type": "stream",
     "text": [
      "/tmp/ipykernel_1107/1392210634.py:8: SettingWithCopyWarning: \n",
      "A value is trying to be set on a copy of a slice from a DataFrame.\n",
      "Try using .loc[row_indexer,col_indexer] = value instead\n",
      "\n",
      "See the caveats in the documentation: https://pandas.pydata.org/pandas-docs/stable/user_guide/indexing.html#returning-a-view-versus-a-copy\n",
      "  df[c] = df[c].astype(str).str.lower()\n",
      "100%|██████████| 210/210 [00:53<00:00,  3.91it/s]\n",
      "/tmp/ipykernel_1107/1392210634.py:8: SettingWithCopyWarning: \n",
      "A value is trying to be set on a copy of a slice from a DataFrame.\n",
      "Try using .loc[row_indexer,col_indexer] = value instead\n",
      "\n",
      "See the caveats in the documentation: https://pandas.pydata.org/pandas-docs/stable/user_guide/indexing.html#returning-a-view-versus-a-copy\n",
      "  df[c] = df[c].astype(str).str.lower()\n",
      "100%|██████████| 211/211 [00:55<00:00,  3.81it/s]\n"
     ]
    }
   ],
   "source": [
    "# candidate抽出\n",
    "def add_neighbor_features(df):\n",
    "    dfs = []\n",
    "    columns = ['id', 'name', 'address', 'city', 'state',\n",
    "           'zip', 'country', 'url', 'phone', 'categories']\n",
    "    for c in columns:\n",
    "        if c != \"id\":\n",
    "            df[c] = df[c].astype(str).str.lower()\n",
    "\n",
    "    candidates = pd.DataFrame()\n",
    "    for country, country_df in tqdm(df.groupby(\"country\")):\n",
    "        country_df = country_df.reset_index(drop=True)\n",
    "        \n",
    "        knn = KNeighborsRegressor(n_neighbors=min(len(country_df), N_NEIGHBORS), \n",
    "                                  metric='haversine', n_jobs=-1)\n",
    "        knn.fit(country_df[['latitude','longitude']], country_df.index)\n",
    "        dists, nears = knn.kneighbors(country_df[['latitude','longitude']], return_distance=True)\n",
    "\n",
    "        targets = country_df[TARGET].values\n",
    "        \n",
    "        k = min(len(country_df), N_NEIGHBORS)\n",
    "        country_df['match_id'] = country_df['id'].values[nears[:, :k]].tolist()\n",
    "        country_df['d_near'] = dists[:, :k].tolist()\n",
    "        dfs.append(country_df[['id','match_id','d_near']])\n",
    "    df = pd.concat(dfs).reset_index(drop=True)\n",
    "    return df\n",
    "\n",
    "train = pd.concat([\n",
    "    add_neighbor_features(train_origin[train_origin[\"set\"]==0]), \n",
    "    add_neighbor_features(train_origin[train_origin[\"set\"]==1]), \n",
    "])"
   ]
  },
  {
   "cell_type": "code",
   "execution_count": 12,
   "metadata": {},
   "outputs": [],
   "source": [
    "train = train.explode(['match_id','d_near'])\n",
    "train = train.loc[train['id'] != train['match_id']].copy()\n",
    "train = train.merge(train_origin, on='id')\n",
    "train = train.merge(train_origin.add_prefix('match_'), on='match_id')"
   ]
  },
  {
   "cell_type": "code",
   "execution_count": 13,
   "metadata": {},
   "outputs": [],
   "source": [
    "# create target\n",
    "train['target'] = (train['point_of_interest'] == train['match_point_of_interest']).values.astype(int)"
   ]
  },
  {
   "cell_type": "code",
   "execution_count": 14,
   "metadata": {},
   "outputs": [],
   "source": [
    "# https://www.kaggle.com/code/columbia2131/foursquare-iou-metrics\n",
    "def get_id2poi(input_df: pd.DataFrame) -> dict:\n",
    "    return dict(zip(input_df['id'], input_df['point_of_interest']))\n",
    "\n",
    "def get_poi2ids(input_df: pd.DataFrame) -> dict:\n",
    "    return input_df.groupby('point_of_interest')['id'].apply(set).to_dict()\n",
    "\n",
    "def get_score(input_df: pd.DataFrame):\n",
    "    scores = []\n",
    "    for id_str, matches in zip(input_df['id'].to_numpy(), input_df['matches'].to_numpy()):\n",
    "        targets = poi2ids[id2poi[id_str]]\n",
    "        preds = set(matches.split())\n",
    "        score = len((targets & preds)) / len((targets | preds))\n",
    "        scores.append(score)\n",
    "    scores = np.array(scores)\n",
    "    return scores.mean()\n",
    "\n",
    "id2poi = get_id2poi(train_origin)\n",
    "poi2ids = get_poi2ids(train_origin)"
   ]
  },
  {
   "cell_type": "code",
   "execution_count": 15,
   "metadata": {},
   "outputs": [
    {
     "name": "stdout",
     "output_type": "stream",
     "text": [
      "[0.8903997243526551]\n"
     ]
    }
   ],
   "source": [
    "scores = []\n",
    "\n",
    "train_candidate = pd.DataFrame()\n",
    "train_candidate['id'] = train_origin['id'].unique()\n",
    "train_candidate['matches'] = train_origin['id'].unique()\n",
    "idx = train[TARGET]==train[\"match_\" + TARGET]\n",
    "train_match = train.loc[idx].groupby('id')['match_id'].apply(list).map(\" \".join).reset_index()\n",
    "train_match.columns = ['id','candidates']\n",
    "train_candidate = train_candidate.merge(train_match, on = 'id', how = 'left')\n",
    "idx = ~train_candidate['candidates'].isna()\n",
    "train_candidate.loc[idx, \"matches\"] += \" \" + train_candidate.loc[idx, \"candidates\"]\n",
    "scores.append(get_score(train_candidate))\n",
    "print(scores)\n"
   ]
  },
  {
   "cell_type": "code",
   "execution_count": 16,
   "metadata": {},
   "outputs": [],
   "source": [
    "%load_ext Cython"
   ]
  },
  {
   "cell_type": "code",
   "execution_count": 17,
   "metadata": {},
   "outputs": [],
   "source": [
    "%%cython\n",
    "def LCS(str S, str T):\n",
    "    cdef int i, j\n",
    "    cdef list dp = [[0] * (len(T) + 1) for _ in range(len(S) + 1)]\n",
    "    for i in range(len(S)):\n",
    "        for j in range(len(T)):\n",
    "            dp[i + 1][j + 1] = max(dp[i][j] + (S[i] == T[j]), dp[i + 1][j], dp[i][j + 1], dp[i + 1][j + 1])\n",
    "    return dp[len(S)][len(T)]"
   ]
  },
  {
   "cell_type": "code",
   "execution_count": 18,
   "metadata": {},
   "outputs": [
    {
     "name": "stderr",
     "output_type": "stream",
     "text": [
      "212it [13:47,  3.90s/it] \n"
     ]
    }
   ],
   "source": [
    "def _add_distance_features(args):\n",
    "    _, df = args\n",
    "\n",
    "    columns = ['name', 'address', 'city', 'state',\n",
    "               'zip', 'country', 'url', 'phone', 'categories']\n",
    "\n",
    "    for c in columns:\n",
    "        geshs = []\n",
    "        levens = []\n",
    "        jaros = []\n",
    "        lcss = []\n",
    "        for str1, str2 in df[[f\"{c}\", f\"match_{c}\"]].values.astype(str):\n",
    "            if str1==str1 and str2==str2:\n",
    "                geshs.append(difflib.SequenceMatcher(None, str1, str2).ratio())\n",
    "                levens.append(Levenshtein.distance(str1, str2))\n",
    "                jaros.append(Levenshtein.jaro_winkler(str1, str2))\n",
    "                lcss.append(LCS(str(str1), str(str2)))\n",
    "            else:\n",
    "                geshs.append(-1)\n",
    "                levens.append(-1)\n",
    "                jaros.append(-1)\n",
    "        df[f\"match_{c}_gesh\"] = geshs\n",
    "        df[f\"match_{c}_leven\"] = levens\n",
    "        df[f\"match_{c}_jaro\"] = jaros\n",
    "        df[f\"match_{c}_lcs\"] = lcss\n",
    "            \n",
    "        if not c in ['country', \"phone\", \"zip\"]:\n",
    "            df[f\"match_{c}_len\"] = df[f\"match_{c}\"].astype(str).map(len)\n",
    "            df[f\"match_{c}_nleven\"] = df[f\"match_{c}_leven\"] / df[f\"match_{c}_len\"]\n",
    "            df[f\"match_{c}_nlcsi\"] = df[f\"match_{c}_lcs\"] / df[f\"match_{c}_len\"]\n",
    "    return df\n",
    "\n",
    "\n",
    "def add_distance_features(df):\n",
    "    processes = multiprocessing.cpu_count()\n",
    "    with multiprocessing.Pool(processes=processes) as pool:\n",
    "        dfs = pool.imap_unordered(_add_distance_features, df.groupby('country'))\n",
    "        dfs = tqdm(dfs)\n",
    "        dfs = list(dfs)\n",
    "    df = pd.concat(dfs)\n",
    "    return df\n",
    "\n",
    "train = add_distance_features(train)\n",
    "#test = add_distance_features(test)"
   ]
  },
  {
   "cell_type": "code",
   "execution_count": 19,
   "metadata": {},
   "outputs": [
    {
     "name": "stdout",
     "output_type": "stream",
     "text": [
      "['d_near', 'match_name_gesh', 'match_name_jaro', 'match_name_lcs', 'match_name_len', 'match_name_nleven', 'match_name_nlcsi', 'match_address_gesh', 'match_address_jaro', 'match_address_lcs', 'match_address_len', 'match_address_nleven', 'match_address_nlcsi', 'match_city_gesh', 'match_city_jaro', 'match_city_lcs', 'match_city_len', 'match_city_nleven', 'match_city_nlcsi', 'match_state_gesh', 'match_state_jaro', 'match_state_lcs', 'match_state_len', 'match_state_nleven', 'match_state_nlcsi', 'match_zip_gesh', 'match_zip_jaro', 'match_zip_lcs', 'match_zip_leven', 'match_country_gesh', 'match_country_jaro', 'match_country_lcs', 'match_country_leven', 'match_url_gesh', 'match_url_jaro', 'match_url_lcs', 'match_url_len', 'match_url_nleven', 'match_url_nlcsi', 'match_phone_gesh', 'match_phone_jaro', 'match_phone_lcs', 'match_phone_leven', 'match_categories_gesh', 'match_categories_jaro', 'match_categories_lcs', 'match_categories_len', 'match_categories_nleven', 'match_categories_nlcsi']\n"
     ]
    }
   ],
   "source": [
    "features = []\n",
    "\n",
    "columns = ['name', 'address', 'city', 'state',\n",
    "       'zip', 'country', 'url', 'phone', 'categories']\n",
    "\n",
    "features.append(\"d_near\")\n",
    "for c in columns:        \n",
    "    features += [f\"match_{c}_gesh\", f\"match_{c}_jaro\", f\"match_{c}_lcs\"]\n",
    "    if c in ['country', \"phone\", \"zip\"]:\n",
    "        features += [f\"match_{c}_leven\"]\n",
    "    else:\n",
    "        features += [f\"match_{c}_len\", f\"match_{c}_nleven\", f\"match_{c}_nlcsi\"]\n",
    "\n",
    "for f in features:\n",
    "    assert f in train.columns\n",
    "    #if f not in test.columns:\n",
    "    #    test[f] = np.nan\n",
    "\n",
    "print(features)"
   ]
  },
  {
   "cell_type": "code",
   "execution_count": 20,
   "metadata": {},
   "outputs": [],
   "source": [
    "train = train[features + [\"target\", \"id\"] + [\"match_id\"]]\n",
    "#test = test[features + [\"id\"] + [f\"near_id_{i}\" for i in range(CFG.n_neighbors)]]\n",
    "\n",
    "train[features] = train[features].astype(np.float16)\n",
    "#test[features] = test[features].astype(np.float16)\n",
    "\n",
    "train[\"target\"] = train[\"target\"].fillna(0)\n",
    "\n",
    "train.reset_index(drop=True, inplace=True)\n",
    "#test.reset_index(drop=True, inplace=True)\n",
    "\n",
    "for _ in range(5):\n",
    "    gc.collect()\n",
    "\n",
    "# train.info()"
   ]
  },
  {
   "cell_type": "code",
   "execution_count": 21,
   "metadata": {},
   "outputs": [],
   "source": [
    "# split folds\n",
    "kf = StratifiedKFold(n_splits=N_SPLITS, shuffle=True, random_state=SEED)\n",
    "for i, (trn_idx, val_idx) in enumerate(kf.split(train, train[\"target\"], train[\"target\"])):\n",
    "    train.loc[val_idx, \"fold\"] = i"
   ]
  },
  {
   "cell_type": "code",
   "execution_count": 22,
   "metadata": {},
   "outputs": [],
   "source": [
    "params = {\n",
    "     'objective': 'binary',\n",
    "     'boosting': 'gbdt',\n",
    "     'learning_rate': 0.1,\n",
    "     'metric': 'binary_logloss',\n",
    "     'seed': SEED\n",
    "}"
   ]
  },
  {
   "cell_type": "code",
   "execution_count": 23,
   "metadata": {},
   "outputs": [
    {
     "name": "stdout",
     "output_type": "stream",
     "text": [
      "fold : 0\n"
     ]
    },
    {
     "name": "stderr",
     "output_type": "stream",
     "text": [
      "/home/kaggler/.local/lib/python3.8/site-packages/lightgbm/engine.py:181: UserWarning: 'early_stopping_rounds' argument is deprecated and will be removed in a future release of LightGBM. Pass 'early_stopping()' callback via 'callbacks' argument instead.\n",
      "  _log_warning(\"'early_stopping_rounds' argument is deprecated and will be removed in a future release of LightGBM. \"\n",
      "/home/kaggler/.local/lib/python3.8/site-packages/lightgbm/engine.py:239: UserWarning: 'verbose_eval' argument is deprecated and will be removed in a future release of LightGBM. Pass 'log_evaluation()' callback via 'callbacks' argument instead.\n",
      "  _log_warning(\"'verbose_eval' argument is deprecated and will be removed in a future release of LightGBM. \"\n"
     ]
    },
    {
     "name": "stdout",
     "output_type": "stream",
     "text": [
      "[LightGBM] [Info] Number of positive: 571994, number of negative: 7626856\n",
      "[LightGBM] [Warning] Auto-choosing row-wise multi-threading, the overhead of testing was 0.395915 seconds.\n",
      "You can set `force_row_wise=true` to remove the overhead.\n",
      "And if memory is not enough, you can set `force_col_wise=true`.\n",
      "[LightGBM] [Info] Total Bins 7232\n",
      "[LightGBM] [Info] Number of data points in the train set: 8198850, number of used features: 48\n",
      "[LightGBM] [Info] [binary:BoostFromScore]: pavg=0.069765 -> initscore=-2.590302\n",
      "[LightGBM] [Info] Start training from score -2.590302\n",
      "Training until validation scores don't improve for 100 rounds\n",
      "Early stopping, best iteration is:\n",
      "[387]\ttraining's binary_logloss: 0.0848852\tvalid_1's binary_logloss: 0.0855475\n",
      "fold0 | accuracy = 0.96868\n",
      "fold : 1\n"
     ]
    },
    {
     "name": "stderr",
     "output_type": "stream",
     "text": [
      "/home/kaggler/.local/lib/python3.8/site-packages/lightgbm/engine.py:181: UserWarning: 'early_stopping_rounds' argument is deprecated and will be removed in a future release of LightGBM. Pass 'early_stopping()' callback via 'callbacks' argument instead.\n",
      "  _log_warning(\"'early_stopping_rounds' argument is deprecated and will be removed in a future release of LightGBM. \"\n",
      "/home/kaggler/.local/lib/python3.8/site-packages/lightgbm/engine.py:239: UserWarning: 'verbose_eval' argument is deprecated and will be removed in a future release of LightGBM. Pass 'log_evaluation()' callback via 'callbacks' argument instead.\n",
      "  _log_warning(\"'verbose_eval' argument is deprecated and will be removed in a future release of LightGBM. \"\n"
     ]
    },
    {
     "name": "stdout",
     "output_type": "stream",
     "text": [
      "[LightGBM] [Info] Number of positive: 571994, number of negative: 7626856\n",
      "[LightGBM] [Warning] Auto-choosing row-wise multi-threading, the overhead of testing was 0.226125 seconds.\n",
      "You can set `force_row_wise=true` to remove the overhead.\n",
      "And if memory is not enough, you can set `force_col_wise=true`.\n",
      "[LightGBM] [Info] Total Bins 7239\n",
      "[LightGBM] [Info] Number of data points in the train set: 8198850, number of used features: 48\n",
      "[LightGBM] [Info] [binary:BoostFromScore]: pavg=0.069765 -> initscore=-2.590302\n",
      "[LightGBM] [Info] Start training from score -2.590302\n",
      "Training until validation scores don't improve for 100 rounds\n",
      "Early stopping, best iteration is:\n",
      "[612]\ttraining's binary_logloss: 0.0826391\tvalid_1's binary_logloss: 0.0848846\n",
      "fold1 | accuracy = 0.96913\n",
      "fold : 2\n"
     ]
    },
    {
     "name": "stderr",
     "output_type": "stream",
     "text": [
      "/home/kaggler/.local/lib/python3.8/site-packages/lightgbm/engine.py:181: UserWarning: 'early_stopping_rounds' argument is deprecated and will be removed in a future release of LightGBM. Pass 'early_stopping()' callback via 'callbacks' argument instead.\n",
      "  _log_warning(\"'early_stopping_rounds' argument is deprecated and will be removed in a future release of LightGBM. \"\n",
      "/home/kaggler/.local/lib/python3.8/site-packages/lightgbm/engine.py:239: UserWarning: 'verbose_eval' argument is deprecated and will be removed in a future release of LightGBM. Pass 'log_evaluation()' callback via 'callbacks' argument instead.\n",
      "  _log_warning(\"'verbose_eval' argument is deprecated and will be removed in a future release of LightGBM. \"\n"
     ]
    },
    {
     "name": "stdout",
     "output_type": "stream",
     "text": [
      "[LightGBM] [Info] Number of positive: 571994, number of negative: 7626856\n",
      "[LightGBM] [Warning] Auto-choosing row-wise multi-threading, the overhead of testing was 0.226733 seconds.\n",
      "You can set `force_row_wise=true` to remove the overhead.\n",
      "And if memory is not enough, you can set `force_col_wise=true`.\n",
      "[LightGBM] [Info] Total Bins 7224\n",
      "[LightGBM] [Info] Number of data points in the train set: 8198850, number of used features: 48\n",
      "[LightGBM] [Info] [binary:BoostFromScore]: pavg=0.069765 -> initscore=-2.590302\n",
      "[LightGBM] [Info] Start training from score -2.590302\n",
      "Training until validation scores don't improve for 100 rounds\n",
      "Early stopping, best iteration is:\n",
      "[595]\ttraining's binary_logloss: 0.0824028\tvalid_1's binary_logloss: 0.0850237\n",
      "fold2 | accuracy = 0.96910\n",
      "fold : 3\n"
     ]
    },
    {
     "name": "stderr",
     "output_type": "stream",
     "text": [
      "/home/kaggler/.local/lib/python3.8/site-packages/lightgbm/engine.py:181: UserWarning: 'early_stopping_rounds' argument is deprecated and will be removed in a future release of LightGBM. Pass 'early_stopping()' callback via 'callbacks' argument instead.\n",
      "  _log_warning(\"'early_stopping_rounds' argument is deprecated and will be removed in a future release of LightGBM. \"\n",
      "/home/kaggler/.local/lib/python3.8/site-packages/lightgbm/engine.py:239: UserWarning: 'verbose_eval' argument is deprecated and will be removed in a future release of LightGBM. Pass 'log_evaluation()' callback via 'callbacks' argument instead.\n",
      "  _log_warning(\"'verbose_eval' argument is deprecated and will be removed in a future release of LightGBM. \"\n"
     ]
    },
    {
     "name": "stdout",
     "output_type": "stream",
     "text": [
      "[LightGBM] [Info] Number of positive: 571995, number of negative: 7626856\n",
      "[LightGBM] [Warning] Auto-choosing row-wise multi-threading, the overhead of testing was 0.258212 seconds.\n",
      "You can set `force_row_wise=true` to remove the overhead.\n",
      "And if memory is not enough, you can set `force_col_wise=true`.\n",
      "[LightGBM] [Info] Total Bins 7230\n",
      "[LightGBM] [Info] Number of data points in the train set: 8198851, number of used features: 48\n",
      "[LightGBM] [Info] [binary:BoostFromScore]: pavg=0.069765 -> initscore=-2.590301\n",
      "[LightGBM] [Info] Start training from score -2.590301\n",
      "Training until validation scores don't improve for 100 rounds\n",
      "Early stopping, best iteration is:\n",
      "[460]\ttraining's binary_logloss: 0.0839697\tvalid_1's binary_logloss: 0.0855727\n",
      "fold3 | accuracy = 0.96879\n",
      "fold : 4\n"
     ]
    },
    {
     "name": "stderr",
     "output_type": "stream",
     "text": [
      "/home/kaggler/.local/lib/python3.8/site-packages/lightgbm/engine.py:181: UserWarning: 'early_stopping_rounds' argument is deprecated and will be removed in a future release of LightGBM. Pass 'early_stopping()' callback via 'callbacks' argument instead.\n",
      "  _log_warning(\"'early_stopping_rounds' argument is deprecated and will be removed in a future release of LightGBM. \"\n",
      "/home/kaggler/.local/lib/python3.8/site-packages/lightgbm/engine.py:239: UserWarning: 'verbose_eval' argument is deprecated and will be removed in a future release of LightGBM. Pass 'log_evaluation()' callback via 'callbacks' argument instead.\n",
      "  _log_warning(\"'verbose_eval' argument is deprecated and will be removed in a future release of LightGBM. \"\n"
     ]
    },
    {
     "name": "stdout",
     "output_type": "stream",
     "text": [
      "[LightGBM] [Info] Number of positive: 571995, number of negative: 7626856\n",
      "[LightGBM] [Warning] Auto-choosing row-wise multi-threading, the overhead of testing was 0.249866 seconds.\n",
      "You can set `force_row_wise=true` to remove the overhead.\n",
      "And if memory is not enough, you can set `force_col_wise=true`.\n",
      "[LightGBM] [Info] Total Bins 7236\n",
      "[LightGBM] [Info] Number of data points in the train set: 8198851, number of used features: 48\n",
      "[LightGBM] [Info] [binary:BoostFromScore]: pavg=0.069765 -> initscore=-2.590301\n",
      "[LightGBM] [Info] Start training from score -2.590301\n",
      "Training until validation scores don't improve for 100 rounds\n",
      "Early stopping, best iteration is:\n",
      "[762]\ttraining's binary_logloss: 0.0813628\tvalid_1's binary_logloss: 0.0855097\n",
      "fold4 | accuracy = 0.96930\n"
     ]
    }
   ],
   "source": [
    "fi = pd.DataFrame()\n",
    "oof = train[['id', 'match_id', 'target']].copy()\n",
    "oof['prob'] = 0.0\n",
    "scores = []\n",
    "\n",
    "for i in range(N_SPLITS):\n",
    "    print('fold : ' + str(i))\n",
    "    tr_idx = train[train['fold'] != i].index\n",
    "    vl_idx = train[train['fold'] == i].index\n",
    "    tr_x, tr_y = train.loc[tr_idx, features], train.loc[tr_idx, 'target']\n",
    "    vl_x, vl_y = train.loc[vl_idx, features], train.loc[vl_idx, 'target']\n",
    "    tr_data = lgb.Dataset(tr_x, label=tr_y)\n",
    "    vl_data = lgb.Dataset(vl_x, label=vl_y)\n",
    "\n",
    "    model = lgb.train(params, tr_data, valid_sets=[tr_data, vl_data],\n",
    "                      num_boost_round=20000, early_stopping_rounds=100, verbose_eval=1000)\n",
    "\n",
    "    # 特徴量重要度\n",
    "    fi_tmp = pd.DataFrame()\n",
    "    fi_tmp['feature'] = model.feature_name()\n",
    "    fi_tmp['importance'] = model.feature_importance(importance_type='gain')\n",
    "    fi_tmp['iter'] = i\n",
    "    fi = fi.append(fi_tmp)\n",
    "\n",
    "    pred = model.predict(vl_x, num_iteration=model.best_iteration)\n",
    "    oof.loc[vl_idx, 'prob'] = pred\n",
    "\n",
    "    score = accuracy_score((pred > PROB_TH).astype(int), vl_y)\n",
    "    scores.append(score)\n",
    "    print(f'fold{i} | accuracy = ' + '{:.5f}'.format(score))\n",
    "\n",
    "    with open(OUTPUT_DIR + f'{exp_name}/model{i}.pickle', 'wb') as f:\n",
    "        pickle.dump(model, f)\n",
    "    \n",
    "oof.to_csv(OUTPUT_DIR + f'{exp_name}/{exp_name}_oof.csv', index=False)"
   ]
  },
  {
   "cell_type": "code",
   "execution_count": 24,
   "metadata": {},
   "outputs": [
    {
     "name": "stdout",
     "output_type": "stream",
     "text": [
      "accuracy(mean) : 0.96900\n",
      "[0.968680493317845, 0.9691283608973549, 0.9690971370138161, 0.9687912253038475, 0.969303980266496]\n"
     ]
    }
   ],
   "source": [
    "print('accuracy(mean) : ' + '{:.5f}'.format(np.mean(scores)))\n",
    "print(scores)"
   ]
  },
  {
   "cell_type": "code",
   "execution_count": 25,
   "metadata": {},
   "outputs": [
    {
     "name": "stdout",
     "output_type": "stream",
     "text": [
      "CV: 0.802949\n"
     ]
    }
   ],
   "source": [
    "# check_cv\n",
    "train_candidate = pd.DataFrame()\n",
    "train_candidate['id'] = train_origin['id'].unique()\n",
    "train_candidate['matches'] = train_origin['id'].unique()\n",
    "\n",
    "train_match = oof[oof['prob'] >= PROB_TH].copy()\n",
    "train_match = train_match.groupby('id')['match_id'].apply(list).map(\" \".join).reset_index()\n",
    "train_match.columns = ['id','candidates']\n",
    "train_candidate = train_candidate.merge(train_match, on = 'id', how = 'left')\n",
    "idx = ~train_candidate['candidates'].isna()\n",
    "train_candidate.loc[idx, \"matches\"] += \" \" + train_candidate.loc[idx, \"candidates\"]\n",
    "print(f\"CV: {get_score(train_candidate):.6f}\")"
   ]
  },
  {
   "cell_type": "code",
   "execution_count": 26,
   "metadata": {},
   "outputs": [
    {
     "data": {
      "image/png": "[encoded data removed]",
      "text/plain": [
       "<Figure size 720x705.6 with 1 Axes>"
      ]
     },
     "metadata": {},
     "output_type": "display_data"
    }
   ],
   "source": [
    "fi_n = fi['feature'].nunique()\n",
    "order = list(fi.groupby(\"feature\").mean().sort_values(\"importance\", ascending=False).index)\n",
    "plt.figure(figsize=(10, fi_n*0.2))\n",
    "sns.barplot(x=\"importance\", y=\"feature\", data=fi, order=order)\n",
    "plt.title(f\"LGBM importance\")\n",
    "plt.tight_layout()\n",
    "plt.savefig(OUTPUT_DIR + f'{exp_name}/lgbm_importance.png')"
   ]
  },
  {
   "cell_type": "code",
   "execution_count": null,
   "metadata": {},
   "outputs": [],
   "source": [
    "def postprocess(df):\n",
    "    id2match = dict(zip(df[\"id\"].values, df[\"matches\"].str.split()))\n",
    "\n",
    "    for match in tqdm(df[\"matches\"]):\n",
    "        match = match.split()\n",
    "        if len(match) == 1:        \n",
    "            continue\n",
    "\n",
    "        base = match[0]\n",
    "        for m in match[1:]:\n",
    "            if not base in id2match[m]:\n",
    "                id2match[m].append(base)\n",
    "    df[\"matches\"] = df[\"id\"].map(id2match).map(\" \".join)\n",
    "    return df \n",
    "\n",
    "train_candidate = postprocess(train_candidate)\n",
    "#test = postprocess(test)\n",
    "print(f\"CV: {get_score(train_candidate):.6f}\")"
   ]
  },
  {
   "cell_type": "code",
   "execution_count": 36,
   "metadata": {},
   "outputs": [
    {
     "name": "stderr",
     "output_type": "stream",
     "text": [
      "100%|██████████| 1138812/1138812 [00:00<00:00, 1242367.40it/s]\n"
     ]
    },
    {
     "name": "stdout",
     "output_type": "stream",
     "text": [
      "CV: 0.808094\n"
     ]
    }
   ],
   "source": [
    "def postprocess(df):\n",
    "    id2match = dict(zip(df[\"id\"].values, df[\"matches\"].str.split()))\n",
    "\n",
    "    for match in tqdm(df[\"matches\"]):\n",
    "        match = match.split()\n",
    "        if len(match) == 1:        \n",
    "            continue\n",
    "\n",
    "        base = match[0]\n",
    "        for m in match[1:]:\n",
    "            if not base in id2match[m]:\n",
    "                id2match[m].append(base)\n",
    "    df[\"matches\"] = df[\"id\"].map(id2match).map(\" \".join)\n",
    "    return df \n",
    "\n",
    "train_candidate = postprocess(train_candidate)\n",
    "#test = postprocess(test)\n",
    "print(f\"CV: {get_score(train_candidate):.6f}\")"
   ]
  },
  {
   "cell_type": "code",
   "execution_count": 37,
   "metadata": {},
   "outputs": [
    {
     "data": {
      "text/html": [
       "<div>\n",
       "<style scoped>\n",
       "    .dataframe tbody tr th:only-of-type {\n",
       "        vertical-align: middle;\n",
       "    }\n",
       "\n",
       "    .dataframe tbody tr th {\n",
       "        vertical-align: top;\n",
       "    }\n",
       "\n",
       "    .dataframe thead th {\n",
       "        text-align: right;\n",
       "    }\n",
       "</style>\n",
       "<table border=\"1\" class=\"dataframe\">\n",
       "  <thead>\n",
       "    <tr style=\"text-align: right;\">\n",
       "      <th></th>\n",
       "      <th>id</th>\n",
       "      <th>matches</th>\n",
       "      <th>candidates</th>\n",
       "    </tr>\n",
       "  </thead>\n",
       "  <tbody>\n",
       "    <tr>\n",
       "      <th>0</th>\n",
       "      <td>E_000001272c6c5d</td>\n",
       "      <td>E_000001272c6c5d E_da7fa3963561f8</td>\n",
       "      <td>E_da7fa3963561f8</td>\n",
       "    </tr>\n",
       "    <tr>\n",
       "      <th>1</th>\n",
       "      <td>E_000002eae2a589</td>\n",
       "      <td>E_000002eae2a589 E_e80db432029aea</td>\n",
       "      <td>E_e80db432029aea</td>\n",
       "    </tr>\n",
       "    <tr>\n",
       "      <th>2</th>\n",
       "      <td>E_000007f24ebc95</td>\n",
       "      <td>E_000007f24ebc95</td>\n",
       "      <td>NaN</td>\n",
       "    </tr>\n",
       "    <tr>\n",
       "      <th>3</th>\n",
       "      <td>E_000008a8ba4f48</td>\n",
       "      <td>E_000008a8ba4f48</td>\n",
       "      <td>NaN</td>\n",
       "    </tr>\n",
       "    <tr>\n",
       "      <th>4</th>\n",
       "      <td>E_00001d92066153</td>\n",
       "      <td>E_00001d92066153 E_7e0d8e9138dd56 E_53fd499abc...</td>\n",
       "      <td>E_7e0d8e9138dd56 E_53fd499abcdb8c E_ce81322e97...</td>\n",
       "    </tr>\n",
       "    <tr>\n",
       "      <th>...</th>\n",
       "      <td>...</td>\n",
       "      <td>...</td>\n",
       "      <td>...</td>\n",
       "    </tr>\n",
       "    <tr>\n",
       "      <th>1138807</th>\n",
       "      <td>E_ffffb80854f713</td>\n",
       "      <td>E_ffffb80854f713 E_008558a7c44ed5</td>\n",
       "      <td>E_008558a7c44ed5</td>\n",
       "    </tr>\n",
       "    <tr>\n",
       "      <th>1138808</th>\n",
       "      <td>E_ffffbf9a83e0ba</td>\n",
       "      <td>E_ffffbf9a83e0ba E_37cbd58e31092a</td>\n",
       "      <td>E_37cbd58e31092a</td>\n",
       "    </tr>\n",
       "    <tr>\n",
       "      <th>1138809</th>\n",
       "      <td>E_ffffc572b4d35b</td>\n",
       "      <td>E_ffffc572b4d35b E_fa389570ea207b E_27bcc6f6dd...</td>\n",
       "      <td>E_fa389570ea207b E_27bcc6f6dd33ed E_8081185a21...</td>\n",
       "    </tr>\n",
       "    <tr>\n",
       "      <th>1138810</th>\n",
       "      <td>E_ffffca745329ed</td>\n",
       "      <td>E_ffffca745329ed E_04988888cfff60</td>\n",
       "      <td>E_04988888cfff60</td>\n",
       "    </tr>\n",
       "    <tr>\n",
       "      <th>1138811</th>\n",
       "      <td>E_ffffe6f4652fbb</td>\n",
       "      <td>E_ffffe6f4652fbb E_1ae7caf33377c7</td>\n",
       "      <td>E_1ae7caf33377c7</td>\n",
       "    </tr>\n",
       "  </tbody>\n",
       "</table>\n",
       "<p>1138812 rows × 3 columns</p>\n",
       "</div>"
      ],
      "text/plain": [
       "                       id                                            matches  \\\n",
       "0        E_000001272c6c5d                  E_000001272c6c5d E_da7fa3963561f8   \n",
       "1        E_000002eae2a589                  E_000002eae2a589 E_e80db432029aea   \n",
       "2        E_000007f24ebc95                                   E_000007f24ebc95   \n",
       "3        E_000008a8ba4f48                                   E_000008a8ba4f48   \n",
       "4        E_00001d92066153  E_00001d92066153 E_7e0d8e9138dd56 E_53fd499abc...   \n",
       "...                   ...                                                ...   \n",
       "1138807  E_ffffb80854f713                  E_ffffb80854f713 E_008558a7c44ed5   \n",
       "1138808  E_ffffbf9a83e0ba                  E_ffffbf9a83e0ba E_37cbd58e31092a   \n",
       "1138809  E_ffffc572b4d35b  E_ffffc572b4d35b E_fa389570ea207b E_27bcc6f6dd...   \n",
       "1138810  E_ffffca745329ed                  E_ffffca745329ed E_04988888cfff60   \n",
       "1138811  E_ffffe6f4652fbb                  E_ffffe6f4652fbb E_1ae7caf33377c7   \n",
       "\n",
       "                                                candidates  \n",
       "0                                         E_da7fa3963561f8  \n",
       "1                                         E_e80db432029aea  \n",
       "2                                                      NaN  \n",
       "3                                                      NaN  \n",
       "4        E_7e0d8e9138dd56 E_53fd499abcdb8c E_ce81322e97...  \n",
       "...                                                    ...  \n",
       "1138807                                   E_008558a7c44ed5  \n",
       "1138808                                   E_37cbd58e31092a  \n",
       "1138809  E_fa389570ea207b E_27bcc6f6dd33ed E_8081185a21...  \n",
       "1138810                                   E_04988888cfff60  \n",
       "1138811                                   E_1ae7caf33377c7  \n",
       "\n",
       "[1138812 rows x 3 columns]"
      ]
     },
     "execution_count": 37,
     "metadata": {},
     "output_type": "execute_result"
    }
   ],
   "source": [
    "train_candidate"
   ]
  },
  {
   "cell_type": "code",
   "execution_count": null,
   "metadata": {},
   "outputs": [],
   "source": []
  }
 ],
 "metadata": {
  "interpreter": {
   "hash": "d4d1e4263499bec80672ea0156c357c1ee493ec2b1c70f0acce89fc37c4a6abe"
  },
  "kernelspec": {
   "display_name": "Python 3.8.12 ('base')",
   "language": "python",
   "name": "python3"
  },
  "language_info": {
   "codemirror_mode": {
    "name": "ipython",
    "version": 3
   },
   "file_extension": ".py",
   "mimetype": "text/x-python",
   "name": "python",
   "nbconvert_exporter": "python",
   "pygments_lexer": "ipython3",
   "version": "3.8.12"
  },
  "orig_nbformat": 4
 },
 "nbformat": 4,
 "nbformat_minor": 2
}
