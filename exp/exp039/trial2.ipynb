{
 "cells": [
  {
   "cell_type": "markdown",
   "metadata": {},
   "source": [
    "# exp039\n",
    "universal sentence encoder"
   ]
  },
  {
   "cell_type": "code",
   "execution_count": 1,
   "metadata": {},
   "outputs": [],
   "source": [
    "MODE = 'local_train'\n",
    "#MODE = 'kaggle_inference'"
   ]
  },
  {
   "cell_type": "code",
   "execution_count": 2,
   "metadata": {},
   "outputs": [],
   "source": [
    "exp_name = 'exp039'\n",
    "memo = ''"
   ]
  },
  {
   "cell_type": "code",
   "execution_count": 3,
   "metadata": {},
   "outputs": [],
   "source": [
    "import os\n",
    "import sys\n",
    "import gc\n",
    "\n",
    "if MODE == 'local_train':\n",
    "    sys.path.append('/home/kaggler/.local/lib/python3.8/site-packages')\n",
    "    from dotenv import load_dotenv\n",
    "    load_dotenv\n",
    "    sys.path.append(os.getenv('UTILS_PATH'))\n",
    "    import line_notify\n",
    "    import slack_notify\n",
    "    \n",
    "if MODE == \"kaggle_inference\":\n",
    "    from cuml import ForestInference\n",
    "    import treelite\n",
    "    \n",
    "import pandas as pd\n",
    "import numpy as np\n",
    "import matplotlib.pyplot as plt; plt.style.use(\"ggplot\")\n",
    "import seaborn as sns\n",
    "from sklearn.metrics.pairwise import haversine_distances\n",
    "from sklearn.model_selection import GroupKFold, KFold, StratifiedKFold\n",
    "from sklearn.metrics import accuracy_score\n",
    "from sklearn.decomposition import TruncatedSVD\n",
    "import lightgbm as lgb\n",
    "import itertools\n",
    "from scipy.spatial.distance import canberra\n",
    "from sklearn.neighbors import KNeighborsRegressor\n",
    "import functools\n",
    "import multiprocessing\n",
    "import Levenshtein\n",
    "import difflib\n",
    "import pickle\n",
    "from tqdm import tqdm\n",
    "%load_ext Cython\n",
    "\n",
    "from transformers import DistilBertModel, DistilBertTokenizer, AutoModel, AutoTokenizer, BertTokenizer, BertModel\n",
    "from torch.utils.data import DataLoader, Dataset\n",
    "import torch.nn.functional as F\n",
    "import torch.nn as nn\n",
    "import torch\n",
    "\n",
    "from sklearn.metrics.pairwise import cosine_similarity\n",
    "from sklearn.feature_extraction.text import TfidfVectorizer"
   ]
  },
  {
   "cell_type": "code",
   "execution_count": 4,
   "metadata": {},
   "outputs": [],
   "source": [
    "# directry_setting\n",
    "if MODE == 'local_train':\n",
    "    INPUT_DIR = os.getenv('INPUT_DIR')\n",
    "    OUTPUT_DIR = os.getenv('OUTPUT_DIR')\n",
    "    MODEL_DIR = os.getenv('OUTPUT_DIR')\n",
    "    BERT_PATH_DISTILBERT_BASE_UNCASED = \"distilbert-base-uncased\"\n",
    "    BERT_PATH_DISTILBERT_BASE_MULTILINGUAL_CASED = \"distilbert-base-multilingual-cased\"\n",
    "    BERT_PATH_XLM_ROBERTA_BASE = \"xlm-roberta-base\"\n",
    "    BERT_PATH_BERT_BASE_JAPANESE = \"cl-tohoku/bert-base-japanese\"\n",
    "    BERT_PATH_BERT_BASE_JAPANESE_WHOLE_WORD_MASKING = \"cl-tohoku/bert-base-japanese-whole-word-masking\"\n",
    "    BERT_PATH_BERT_BASE_TURKISH_CASED = \"dbmdz/bert-base-turkish-cased\"\n",
    "    BERT_PATH_INDOBERT_BASE_UNCASED = \"indolem/indobert-base-uncased\"\n",
    "    BERT_PATH_BERT_BASE_TH_CASED = \"Geotrend/bert-base-th-cased\"\n",
    "    BERT_PATH_BERT_BASE_MULTILINGUAL_UNCASED = \"bert-base-multilingual-uncased\"\n",
    "\n",
    "\n",
    "    os.makedirs(OUTPUT_DIR + exp_name, exist_ok=True)\n",
    "\n",
    "elif MODE == 'kaggle_inference':\n",
    "    INPUT_DIR = '/kaggle/input/foursquare-location-matching/'\n",
    "    OUTPUT_DIR = './'\n",
    "    MODEL_DIR = f'../input/fs{exp_name}/'\n",
    "    BERT_PATH_DISTILBERT_BASE_UNCASED = \"../input/distilbertbaseuncased\"\n",
    "    BERT_PATH_DISTILBERT_BASE_MULTILINGUAL_CASED = \"\"\n",
    "    BERT_PATH_XLM_ROBERTA_BASE = \"\"\n",
    "    BERT_PATH_BERT_BASE_JAPANESE = \"\"\n",
    "    BERT_PATH_BERT_BASE_JAPANESE_WHOLE_WORD_MASKING = \"\"\n",
    "    BERT_PATH_BERT_BASE_TURKISH_CASED = \"\"\n",
    "    BERT_PATH_INDOBERT_BASE_UNCASED =  \"\"\n",
    "    BERT_PATH_BERT_BASE_TH_CASED = \"\"\n",
    "    BERT_PATH_BERT_BASE_MULTILINGUAL_UNCASED = \"\""
   ]
  },
  {
   "cell_type": "code",
   "execution_count": 5,
   "metadata": {},
   "outputs": [],
   "source": [
    "# CONFIG\n",
    "SEED = 42\n",
    "N_NEIGHBORS = 10\n",
    "N_SPLITS = 5\n",
    "PROB_TH = 0.5\n",
    "MAX_LEN = 32\n",
    "BS = 1024\n",
    "NW = 2\n",
    "SVD_N_COMP = 50"
   ]
  },
  {
   "cell_type": "code",
   "execution_count": 6,
   "metadata": {},
   "outputs": [],
   "source": [
    "class InferenceDataset(Dataset):\n",
    "    \n",
    "    def __init__(self, df, max_len, col, tokenizer):\n",
    "        super().__init__()\n",
    "        self.df = df.reset_index(drop=True)\n",
    "        self.max_len = max_len\n",
    "        self.tokenizer = tokenizer\n",
    "        self.col = col\n",
    "\n",
    "    def __getitem__(self, index):\n",
    "        row = self.df.iloc[index]\n",
    "        \n",
    "        inputs = self.tokenizer.encode_plus(\n",
    "            row[self.col],\n",
    "            None,\n",
    "            add_special_tokens=True,\n",
    "            max_length=MAX_LEN,\n",
    "            padding=\"max_length\",\n",
    "            return_token_type_ids=True,\n",
    "            truncation=True\n",
    "        )\n",
    "        ids = torch.LongTensor(inputs['input_ids'])\n",
    "        mask = torch.LongTensor(inputs['attention_mask'])\n",
    "\n",
    "        return ids, mask\n",
    "\n",
    "    def __len__(self):\n",
    "        return self.df.shape[0]\n",
    "\n",
    "def bert_inference(model, tokenizer, df, col):\n",
    "    model = model.cuda()\n",
    "    ds = InferenceDataset(df, max_len=MAX_LEN, col=col, tokenizer=tokenizer)\n",
    "    loader = DataLoader(ds, batch_size=BS, shuffle=False, num_workers=NW,\n",
    "                        pin_memory=False, drop_last=False)\n",
    "    vs = []\n",
    "    with torch.no_grad():\n",
    "        for idx, (ids, masks) in enumerate(tqdm(loader)):\n",
    "            v = model(ids.cuda(), masks.cuda()).detach().cpu().numpy()\n",
    "            vs.append(v)\n",
    "    return np.concatenate(vs)"
   ]
  },
  {
   "cell_type": "code",
   "execution_count": 7,
   "metadata": {},
   "outputs": [],
   "source": [
    "def add_bert_similarity(df, col, model_name):\n",
    "    df_ = pd.concat([df[col], df[\"match_\" + col]]).drop_duplicates().to_frame()\n",
    "    df_ = df_.reset_index(drop=True)\n",
    "    df_.columns = [col]\n",
    "    \n",
    "    if model_name == \"distilbert-base-uncased\":\n",
    "        model = DistilBertCat2VecModel(BERT_PATH_DISTILBERT_BASE_UNCASED)\n",
    "        tokenizer = DistilBertTokenizer.from_pretrained(BERT_PATH_DISTILBERT_BASE_UNCASED, do_lower_case=True)\n",
    "\n",
    "    if model_name == \"distilbert-base-multilingual-cased\":\n",
    "        model = DistilBertCat2VecModel(BERT_PATH_DISTILBERT_BASE_MULTILINGUAL_CASED)\n",
    "        tokenizer = DistilBertTokenizer.from_pretrained(BERT_PATH_DISTILBERT_BASE_MULTILINGUAL_CASED, do_lower_case=True)\n",
    "\n",
    "    if model_name == \"xlm-roberta-base\":\n",
    "        model = XlmRobertaCat2VecModel(BERT_PATH_XLM_ROBERTA_BASE)\n",
    "        tokenizer = AutoTokenizer.from_pretrained(BERT_PATH_XLM_ROBERTA_BASE)\n",
    "\n",
    "    if model_name == \"bert_base_japanese\":\n",
    "        model = BertCat2VecModel(BERT_PATH_BERT_BASE_JAPANESE)\n",
    "        tokenizer = BertTokenizer.from_pretrained(BERT_PATH_BERT_BASE_JAPANESE)\n",
    "\n",
    "    if model_name == \"bert-base-japanese-whole-word-masking\":\n",
    "        model = BertCat2VecModel(BERT_PATH_BERT_BASE_JAPANESE_WHOLE_WORD_MASKING)\n",
    "        tokenizer = BertTokenizer.from_pretrained(BERT_PATH_BERT_BASE_JAPANESE_WHOLE_WORD_MASKING)\n",
    "\n",
    "    if model_name == \"bert-base-turkish-cased\":\n",
    "        model = BertCat2VecModel(BERT_PATH_BERT_BASE_TURKISH_CASED)\n",
    "        tokenizer = BertTokenizer.from_pretrained(BERT_PATH_BERT_BASE_TURKISH_CASED)\n",
    "\n",
    "    if model_name == \"indobert-base-uncased\":\n",
    "        model = BertCat2VecModel(BERT_PATH_INDOBERT_BASE_UNCASED)\n",
    "        tokenizer = BertTokenizer.from_pretrained(BERT_PATH_INDOBERT_BASE_UNCASED)\n",
    "\n",
    "    if model_name == \"bert-base-th-cased\":\n",
    "        model = BertCat2VecModel(BERT_PATH_BERT_BASE_TH_CASED)\n",
    "        tokenizer = BertTokenizer.from_pretrained(BERT_PATH_BERT_BASE_TH_CASED)\n",
    "\n",
    "    if model_name == \"bert-base-multilingual-uncased\":\n",
    "        model = BertCat2VecModel(BERT_PATH_BERT_BASE_MULTILINGUAL_UNCASED)\n",
    "        tokenizer = BertTokenizer.from_pretrained(BERT_PATH_BERT_BASE_MULTILINGUAL_UNCASED)\n",
    "        \n",
    "    V = bert_inference(model, tokenizer, df_, col)\n",
    "    V = V.astype(\"float16\")\n",
    "    bert_vec = {k:v for k,v in zip(df_[col].values, V)}\n",
    "\n",
    "    sim_list = []\n",
    "    for str1, str2 in tqdm(df[[f\"{col}\", f\"match_{col}\"]].values.astype(str)):\n",
    "        if str1!=\"nan\" and str2!=\"nan\":\n",
    "            sim = cosine_similarity(bert_vec[str1].reshape(1, -1), bert_vec[str2].reshape(1, -1))[0][0]\n",
    "        else:\n",
    "            sim = -1\n",
    "        sim_list.append(sim)\n",
    "    df[f\"bert_sim_{col}\"] = sim_list\n",
    "    df[f\"bert_sim_{col}\"] = df[f\"bert_sim_{col}\"].astype(np.float16)\n",
    "    return df"
   ]
  },
  {
   "cell_type": "code",
   "execution_count": 8,
   "metadata": {},
   "outputs": [],
   "source": [
    "class DistilBertCat2VecModel(nn.Module):\n",
    "    def __init__(self, bert_model):\n",
    "        super(DistilBertCat2VecModel, self).__init__()\n",
    "        self.distill_bert = DistilBertModel.from_pretrained(bert_model)\n",
    "        \n",
    "    def forward(self, ids, mask):\n",
    "        x = self.distill_bert(ids, mask)[0]\n",
    "        x = F.normalize((x[:, 1:, :]*mask[:, 1:, None]).mean(axis=1))\n",
    "        return x\n",
    "\n",
    "class XlmRobertaCat2VecModel(nn.Module):\n",
    "    def __init__(self, bert_model):\n",
    "        super(XlmRobertaCat2VecModel, self).__init__()\n",
    "        self.backbone = AutoModel.from_pretrained(bert_model)\n",
    "        \n",
    "    def forward(self, ids, mask):\n",
    "        x = self.backbone(ids, mask)[0]\n",
    "        x = F.normalize((x[:, 1:, :]*mask[:, 1:, None]).mean(axis=1))\n",
    "        return x\n",
    "\n",
    "class BertCat2VecModel(nn.Module):\n",
    "    def __init__(self, bert_model):\n",
    "        super(BertCat2VecModel, self).__init__()\n",
    "        self.backbone = BertModel.from_pretrained(bert_model)\n",
    "        \n",
    "    def forward(self, ids, mask):\n",
    "        x = self.backbone(ids, mask)[0]\n",
    "        x = F.normalize((x[:, 1:, :]*mask[:, 1:, None]).mean(axis=1))\n",
    "        return x\n"
   ]
  },
  {
   "cell_type": "code",
   "execution_count": 9,
   "metadata": {},
   "outputs": [],
   "source": [
    "def make_tfidf_vec(df, col):\n",
    "    df_ = pd.concat([df[col], df[\"match_\" + col]]).drop_duplicates().to_frame()\n",
    "    df_ = df_.reset_index(drop=True)\n",
    "    df_.columns = [col]\n",
    "\n",
    "    tfidf_vectorizer = TfidfVectorizer(ngram_range=(3,3), analyzer=\"char_wb\", use_idf=True)\n",
    "    tfidf_vec = tfidf_vectorizer.fit_transform(df_[col].tolist())\n",
    "    tfidf_vec = {k:v for k,v in zip(df_[col].values, tfidf_vec)}\n",
    "    return tfidf_vec"
   ]
  },
  {
   "cell_type": "code",
   "execution_count": 10,
   "metadata": {},
   "outputs": [],
   "source": [
    "import tensorflow as tf\n",
    "import tensorflow_text\n",
    "import tensorflow_hub as hub\n",
    "\n",
    "def make_univ_sentence_vec(df, col):\n",
    "    df_ = pd.concat([df[col], df[\"match_\" + col]]).drop_duplicates().to_frame()\n",
    "    df_ = df_.reset_index(drop=True)\n",
    "    df_.columns = [col]\n",
    "\n",
    "    embedder = hub.load(\"https://tfhub.dev/google/universal-sentence-encoder-multilingual/3\")\n",
    "\n",
    "    vec = []\n",
    "    str_array = df_[col].values\n",
    "    for batch_str_array in np.array_split(str_array, 10000):\n",
    "        vec.extend(embedder(batch_str_array))\n",
    "\n",
    "    tfidf_vec = {k:v for k,v in zip(str_array, vec)}\n",
    "    return tfidf_vec"
   ]
  },
  {
   "cell_type": "code",
   "execution_count": 11,
   "metadata": {},
   "outputs": [],
   "source": [
    "def add_vec_sim_features(df, vec, vec_name, col):\n",
    "    sim_list = []\n",
    "    for str1, str2 in tqdm(df[[f\"{col}\", f\"match_{col}\"]].values.astype(str)):\n",
    "        if str1!=\"nan\" and str2!=\"nan\":\n",
    "            sim = dot(vec[str1], vec[str2]) / (norm(vec[str1])*norm(vec[str2]))\n",
    "        else:\n",
    "            sim = -1\n",
    "        sim_list.append(sim)\n",
    "    df[f\"{vec_name}_sim_{col}\"] = sim_list\n",
    "    return df"
   ]
  },
  {
   "cell_type": "code",
   "execution_count": 12,
   "metadata": {},
   "outputs": [],
   "source": [
    "train = pd.read_csv(OUTPUT_DIR + 'exp039/first_stage_data.csv', usecols=[\"name\", \"match_name\", \"country\", \"point_of_interest\", \"match_point_of_interest\"])\n",
    "train['target'] = (train['point_of_interest'] == train['match_point_of_interest']).values.astype(int)\n",
    "train[\"target\"] = train[\"target\"].fillna(0)"
   ]
  },
  {
   "cell_type": "code",
   "execution_count": 13,
   "metadata": {},
   "outputs": [],
   "source": [
    "#train = train[train[\"country\"].isin([\"us\", \"tr\", \"id\", \"jp\", \"th\"])].copy()\n",
    "#train = train[train[\"name\"]!=train[\"match_name\"]].copy()\n",
    "#train = train.reset_index(drop=True)\n",
    "train[\"name\"] = train[\"name\"].astype(str)\n",
    "train[\"match_name\"] = train[\"match_name\"].astype(str)"
   ]
  },
  {
   "cell_type": "code",
   "execution_count": 14,
   "metadata": {},
   "outputs": [],
   "source": [
    "def show_hist(df, title):\n",
    "    plt.hist(df.loc[df[\"target\"]==0, \"tfidf_sim_name\"], color=\"blue\", label=\"target=0\", bins=40, alpha=0.8, density=True)\n",
    "    plt.hist(df.loc[df[\"target\"]==1, \"tfidf_sim_name\"], color=\"red\", label=\"target=1\", bins=40, alpha=0.8, density=True)\n",
    "    plt.legend()\n",
    "    plt.xlim(0,1)\n",
    "    plt.title(title)\n",
    "    plt.savefig(OUTPUT_DIR + exp_name + \"/\" + title + \".png\")\n",
    "    plt.show()"
   ]
  },
  {
   "cell_type": "code",
   "execution_count": 15,
   "metadata": {},
   "outputs": [],
   "source": [
    "from sklearn.metrics import f1_score\n",
    "def calc_score(df):\n",
    "    best_score = 0\n",
    "    best_th = np.nan\n",
    "\n",
    "    for th in [0.1,0.2,0.3,0.4,0.5,0.6,0.7,0.8,0.9]:\n",
    "        df[\"pred\"] = np.nan\n",
    "        df.loc[df[\"tfidf_sim_name\"]>th, \"pred\"] = 1\n",
    "        df[\"pred\"] = df[\"pred\"].fillna(0)\n",
    "        score = f1_score(df[\"target\"], df[\"pred\"]).astype(\"float16\")\n",
    "\n",
    "        if score > best_score:\n",
    "            best_score = score\n",
    "            best_th = th\n",
    "    \n",
    "    return best_th, best_score"
   ]
  },
  {
   "cell_type": "code",
   "execution_count": 16,
   "metadata": {},
   "outputs": [
    {
     "name": "stderr",
     "output_type": "stream",
     "text": [
      "2022-06-25 20:43:45.401919: I tensorflow/stream_executor/cuda/cuda_gpu_executor.cc:961] could not open file to read NUMA node: /sys/bus/pci/devices/0000:08:00.0/numa_node\n",
      "Your kernel may have been built without NUMA support.\n",
      "2022-06-25 20:43:45.402576: I tensorflow/stream_executor/cuda/cuda_gpu_executor.cc:961] could not open file to read NUMA node: /sys/bus/pci/devices/0000:08:00.0/numa_node\n",
      "Your kernel may have been built without NUMA support.\n",
      "2022-06-25 20:43:45.402810: I tensorflow/stream_executor/cuda/cuda_gpu_executor.cc:961] could not open file to read NUMA node: /sys/bus/pci/devices/0000:08:00.0/numa_node\n",
      "Your kernel may have been built without NUMA support.\n",
      "2022-06-25 20:43:45.403121: I tensorflow/core/platform/cpu_feature_guard.cc:193] This TensorFlow binary is optimized with oneAPI Deep Neural Network Library (oneDNN) to use the following CPU instructions in performance-critical operations:  AVX2 FMA\n",
      "To enable them in other operations, rebuild TensorFlow with the appropriate compiler flags.\n",
      "2022-06-25 20:43:45.413245: I tensorflow/stream_executor/cuda/cuda_gpu_executor.cc:961] could not open file to read NUMA node: /sys/bus/pci/devices/0000:08:00.0/numa_node\n",
      "Your kernel may have been built without NUMA support.\n",
      "2022-06-25 20:43:45.413497: I tensorflow/stream_executor/cuda/cuda_gpu_executor.cc:961] could not open file to read NUMA node: /sys/bus/pci/devices/0000:08:00.0/numa_node\n",
      "Your kernel may have been built without NUMA support.\n",
      "2022-06-25 20:43:45.413725: I tensorflow/stream_executor/cuda/cuda_gpu_executor.cc:961] could not open file to read NUMA node: /sys/bus/pci/devices/0000:08:00.0/numa_node\n",
      "Your kernel may have been built without NUMA support.\n",
      "2022-06-25 20:43:47.350661: I tensorflow/stream_executor/cuda/cuda_gpu_executor.cc:961] could not open file to read NUMA node: /sys/bus/pci/devices/0000:08:00.0/numa_node\n",
      "Your kernel may have been built without NUMA support.\n",
      "2022-06-25 20:43:47.350969: I tensorflow/stream_executor/cuda/cuda_gpu_executor.cc:961] could not open file to read NUMA node: /sys/bus/pci/devices/0000:08:00.0/numa_node\n",
      "Your kernel may have been built without NUMA support.\n",
      "2022-06-25 20:43:47.350984: I tensorflow/core/common_runtime/gpu/gpu_device.cc:1616] Could not identify NUMA node of platform GPU id 0, defaulting to 0.  Your kernel may not have been built with NUMA support.\n",
      "2022-06-25 20:43:47.351198: I tensorflow/stream_executor/cuda/cuda_gpu_executor.cc:961] could not open file to read NUMA node: /sys/bus/pci/devices/0000:08:00.0/numa_node\n",
      "Your kernel may have been built without NUMA support.\n",
      "2022-06-25 20:43:47.351238: I tensorflow/core/common_runtime/gpu/gpu_device.cc:1532] Created device /job:localhost/replica:0/task:0/device:GPU:0 with 20998 MB memory:  -> device: 0, name: NVIDIA GeForce RTX 3090, pci bus id: 0000:08:00.0, compute capability: 8.6\n",
      "2022-06-25 20:43:50.257601: I tensorflow/stream_executor/cuda/cuda_blas.cc:1786] TensorFloat-32 will be used for the matrix multiplication. This will only be logged once.\n",
      "  0%|          | 0/5291010 [00:00<?, ?it/s]\n"
     ]
    },
    {
     "ename": "NameError",
     "evalue": "name 'dot' is not defined",
     "output_type": "error",
     "traceback": [
      "\u001b[0;31m---------------------------------------------------------------------------\u001b[0m",
      "\u001b[0;31mNameError\u001b[0m                                 Traceback (most recent call last)",
      "\u001b[0;32m/tmp/ipykernel_13415/2704924408.py\u001b[0m in \u001b[0;36m<module>\u001b[0;34m\u001b[0m\n\u001b[1;32m     10\u001b[0m \u001b[0mtrain\u001b[0m \u001b[0;34m=\u001b[0m \u001b[0mtrain\u001b[0m\u001b[0;34m[\u001b[0m\u001b[0mtrain\u001b[0m\u001b[0;34m[\u001b[0m\u001b[0;34m\"name\"\u001b[0m\u001b[0;34m]\u001b[0m\u001b[0;34m!=\u001b[0m\u001b[0mtrain\u001b[0m\u001b[0;34m[\u001b[0m\u001b[0;34m\"match_name\"\u001b[0m\u001b[0;34m]\u001b[0m\u001b[0;34m]\u001b[0m\u001b[0;34m.\u001b[0m\u001b[0mcopy\u001b[0m\u001b[0;34m(\u001b[0m\u001b[0;34m)\u001b[0m\u001b[0;34m\u001b[0m\u001b[0;34m\u001b[0m\u001b[0m\n\u001b[1;32m     11\u001b[0m \u001b[0mtrain\u001b[0m \u001b[0;34m=\u001b[0m \u001b[0mtrain\u001b[0m\u001b[0;34m.\u001b[0m\u001b[0mreset_index\u001b[0m\u001b[0;34m(\u001b[0m\u001b[0mdrop\u001b[0m\u001b[0;34m=\u001b[0m\u001b[0;32mTrue\u001b[0m\u001b[0;34m)\u001b[0m\u001b[0;34m\u001b[0m\u001b[0;34m\u001b[0m\u001b[0m\n\u001b[0;32m---> 12\u001b[0;31m \u001b[0mtrain\u001b[0m \u001b[0;34m=\u001b[0m \u001b[0madd_vec_sim_features\u001b[0m\u001b[0;34m(\u001b[0m\u001b[0mtrain\u001b[0m\u001b[0;34m,\u001b[0m \u001b[0mvec\u001b[0m\u001b[0;34m,\u001b[0m \u001b[0;34m\"tfidf\"\u001b[0m\u001b[0;34m,\u001b[0m \u001b[0;34m\"name\"\u001b[0m\u001b[0;34m)\u001b[0m\u001b[0;34m\u001b[0m\u001b[0;34m\u001b[0m\u001b[0m\n\u001b[0m\u001b[1;32m     13\u001b[0m \u001b[0;34m\u001b[0m\u001b[0m\n\u001b[1;32m     14\u001b[0m \u001b[0;32mfor\u001b[0m \u001b[0mcountry\u001b[0m \u001b[0;32min\u001b[0m \u001b[0mcountries\u001b[0m\u001b[0;34m:\u001b[0m\u001b[0;34m\u001b[0m\u001b[0;34m\u001b[0m\u001b[0m\n",
      "\u001b[0;32m/tmp/ipykernel_13415/2124961380.py\u001b[0m in \u001b[0;36madd_vec_sim_features\u001b[0;34m(df, vec, vec_name, col)\u001b[0m\n\u001b[1;32m      3\u001b[0m     \u001b[0;32mfor\u001b[0m \u001b[0mstr1\u001b[0m\u001b[0;34m,\u001b[0m \u001b[0mstr2\u001b[0m \u001b[0;32min\u001b[0m \u001b[0mtqdm\u001b[0m\u001b[0;34m(\u001b[0m\u001b[0mdf\u001b[0m\u001b[0;34m[\u001b[0m\u001b[0;34m[\u001b[0m\u001b[0;34mf\"{col}\"\u001b[0m\u001b[0;34m,\u001b[0m \u001b[0;34mf\"match_{col}\"\u001b[0m\u001b[0;34m]\u001b[0m\u001b[0;34m]\u001b[0m\u001b[0;34m.\u001b[0m\u001b[0mvalues\u001b[0m\u001b[0;34m.\u001b[0m\u001b[0mastype\u001b[0m\u001b[0;34m(\u001b[0m\u001b[0mstr\u001b[0m\u001b[0;34m)\u001b[0m\u001b[0;34m)\u001b[0m\u001b[0;34m:\u001b[0m\u001b[0;34m\u001b[0m\u001b[0;34m\u001b[0m\u001b[0m\n\u001b[1;32m      4\u001b[0m         \u001b[0;32mif\u001b[0m \u001b[0mstr1\u001b[0m\u001b[0;34m!=\u001b[0m\u001b[0;34m\"nan\"\u001b[0m \u001b[0;32mand\u001b[0m \u001b[0mstr2\u001b[0m\u001b[0;34m!=\u001b[0m\u001b[0;34m\"nan\"\u001b[0m\u001b[0;34m:\u001b[0m\u001b[0;34m\u001b[0m\u001b[0;34m\u001b[0m\u001b[0m\n\u001b[0;32m----> 5\u001b[0;31m             \u001b[0msim\u001b[0m \u001b[0;34m=\u001b[0m \u001b[0mdot\u001b[0m\u001b[0;34m(\u001b[0m\u001b[0mvec\u001b[0m\u001b[0;34m[\u001b[0m\u001b[0mstr1\u001b[0m\u001b[0;34m]\u001b[0m\u001b[0;34m,\u001b[0m \u001b[0mvec\u001b[0m\u001b[0;34m[\u001b[0m\u001b[0mstr2\u001b[0m\u001b[0;34m]\u001b[0m\u001b[0;34m)\u001b[0m \u001b[0;34m/\u001b[0m \u001b[0;34m(\u001b[0m\u001b[0mnorm\u001b[0m\u001b[0;34m(\u001b[0m\u001b[0mvec\u001b[0m\u001b[0;34m[\u001b[0m\u001b[0mstr1\u001b[0m\u001b[0;34m]\u001b[0m\u001b[0;34m)\u001b[0m\u001b[0;34m*\u001b[0m\u001b[0mnorm\u001b[0m\u001b[0;34m(\u001b[0m\u001b[0mvec\u001b[0m\u001b[0;34m[\u001b[0m\u001b[0mstr2\u001b[0m\u001b[0;34m]\u001b[0m\u001b[0;34m)\u001b[0m\u001b[0;34m)\u001b[0m\u001b[0;34m\u001b[0m\u001b[0;34m\u001b[0m\u001b[0m\n\u001b[0m\u001b[1;32m      6\u001b[0m         \u001b[0;32melse\u001b[0m\u001b[0;34m:\u001b[0m\u001b[0;34m\u001b[0m\u001b[0;34m\u001b[0m\u001b[0m\n\u001b[1;32m      7\u001b[0m             \u001b[0msim\u001b[0m \u001b[0;34m=\u001b[0m \u001b[0;34m-\u001b[0m\u001b[0;36m1\u001b[0m\u001b[0;34m\u001b[0m\u001b[0;34m\u001b[0m\u001b[0m\n",
      "\u001b[0;31mNameError\u001b[0m: name 'dot' is not defined"
     ]
    }
   ],
   "source": [
    "result_countries = []\n",
    "result_ths = []\n",
    "result_scores = []\n",
    "\n",
    "countries = [\"us\", \"tr\", \"id\", \"jp\", \"th\"]\n",
    "vec = make_univ_sentence_vec(train, \"name\")\n",
    "type_ = \"univ_sentence\"\n",
    "\n",
    "train = train[train[\"country\"].isin([\"us\", \"tr\", \"id\", \"jp\", \"th\"])].copy()\n",
    "train = train[train[\"name\"]!=train[\"match_name\"]].copy()\n",
    "train = train.reset_index(drop=True)"
   ]
  },
  {
   "cell_type": "code",
   "execution_count": 17,
   "metadata": {},
   "outputs": [
    {
     "name": "stderr",
     "output_type": "stream",
     "text": [
      "100%|██████████| 5291010/5291010 [02:36<00:00, 33827.36it/s]\n"
     ]
    },
    {
     "data": {
      "image/png": "[encoded data removed]",
      "text/plain": [
       "<Figure size 432x288 with 1 Axes>"
      ]
     },
     "metadata": {},
     "output_type": "display_data"
    },
    {
     "data": {
      "image/png": "[encoded data removed]",
      "text/plain": [
       "<Figure size 432x288 with 1 Axes>"
      ]
     },
     "metadata": {},
     "output_type": "display_data"
    },
    {
     "data": {
      "image/png": "[encoded data removed]",
      "text/plain": [
       "<Figure size 432x288 with 1 Axes>"
      ]
     },
     "metadata": {},
     "output_type": "display_data"
    },
    {
     "data": {
      "image/png": "[encoded data removed]",
      "text/plain": [
       "<Figure size 432x288 with 1 Axes>"
      ]
     },
     "metadata": {},
     "output_type": "display_data"
    },
    {
     "data": {
      "image/png": "[encoded data removed]",
      "text/plain": [
       "<Figure size 432x288 with 1 Axes>"
      ]
     },
     "metadata": {},
     "output_type": "display_data"
    }
   ],
   "source": [
    "from numpy import dot\n",
    "from numpy.linalg import norm\n",
    "\n",
    "\n",
    "train = add_vec_sim_features(train, vec, \"tfidf\", \"name\")\n",
    "\n",
    "for country in countries:\n",
    "    tmp = train[train[\"country\"]==country].copy()\n",
    "    show_hist(tmp, f\"{country}_{type_}\")\n",
    "    best_th, best_score = calc_score(tmp)\n",
    "    result_countries.append(country)\n",
    "    result_ths.append(best_th)\n",
    "    result_scores.append(best_score)\n",
    "\n",
    "train = train.drop(columns=[\"tfidf_sim_name\"])\n",
    "\n",
    "result = pd.DataFrame()\n",
    "result[\"country\"] = result_countries\n",
    "result[\"best_th\"] = result_ths\n",
    "result[\"best_score\"] = result_scores\n",
    "result[\"type\"] = type_"
   ]
  },
  {
   "cell_type": "code",
   "execution_count": 18,
   "metadata": {},
   "outputs": [
    {
     "data": {
      "text/html": [
       "<div>\n",
       "<style scoped>\n",
       "    .dataframe tbody tr th:only-of-type {\n",
       "        vertical-align: middle;\n",
       "    }\n",
       "\n",
       "    .dataframe tbody tr th {\n",
       "        vertical-align: top;\n",
       "    }\n",
       "\n",
       "    .dataframe thead th {\n",
       "        text-align: right;\n",
       "    }\n",
       "</style>\n",
       "<table border=\"1\" class=\"dataframe\">\n",
       "  <thead>\n",
       "    <tr style=\"text-align: right;\">\n",
       "      <th></th>\n",
       "      <th>country</th>\n",
       "      <th>best_th</th>\n",
       "      <th>best_score</th>\n",
       "      <th>type</th>\n",
       "    </tr>\n",
       "  </thead>\n",
       "  <tbody>\n",
       "    <tr>\n",
       "      <th>0</th>\n",
       "      <td>us</td>\n",
       "      <td>0.6</td>\n",
       "      <td>0.578125</td>\n",
       "      <td>univ_sentence</td>\n",
       "    </tr>\n",
       "    <tr>\n",
       "      <th>1</th>\n",
       "      <td>tr</td>\n",
       "      <td>0.5</td>\n",
       "      <td>0.583984</td>\n",
       "      <td>univ_sentence</td>\n",
       "    </tr>\n",
       "    <tr>\n",
       "      <th>2</th>\n",
       "      <td>id</td>\n",
       "      <td>0.5</td>\n",
       "      <td>0.587402</td>\n",
       "      <td>univ_sentence</td>\n",
       "    </tr>\n",
       "    <tr>\n",
       "      <th>3</th>\n",
       "      <td>jp</td>\n",
       "      <td>0.6</td>\n",
       "      <td>0.482666</td>\n",
       "      <td>univ_sentence</td>\n",
       "    </tr>\n",
       "    <tr>\n",
       "      <th>4</th>\n",
       "      <td>th</td>\n",
       "      <td>0.5</td>\n",
       "      <td>0.550781</td>\n",
       "      <td>univ_sentence</td>\n",
       "    </tr>\n",
       "  </tbody>\n",
       "</table>\n",
       "</div>"
      ],
      "text/plain": [
       "  country  best_th  best_score           type\n",
       "0      us      0.6    0.578125  univ_sentence\n",
       "1      tr      0.5    0.583984  univ_sentence\n",
       "2      id      0.5    0.587402  univ_sentence\n",
       "3      jp      0.6    0.482666  univ_sentence\n",
       "4      th      0.5    0.550781  univ_sentence"
      ]
     },
     "execution_count": 18,
     "metadata": {},
     "output_type": "execute_result"
    }
   ],
   "source": [
    "result.to_csv(OUTPUT_DIR + f\"{exp_name}/result.csv\", index=False)\n",
    "result.head(20)"
   ]
  },
  {
   "cell_type": "code",
   "execution_count": null,
   "metadata": {},
   "outputs": [],
   "source": []
  }
 ],
 "metadata": {
  "interpreter": {
   "hash": "d4d1e4263499bec80672ea0156c357c1ee493ec2b1c70f0acce89fc37c4a6abe"
  },
  "kernelspec": {
   "display_name": "Python 3.8.12 ('base')",
   "language": "python",
   "name": "python3"
  },
  "language_info": {
   "codemirror_mode": {
    "name": "ipython",
    "version": 3
   },
   "file_extension": ".py",
   "mimetype": "text/x-python",
   "name": "python",
   "nbconvert_exporter": "python",
   "pygments_lexer": "ipython3",
   "version": "3.8.12"
  },
  "orig_nbformat": 4
 },
 "nbformat": 4,
 "nbformat_minor": 2
}
