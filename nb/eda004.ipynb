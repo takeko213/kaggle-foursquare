{
 "cells": [
  {
   "cell_type": "markdown",
   "metadata": {},
   "source": [
    "# eda004\n",
    "ペア裏削除による影響確認"
   ]
  },
  {
   "cell_type": "code",
   "execution_count": 13,
   "metadata": {},
   "outputs": [],
   "source": [
    "MODE = 'local_train'\n",
    "#MODE = 'kaggle_inference'"
   ]
  },
  {
   "cell_type": "code",
   "execution_count": 14,
   "metadata": {},
   "outputs": [
    {
     "name": "stdout",
     "output_type": "stream",
     "text": [
      "The Cython extension is already loaded. To reload it, use:\n",
      "  %reload_ext Cython\n"
     ]
    }
   ],
   "source": [
    "import os\n",
    "import sys\n",
    "import gc\n",
    "\n",
    "if MODE == 'local_train':\n",
    "    sys.path.append('/home/kaggler/.local/lib/python3.8/site-packages')\n",
    "    from dotenv import load_dotenv\n",
    "    load_dotenv\n",
    "    sys.path.append(os.getenv('UTILS_PATH'))\n",
    "    import line_notify\n",
    "    import slack_notify\n",
    "    \n",
    "import pandas as pd\n",
    "import numpy as np\n",
    "import matplotlib.pyplot as plt; plt.style.use(\"ggplot\")\n",
    "import seaborn as sns\n",
    "from sklearn.metrics.pairwise import haversine_distances\n",
    "from sklearn.model_selection import GroupKFold, KFold, StratifiedKFold\n",
    "from sklearn.metrics import accuracy_score\n",
    "import lightgbm as lgb\n",
    "import itertools\n",
    "from tqdm import tqdm\n",
    "from scipy.spatial.distance import canberra\n",
    "from sklearn.neighbors import KNeighborsRegressor\n",
    "import multiprocessing\n",
    "import Levenshtein\n",
    "import difflib\n",
    "import pickle\n",
    "%load_ext Cython"
   ]
  },
  {
   "cell_type": "code",
   "execution_count": 15,
   "metadata": {},
   "outputs": [],
   "source": [
    "# directry_setting\n",
    "if MODE == 'local_train':\n",
    "    INPUT_DIR = os.getenv('INPUT_DIR')\n",
    "    OUTPUT_DIR = os.getenv('OUTPUT_DIR')\n",
    "    MODEL_DIR = os.getenv('OUTPUT_DIR')\n",
    "    #os.makedirs(OUTPUT_DIR + exp_name, exist_ok=True)\n",
    "\n",
    "elif MODE == 'kaggle_inference':\n",
    "    INPUT_DIR = '/kaggle/input/foursquare-location-matching/'\n",
    "    OUTPUT_DIR = './'\n",
    "    MODEL_DIR = f'../input/fs{exp_name}/'"
   ]
  },
  {
   "cell_type": "code",
   "execution_count": 16,
   "metadata": {},
   "outputs": [],
   "source": [
    "# https://www.kaggle.com/code/columbia2131/foursquare-iou-metrics\n",
    "def get_id2poi(input_df: pd.DataFrame) -> dict:\n",
    "    return dict(zip(input_df['id'], input_df['point_of_interest']))\n",
    "\n",
    "def get_poi2ids(input_df: pd.DataFrame) -> dict:\n",
    "    return input_df.groupby('point_of_interest')['id'].apply(set).to_dict()\n",
    "\n",
    "def get_score(input_df: pd.DataFrame, org_data):\n",
    "    scores = []\n",
    "    id2poi = get_id2poi(org_data)\n",
    "    poi2ids = get_poi2ids(org_data)\n",
    "    for id_str, matches in zip(input_df['id'].to_numpy(), input_df['matches'].to_numpy()):\n",
    "        targets = poi2ids[id2poi[id_str]]\n",
    "        preds = set(matches.split())\n",
    "        score = len((targets & preds)) / len((targets | preds))\n",
    "        scores.append(score)\n",
    "    scores = np.array(scores)\n",
    "    return scores.mean()\n",
    "\n",
    "def calc_max_score(tr_data, org_data):\n",
    "    train_candidate = pd.DataFrame()\n",
    "    train_candidate['id'] = org_data['id'].unique()\n",
    "    train_candidate['matches'] = org_data['id'].unique()\n",
    "    idx = tr_data['point_of_interest']==tr_data['match_point_of_interest']\n",
    "    train_match = tr_data.loc[idx].groupby('id')['match_id'].apply(list).map(\" \".join).reset_index()\n",
    "    train_match.columns = ['id','candidates']\n",
    "    train_candidate = train_candidate.merge(train_match, on = 'id', how = 'left')\n",
    "    idx = ~train_candidate['candidates'].isna()\n",
    "    train_candidate.loc[idx, \"matches\"] += \" \" + train_candidate.loc[idx, \"candidates\"]\n",
    "    score = get_score(train_candidate, org_data)\n",
    "    #print('1st_stage_max_score : ' + '{:.5f}'.format(score))\n",
    "    return score"
   ]
  },
  {
   "cell_type": "code",
   "execution_count": 17,
   "metadata": {},
   "outputs": [],
   "source": [
    "def add_orgin_data(df, org_df):\n",
    "    df = df.merge(org_df.add_prefix('match_'), on='match_id')\n",
    "    df = df.reset_index(drop=True)\n",
    "    return df"
   ]
  },
  {
   "cell_type": "code",
   "execution_count": 18,
   "metadata": {},
   "outputs": [],
   "source": [
    "# CONFIG\n",
    "SEED = 42\n",
    "N_NEIGHBORS = 10\n",
    "N_SPLITS = 5\n",
    "PROB_TH = 0.5"
   ]
  },
  {
   "cell_type": "code",
   "execution_count": 19,
   "metadata": {},
   "outputs": [],
   "source": [
    "# https://www.kaggle.com/code/columbia2131/foursquare-iou-metrics\n",
    "def get_id2poi(input_df: pd.DataFrame) -> dict:\n",
    "    return dict(zip(input_df['id'], input_df['point_of_interest']))\n",
    "\n",
    "def get_poi2ids(input_df: pd.DataFrame) -> dict:\n",
    "    return input_df.groupby('point_of_interest')['id'].apply(set).to_dict()\n",
    "\n",
    "def get_score(input_df: pd.DataFrame, org_data):\n",
    "    scores = []\n",
    "    id2poi = get_id2poi(org_data)\n",
    "    poi2ids = get_poi2ids(org_data)\n",
    "    for id_str, matches in zip(input_df['id'].to_numpy(), input_df['matches'].to_numpy()):\n",
    "        targets = poi2ids[id2poi[id_str]]\n",
    "        preds = set(matches.split())\n",
    "        score = len((targets & preds)) / len((targets | preds))\n",
    "        scores.append(score)\n",
    "    scores = np.array(scores)\n",
    "    return scores.mean()\n",
    "\n",
    "def calc_max_score(tr_data, org_data):\n",
    "    train_candidate = pd.DataFrame()\n",
    "    train_candidate['id'] = org_data['id'].unique()\n",
    "    train_candidate['matches'] = org_data['id'].unique()\n",
    "    idx = tr_data['point_of_interest']==tr_data['match_point_of_interest']\n",
    "    train_match = tr_data.loc[idx].groupby('id')['match_id'].apply(list).map(\" \".join).reset_index()\n",
    "    train_match.columns = ['id','candidates']\n",
    "    train_candidate = train_candidate.merge(train_match, on = 'id', how = 'left')\n",
    "    idx = ~train_candidate['candidates'].isna()\n",
    "    train_candidate.loc[idx, \"matches\"] += \" \" + train_candidate.loc[idx, \"candidates\"]\n",
    "    score = get_score(train_candidate, org_data)\n",
    "    #print('1st_stage_max_score : ' + '{:.5f}'.format(score))\n",
    "    return score"
   ]
  },
  {
   "cell_type": "code",
   "execution_count": 20,
   "metadata": {},
   "outputs": [],
   "source": [
    "def transform_data(df, org_data):\n",
    "    train_candidate = pd.DataFrame()\n",
    "    train_candidate['id'] = org_data['id'].unique()\n",
    "    train_candidate['matches'] = org_data['id'].unique()\n",
    "\n",
    "    train_match = df[df['prob'] >= PROB_TH].copy()\n",
    "    train_match = train_match.groupby('id')['match_id'].apply(list).map(\" \".join).reset_index()\n",
    "    train_match.columns = ['id','candidates']\n",
    "    train_candidate = train_candidate.merge(train_match, on = 'id', how = 'left')\n",
    "    idx = ~train_candidate['candidates'].isna()\n",
    "    train_candidate.loc[idx, \"matches\"] += \" \" + train_candidate.loc[idx, \"candidates\"]\n",
    "    return train_candidate[['id', 'matches']]\n"
   ]
  },
  {
   "cell_type": "code",
   "execution_count": 21,
   "metadata": {},
   "outputs": [],
   "source": [
    "def postprocess(df):\n",
    "    id2match = dict(zip(df[\"id\"].values, df[\"matches\"].str.split()))\n",
    "\n",
    "    for match in tqdm(df[\"matches\"]):\n",
    "        match = match.split()\n",
    "        if len(match) == 1:        \n",
    "            continue\n",
    "\n",
    "        base = match[0]\n",
    "        for m in match[1:]:\n",
    "            if not base in id2match[m]:\n",
    "                id2match[m].append(base)\n",
    "    df[\"matches\"] = df[\"id\"].map(id2match).map(\" \".join)\n",
    "    return df "
   ]
  },
  {
   "cell_type": "code",
   "execution_count": 22,
   "metadata": {},
   "outputs": [],
   "source": [
    "oof = pd.read_csv(OUTPUT_DIR + \"exp006/exp006_oof.csv\")\n",
    "oof_dp = oof[~pd.DataFrame(np.sort(oof[['id','match_id']].values,1)).duplicated()].reset_index(drop=True)\n",
    "train_origin = pd.read_csv(INPUT_DIR + \"train.csv\")"
   ]
  },
  {
   "cell_type": "code",
   "execution_count": 23,
   "metadata": {},
   "outputs": [
    {
     "name": "stdout",
     "output_type": "stream",
     "text": [
      "cv_score = 0.83176\n"
     ]
    },
    {
     "name": "stderr",
     "output_type": "stream",
     "text": [
      "100%|██████████| 1138812/1138812 [00:01<00:00, 1077250.83it/s]\n"
     ]
    },
    {
     "name": "stdout",
     "output_type": "stream",
     "text": [
      "cv_score(after_pp) = 0.83792\n"
     ]
    }
   ],
   "source": [
    "oof = transform_data(oof, train_origin)\n",
    "cv_score = get_score(oof, train_origin)\n",
    "print(f'cv_score = ' + '{:.5f}'.format(cv_score))\n",
    "oof = postprocess(oof)\n",
    "cv_score_after_pp = get_score(oof, train_origin)\n",
    "print(f'cv_score(after_pp) = ' + '{:.5f}'.format(cv_score_after_pp))"
   ]
  },
  {
   "cell_type": "code",
   "execution_count": 24,
   "metadata": {},
   "outputs": [
    {
     "name": "stdout",
     "output_type": "stream",
     "text": [
      "cv_score = 0.74285\n"
     ]
    },
    {
     "name": "stderr",
     "output_type": "stream",
     "text": [
      "100%|██████████| 1138812/1138812 [00:00<00:00, 1460989.41it/s]\n"
     ]
    },
    {
     "name": "stdout",
     "output_type": "stream",
     "text": [
      "cv_score(after_pp) = 0.83597\n"
     ]
    }
   ],
   "source": [
    "oof_dp = transform_data(oof_dp, train_origin)\n",
    "cv_score = get_score(oof_dp, train_origin)\n",
    "print(f'cv_score = ' + '{:.5f}'.format(cv_score))\n",
    "oof_dp = postprocess(oof_dp)\n",
    "cv_score_after_pp = get_score(oof_dp, train_origin)\n",
    "print(f'cv_score(after_pp) = ' + '{:.5f}'.format(cv_score_after_pp))"
   ]
  },
  {
   "cell_type": "code",
   "execution_count": 25,
   "metadata": {},
   "outputs": [
    {
     "data": {
      "text/html": [
       "<div>\n",
       "<style scoped>\n",
       "    .dataframe tbody tr th:only-of-type {\n",
       "        vertical-align: middle;\n",
       "    }\n",
       "\n",
       "    .dataframe tbody tr th {\n",
       "        vertical-align: top;\n",
       "    }\n",
       "\n",
       "    .dataframe thead th {\n",
       "        text-align: right;\n",
       "    }\n",
       "</style>\n",
       "<table border=\"1\" class=\"dataframe\">\n",
       "  <thead>\n",
       "    <tr style=\"text-align: right;\">\n",
       "      <th></th>\n",
       "      <th>id</th>\n",
       "      <th>matches</th>\n",
       "    </tr>\n",
       "  </thead>\n",
       "  <tbody>\n",
       "    <tr>\n",
       "      <th>0</th>\n",
       "      <td>E_000001272c6c5d</td>\n",
       "      <td>E_000001272c6c5d E_da7fa3963561f8</td>\n",
       "    </tr>\n",
       "    <tr>\n",
       "      <th>1</th>\n",
       "      <td>E_000002eae2a589</td>\n",
       "      <td>E_000002eae2a589 E_e80db432029aea</td>\n",
       "    </tr>\n",
       "    <tr>\n",
       "      <th>2</th>\n",
       "      <td>E_000007f24ebc95</td>\n",
       "      <td>E_000007f24ebc95</td>\n",
       "    </tr>\n",
       "    <tr>\n",
       "      <th>3</th>\n",
       "      <td>E_000008a8ba4f48</td>\n",
       "      <td>E_000008a8ba4f48</td>\n",
       "    </tr>\n",
       "    <tr>\n",
       "      <th>4</th>\n",
       "      <td>E_00001d92066153</td>\n",
       "      <td>E_00001d92066153 E_7e0d8e9138dd56</td>\n",
       "    </tr>\n",
       "    <tr>\n",
       "      <th>...</th>\n",
       "      <td>...</td>\n",
       "      <td>...</td>\n",
       "    </tr>\n",
       "    <tr>\n",
       "      <th>1138807</th>\n",
       "      <td>E_ffffb80854f713</td>\n",
       "      <td>E_ffffb80854f713 E_008558a7c44ed5</td>\n",
       "    </tr>\n",
       "    <tr>\n",
       "      <th>1138808</th>\n",
       "      <td>E_ffffbf9a83e0ba</td>\n",
       "      <td>E_ffffbf9a83e0ba E_37cbd58e31092a</td>\n",
       "    </tr>\n",
       "    <tr>\n",
       "      <th>1138809</th>\n",
       "      <td>E_ffffc572b4d35b</td>\n",
       "      <td>E_ffffc572b4d35b E_27bcc6f6dd33ed E_8081185a21...</td>\n",
       "    </tr>\n",
       "    <tr>\n",
       "      <th>1138810</th>\n",
       "      <td>E_ffffca745329ed</td>\n",
       "      <td>E_ffffca745329ed E_04988888cfff60</td>\n",
       "    </tr>\n",
       "    <tr>\n",
       "      <th>1138811</th>\n",
       "      <td>E_ffffe6f4652fbb</td>\n",
       "      <td>E_ffffe6f4652fbb E_1ae7caf33377c7</td>\n",
       "    </tr>\n",
       "  </tbody>\n",
       "</table>\n",
       "<p>1138812 rows × 2 columns</p>\n",
       "</div>"
      ],
      "text/plain": [
       "                       id                                            matches\n",
       "0        E_000001272c6c5d                  E_000001272c6c5d E_da7fa3963561f8\n",
       "1        E_000002eae2a589                  E_000002eae2a589 E_e80db432029aea\n",
       "2        E_000007f24ebc95                                   E_000007f24ebc95\n",
       "3        E_000008a8ba4f48                                   E_000008a8ba4f48\n",
       "4        E_00001d92066153                  E_00001d92066153 E_7e0d8e9138dd56\n",
       "...                   ...                                                ...\n",
       "1138807  E_ffffb80854f713                  E_ffffb80854f713 E_008558a7c44ed5\n",
       "1138808  E_ffffbf9a83e0ba                  E_ffffbf9a83e0ba E_37cbd58e31092a\n",
       "1138809  E_ffffc572b4d35b  E_ffffc572b4d35b E_27bcc6f6dd33ed E_8081185a21...\n",
       "1138810  E_ffffca745329ed                  E_ffffca745329ed E_04988888cfff60\n",
       "1138811  E_ffffe6f4652fbb                  E_ffffe6f4652fbb E_1ae7caf33377c7\n",
       "\n",
       "[1138812 rows x 2 columns]"
      ]
     },
     "execution_count": 25,
     "metadata": {},
     "output_type": "execute_result"
    }
   ],
   "source": [
    "oof"
   ]
  },
  {
   "cell_type": "code",
   "execution_count": 27,
   "metadata": {},
   "outputs": [
    {
     "data": {
      "text/html": [
       "<div>\n",
       "<style scoped>\n",
       "    .dataframe tbody tr th:only-of-type {\n",
       "        vertical-align: middle;\n",
       "    }\n",
       "\n",
       "    .dataframe tbody tr th {\n",
       "        vertical-align: top;\n",
       "    }\n",
       "\n",
       "    .dataframe thead th {\n",
       "        text-align: right;\n",
       "    }\n",
       "</style>\n",
       "<table border=\"1\" class=\"dataframe\">\n",
       "  <thead>\n",
       "    <tr style=\"text-align: right;\">\n",
       "      <th></th>\n",
       "      <th>id</th>\n",
       "      <th>matches</th>\n",
       "    </tr>\n",
       "  </thead>\n",
       "  <tbody>\n",
       "    <tr>\n",
       "      <th>0</th>\n",
       "      <td>E_000001272c6c5d</td>\n",
       "      <td>E_000001272c6c5d E_da7fa3963561f8</td>\n",
       "    </tr>\n",
       "    <tr>\n",
       "      <th>1</th>\n",
       "      <td>E_000002eae2a589</td>\n",
       "      <td>E_000002eae2a589 E_e80db432029aea</td>\n",
       "    </tr>\n",
       "    <tr>\n",
       "      <th>2</th>\n",
       "      <td>E_000007f24ebc95</td>\n",
       "      <td>E_000007f24ebc95</td>\n",
       "    </tr>\n",
       "    <tr>\n",
       "      <th>3</th>\n",
       "      <td>E_000008a8ba4f48</td>\n",
       "      <td>E_000008a8ba4f48</td>\n",
       "    </tr>\n",
       "    <tr>\n",
       "      <th>4</th>\n",
       "      <td>E_00001d92066153</td>\n",
       "      <td>E_00001d92066153 E_7e0d8e9138dd56</td>\n",
       "    </tr>\n",
       "    <tr>\n",
       "      <th>...</th>\n",
       "      <td>...</td>\n",
       "      <td>...</td>\n",
       "    </tr>\n",
       "    <tr>\n",
       "      <th>1138807</th>\n",
       "      <td>E_ffffb80854f713</td>\n",
       "      <td>E_ffffb80854f713 E_008558a7c44ed5</td>\n",
       "    </tr>\n",
       "    <tr>\n",
       "      <th>1138808</th>\n",
       "      <td>E_ffffbf9a83e0ba</td>\n",
       "      <td>E_ffffbf9a83e0ba E_37cbd58e31092a</td>\n",
       "    </tr>\n",
       "    <tr>\n",
       "      <th>1138809</th>\n",
       "      <td>E_ffffc572b4d35b</td>\n",
       "      <td>E_ffffc572b4d35b E_27bcc6f6dd33ed E_8081185a21...</td>\n",
       "    </tr>\n",
       "    <tr>\n",
       "      <th>1138810</th>\n",
       "      <td>E_ffffca745329ed</td>\n",
       "      <td>E_ffffca745329ed E_04988888cfff60</td>\n",
       "    </tr>\n",
       "    <tr>\n",
       "      <th>1138811</th>\n",
       "      <td>E_ffffe6f4652fbb</td>\n",
       "      <td>E_ffffe6f4652fbb E_1ae7caf33377c7</td>\n",
       "    </tr>\n",
       "  </tbody>\n",
       "</table>\n",
       "<p>1138812 rows × 2 columns</p>\n",
       "</div>"
      ],
      "text/plain": [
       "                       id                                            matches\n",
       "0        E_000001272c6c5d                  E_000001272c6c5d E_da7fa3963561f8\n",
       "1        E_000002eae2a589                  E_000002eae2a589 E_e80db432029aea\n",
       "2        E_000007f24ebc95                                   E_000007f24ebc95\n",
       "3        E_000008a8ba4f48                                   E_000008a8ba4f48\n",
       "4        E_00001d92066153                  E_00001d92066153 E_7e0d8e9138dd56\n",
       "...                   ...                                                ...\n",
       "1138807  E_ffffb80854f713                  E_ffffb80854f713 E_008558a7c44ed5\n",
       "1138808  E_ffffbf9a83e0ba                  E_ffffbf9a83e0ba E_37cbd58e31092a\n",
       "1138809  E_ffffc572b4d35b  E_ffffc572b4d35b E_27bcc6f6dd33ed E_8081185a21...\n",
       "1138810  E_ffffca745329ed                  E_ffffca745329ed E_04988888cfff60\n",
       "1138811  E_ffffe6f4652fbb                  E_ffffe6f4652fbb E_1ae7caf33377c7\n",
       "\n",
       "[1138812 rows x 2 columns]"
      ]
     },
     "execution_count": 27,
     "metadata": {},
     "output_type": "execute_result"
    }
   ],
   "source": [
    "oof_dp"
   ]
  },
  {
   "cell_type": "code",
   "execution_count": 29,
   "metadata": {},
   "outputs": [],
   "source": [
    "oof[\"matches_dp\"] = oof_dp[\"matches\"]"
   ]
  },
  {
   "cell_type": "code",
   "execution_count": 31,
   "metadata": {},
   "outputs": [
    {
     "data": {
      "text/html": [
       "<div>\n",
       "<style scoped>\n",
       "    .dataframe tbody tr th:only-of-type {\n",
       "        vertical-align: middle;\n",
       "    }\n",
       "\n",
       "    .dataframe tbody tr th {\n",
       "        vertical-align: top;\n",
       "    }\n",
       "\n",
       "    .dataframe thead th {\n",
       "        text-align: right;\n",
       "    }\n",
       "</style>\n",
       "<table border=\"1\" class=\"dataframe\">\n",
       "  <thead>\n",
       "    <tr style=\"text-align: right;\">\n",
       "      <th></th>\n",
       "      <th>id</th>\n",
       "      <th>matches</th>\n",
       "      <th>matches_dp</th>\n",
       "    </tr>\n",
       "  </thead>\n",
       "  <tbody>\n",
       "    <tr>\n",
       "      <th>10</th>\n",
       "      <td>E_00009ab517afac</td>\n",
       "      <td>E_00009ab517afac E_d290d38ca592e4 E_5731151815...</td>\n",
       "      <td>E_00009ab517afac E_d290d38ca592e4</td>\n",
       "    </tr>\n",
       "    <tr>\n",
       "      <th>18</th>\n",
       "      <td>E_000156e4ae899c</td>\n",
       "      <td>E_000156e4ae899c E_d28bf8b3338a91</td>\n",
       "      <td>E_000156e4ae899c</td>\n",
       "    </tr>\n",
       "    <tr>\n",
       "      <th>25</th>\n",
       "      <td>E_0001a397f67ad5</td>\n",
       "      <td>E_0001a397f67ad5 E_4b83e498f06eff</td>\n",
       "      <td>E_0001a397f67ad5</td>\n",
       "    </tr>\n",
       "    <tr>\n",
       "      <th>56</th>\n",
       "      <td>E_0003b15b0cc3b3</td>\n",
       "      <td>E_0003b15b0cc3b3 E_f154e5b6b26286</td>\n",
       "      <td>E_0003b15b0cc3b3</td>\n",
       "    </tr>\n",
       "    <tr>\n",
       "      <th>91</th>\n",
       "      <td>E_0005d223c299ab</td>\n",
       "      <td>E_0005d223c299ab E_811d75955cb441 E_3db8de706c...</td>\n",
       "      <td>E_0005d223c299ab E_811d75955cb441 E_3db8de706c...</td>\n",
       "    </tr>\n",
       "    <tr>\n",
       "      <th>...</th>\n",
       "      <td>...</td>\n",
       "      <td>...</td>\n",
       "      <td>...</td>\n",
       "    </tr>\n",
       "    <tr>\n",
       "      <th>1138765</th>\n",
       "      <td>E_fffd925d18b1c9</td>\n",
       "      <td>E_fffd925d18b1c9 E_b9f861a9362614 E_42737ba04c...</td>\n",
       "      <td>E_fffd925d18b1c9 E_b9f861a9362614 E_908a6ab867...</td>\n",
       "    </tr>\n",
       "    <tr>\n",
       "      <th>1138767</th>\n",
       "      <td>E_fffda1670277d8</td>\n",
       "      <td>E_fffda1670277d8 E_724d3a1107984a</td>\n",
       "      <td>E_fffda1670277d8</td>\n",
       "    </tr>\n",
       "    <tr>\n",
       "      <th>1138783</th>\n",
       "      <td>E_fffe5a71e05990</td>\n",
       "      <td>E_fffe5a71e05990 E_6aa8da4bb91ff5 E_132a2f7db2...</td>\n",
       "      <td>E_fffe5a71e05990 E_6aa8da4bb91ff5 E_132a2f7db2...</td>\n",
       "    </tr>\n",
       "    <tr>\n",
       "      <th>1138790</th>\n",
       "      <td>E_fffe9cbe5a2c75</td>\n",
       "      <td>E_fffe9cbe5a2c75 E_959fea1a5ee646 E_c9ff41f8d5...</td>\n",
       "      <td>E_fffe9cbe5a2c75 E_959fea1a5ee646 E_00fafe1b20...</td>\n",
       "    </tr>\n",
       "    <tr>\n",
       "      <th>1138796</th>\n",
       "      <td>E_ffff43afdebe13</td>\n",
       "      <td>E_ffff43afdebe13 E_5a7cd9caae6451</td>\n",
       "      <td>E_ffff43afdebe13</td>\n",
       "    </tr>\n",
       "  </tbody>\n",
       "</table>\n",
       "<p>55039 rows × 3 columns</p>\n",
       "</div>"
      ],
      "text/plain": [
       "                       id                                            matches  \\\n",
       "10       E_00009ab517afac  E_00009ab517afac E_d290d38ca592e4 E_5731151815...   \n",
       "18       E_000156e4ae899c                  E_000156e4ae899c E_d28bf8b3338a91   \n",
       "25       E_0001a397f67ad5                  E_0001a397f67ad5 E_4b83e498f06eff   \n",
       "56       E_0003b15b0cc3b3                  E_0003b15b0cc3b3 E_f154e5b6b26286   \n",
       "91       E_0005d223c299ab  E_0005d223c299ab E_811d75955cb441 E_3db8de706c...   \n",
       "...                   ...                                                ...   \n",
       "1138765  E_fffd925d18b1c9  E_fffd925d18b1c9 E_b9f861a9362614 E_42737ba04c...   \n",
       "1138767  E_fffda1670277d8                  E_fffda1670277d8 E_724d3a1107984a   \n",
       "1138783  E_fffe5a71e05990  E_fffe5a71e05990 E_6aa8da4bb91ff5 E_132a2f7db2...   \n",
       "1138790  E_fffe9cbe5a2c75  E_fffe9cbe5a2c75 E_959fea1a5ee646 E_c9ff41f8d5...   \n",
       "1138796  E_ffff43afdebe13                  E_ffff43afdebe13 E_5a7cd9caae6451   \n",
       "\n",
       "                                                matches_dp  \n",
       "10                       E_00009ab517afac E_d290d38ca592e4  \n",
       "18                                        E_000156e4ae899c  \n",
       "25                                        E_0001a397f67ad5  \n",
       "56                                        E_0003b15b0cc3b3  \n",
       "91       E_0005d223c299ab E_811d75955cb441 E_3db8de706c...  \n",
       "...                                                    ...  \n",
       "1138765  E_fffd925d18b1c9 E_b9f861a9362614 E_908a6ab867...  \n",
       "1138767                                   E_fffda1670277d8  \n",
       "1138783  E_fffe5a71e05990 E_6aa8da4bb91ff5 E_132a2f7db2...  \n",
       "1138790  E_fffe9cbe5a2c75 E_959fea1a5ee646 E_00fafe1b20...  \n",
       "1138796                                   E_ffff43afdebe13  \n",
       "\n",
       "[55039 rows x 3 columns]"
      ]
     },
     "execution_count": 31,
     "metadata": {},
     "output_type": "execute_result"
    }
   ],
   "source": [
    "oof[oof[\"matches\"]!=oof[\"matches_dp\"]]"
   ]
  },
  {
   "cell_type": "code",
   "execution_count": 32,
   "metadata": {},
   "outputs": [],
   "source": [
    "oof_org = pd.read_csv(OUTPUT_DIR + \"exp006/exp006_oof.csv\")"
   ]
  },
  {
   "cell_type": "code",
   "execution_count": 37,
   "metadata": {},
   "outputs": [
    {
     "data": {
      "text/html": [
       "<div>\n",
       "<style scoped>\n",
       "    .dataframe tbody tr th:only-of-type {\n",
       "        vertical-align: middle;\n",
       "    }\n",
       "\n",
       "    .dataframe tbody tr th {\n",
       "        vertical-align: top;\n",
       "    }\n",
       "\n",
       "    .dataframe thead th {\n",
       "        text-align: right;\n",
       "    }\n",
       "</style>\n",
       "<table border=\"1\" class=\"dataframe\">\n",
       "  <thead>\n",
       "    <tr style=\"text-align: right;\">\n",
       "      <th></th>\n",
       "      <th>id</th>\n",
       "      <th>match_id</th>\n",
       "      <th>target</th>\n",
       "      <th>prob</th>\n",
       "    </tr>\n",
       "  </thead>\n",
       "  <tbody>\n",
       "    <tr>\n",
       "      <th>1918875</th>\n",
       "      <td>E_ffff43afdebe13</td>\n",
       "      <td>E_5a7cd9caae6451</td>\n",
       "      <td>1</td>\n",
       "      <td>0.474050</td>\n",
       "    </tr>\n",
       "    <tr>\n",
       "      <th>1918879</th>\n",
       "      <td>E_5a7cd9caae6451</td>\n",
       "      <td>E_ffff43afdebe13</td>\n",
       "      <td>1</td>\n",
       "      <td>0.564548</td>\n",
       "    </tr>\n",
       "  </tbody>\n",
       "</table>\n",
       "</div>"
      ],
      "text/plain": [
       "                       id          match_id  target      prob\n",
       "1918875  E_ffff43afdebe13  E_5a7cd9caae6451       1  0.474050\n",
       "1918879  E_5a7cd9caae6451  E_ffff43afdebe13       1  0.564548"
      ]
     },
     "execution_count": 37,
     "metadata": {},
     "output_type": "execute_result"
    }
   ],
   "source": [
    "_id = \"E_ffff43afdebe13\"\n",
    "_id2 = \"E_5a7cd9caae6451\"\n",
    "pd.concat([oof_org[(oof_org[\"id\"]==_id)&(oof_org[\"match_id\"]==_id2)],\n",
    "           oof_org[(oof_org[\"id\"]==_id2)&(oof_org[\"match_id\"]==_id)]])"
   ]
  },
  {
   "cell_type": "code",
   "execution_count": null,
   "metadata": {},
   "outputs": [],
   "source": []
  }
 ],
 "metadata": {
  "interpreter": {
   "hash": "d4d1e4263499bec80672ea0156c357c1ee493ec2b1c70f0acce89fc37c4a6abe"
  },
  "kernelspec": {
   "display_name": "Python 3.8.12 ('base')",
   "language": "python",
   "name": "python3"
  },
  "language_info": {
   "codemirror_mode": {
    "name": "ipython",
    "version": 3
   },
   "file_extension": ".py",
   "mimetype": "text/x-python",
   "name": "python",
   "nbconvert_exporter": "python",
   "pygments_lexer": "ipython3",
   "version": "3.8.12"
  },
  "orig_nbformat": 4
 },
 "nbformat": 4,
 "nbformat_minor": 2
}
