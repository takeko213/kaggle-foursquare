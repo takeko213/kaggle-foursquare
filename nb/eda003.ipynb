{
 "cells": [
  {
   "cell_type": "markdown",
   "metadata": {},
   "source": [
    "# eda003\n",
    "距離分布による足切り効果確認"
   ]
  },
  {
   "cell_type": "code",
   "execution_count": 47,
   "metadata": {},
   "outputs": [],
   "source": [
    "MODE = 'local_train'\n",
    "#MODE = 'kaggle_inference'"
   ]
  },
  {
   "cell_type": "code",
   "execution_count": 48,
   "metadata": {},
   "outputs": [],
   "source": [
    "exp_name = 'eda003'\n",
    "memo = 'exp001のhypopt'"
   ]
  },
  {
   "cell_type": "code",
   "execution_count": 49,
   "metadata": {},
   "outputs": [
    {
     "name": "stdout",
     "output_type": "stream",
     "text": [
      "The Cython extension is already loaded. To reload it, use:\n",
      "  %reload_ext Cython\n"
     ]
    }
   ],
   "source": [
    "import os\n",
    "import sys\n",
    "import gc\n",
    "\n",
    "if MODE == 'local_train':\n",
    "    sys.path.append('/home/kaggler/.local/lib/python3.8/site-packages')\n",
    "    from dotenv import load_dotenv\n",
    "    load_dotenv\n",
    "    sys.path.append(os.getenv('UTILS_PATH'))\n",
    "    import line_notify\n",
    "    import slack_notify\n",
    "    \n",
    "import pandas as pd\n",
    "import numpy as np\n",
    "import matplotlib.pyplot as plt; plt.style.use(\"ggplot\")\n",
    "import seaborn as sns\n",
    "from sklearn.metrics.pairwise import haversine_distances\n",
    "from sklearn.model_selection import GroupKFold, KFold, StratifiedKFold\n",
    "from sklearn.metrics import accuracy_score\n",
    "import lightgbm as lgb\n",
    "import itertools\n",
    "from tqdm import tqdm\n",
    "from scipy.spatial.distance import canberra\n",
    "from sklearn.neighbors import KNeighborsRegressor\n",
    "import multiprocessing\n",
    "import Levenshtein\n",
    "import difflib\n",
    "import pickle\n",
    "%load_ext Cython"
   ]
  },
  {
   "cell_type": "code",
   "execution_count": 50,
   "metadata": {},
   "outputs": [],
   "source": [
    "# directry_setting\n",
    "if MODE == 'local_train':\n",
    "    INPUT_DIR = os.getenv('INPUT_DIR')\n",
    "    OUTPUT_DIR = os.getenv('OUTPUT_DIR')\n",
    "    MODEL_DIR = os.getenv('OUTPUT_DIR')\n",
    "    os.makedirs(OUTPUT_DIR + exp_name, exist_ok=True)\n",
    "\n",
    "elif MODE == 'kaggle_inference':\n",
    "    INPUT_DIR = '/kaggle/input/foursquare-location-matching/'\n",
    "    OUTPUT_DIR = './'\n",
    "    MODEL_DIR = f'../input/fs{exp_name}/'"
   ]
  },
  {
   "cell_type": "code",
   "execution_count": 51,
   "metadata": {},
   "outputs": [],
   "source": [
    "# https://www.kaggle.com/code/columbia2131/foursquare-iou-metrics\n",
    "def get_id2poi(input_df: pd.DataFrame) -> dict:\n",
    "    return dict(zip(input_df['id'], input_df['point_of_interest']))\n",
    "\n",
    "def get_poi2ids(input_df: pd.DataFrame) -> dict:\n",
    "    return input_df.groupby('point_of_interest')['id'].apply(set).to_dict()\n",
    "\n",
    "def get_score(input_df: pd.DataFrame, org_data):\n",
    "    scores = []\n",
    "    id2poi = get_id2poi(org_data)\n",
    "    poi2ids = get_poi2ids(org_data)\n",
    "    for id_str, matches in zip(input_df['id'].to_numpy(), input_df['matches'].to_numpy()):\n",
    "        targets = poi2ids[id2poi[id_str]]\n",
    "        preds = set(matches.split())\n",
    "        score = len((targets & preds)) / len((targets | preds))\n",
    "        scores.append(score)\n",
    "    scores = np.array(scores)\n",
    "    return scores.mean()\n",
    "\n",
    "def calc_max_score(tr_data, org_data):\n",
    "    train_candidate = pd.DataFrame()\n",
    "    train_candidate['id'] = org_data['id'].unique()\n",
    "    train_candidate['matches'] = org_data['id'].unique()\n",
    "    idx = tr_data['point_of_interest']==tr_data['match_point_of_interest']\n",
    "    train_match = tr_data.loc[idx].groupby('id')['match_id'].apply(list).map(\" \".join).reset_index()\n",
    "    train_match.columns = ['id','candidates']\n",
    "    train_candidate = train_candidate.merge(train_match, on = 'id', how = 'left')\n",
    "    idx = ~train_candidate['candidates'].isna()\n",
    "    train_candidate.loc[idx, \"matches\"] += \" \" + train_candidate.loc[idx, \"candidates\"]\n",
    "    score = get_score(train_candidate, org_data)\n",
    "    #print('1st_stage_max_score : ' + '{:.5f}'.format(score))\n",
    "    return score"
   ]
  },
  {
   "cell_type": "code",
   "execution_count": 52,
   "metadata": {},
   "outputs": [],
   "source": [
    "def add_orgin_data(df, org_df):\n",
    "    df = df.merge(org_df.add_prefix('match_'), on='match_id')\n",
    "    df = df.reset_index(drop=True)\n",
    "    return df"
   ]
  },
  {
   "cell_type": "code",
   "execution_count": 53,
   "metadata": {},
   "outputs": [],
   "source": [
    "# CONFIG\n",
    "SEED = 42\n",
    "N_NEIGHBORS = 10\n",
    "N_SPLITS = 5\n",
    "PROB_TH = 0.5"
   ]
  },
  {
   "cell_type": "code",
   "execution_count": 54,
   "metadata": {},
   "outputs": [],
   "source": [
    "train_origin = pd.read_csv(INPUT_DIR + \"train.csv\")\n",
    "# trainデータの分割\n",
    "kf = GroupKFold(n_splits=2)\n",
    "for i, (trn_idx, val_idx) in enumerate(kf.split(train_origin, train_origin['point_of_interest'], train_origin['point_of_interest'])):\n",
    "    train_origin.loc[val_idx, \"set\"] = i\n",
    "\n",
    "methods = []\n",
    "Ns = []\n",
    "Ls = []\n",
    "scores = []"
   ]
  },
  {
   "cell_type": "code",
   "execution_count": 55,
   "metadata": {},
   "outputs": [],
   "source": [
    "categories_dist = pd.read_csv(OUTPUT_DIR + 'prep/distance_dist/distance_dist.csv')\n",
    "categories_dist = categories_dist[categories_dist['count'] > 100].copy()\n",
    "categories_dist['1sigma'] = categories_dist['mean'] + (categories_dist['std']*1)\n",
    "categories_dist['2sigma'] = categories_dist['mean'] + (categories_dist['std']*2)\n",
    "categories_dist['3sigma'] = categories_dist['mean'] + (categories_dist['std']*3)"
   ]
  },
  {
   "cell_type": "markdown",
   "metadata": {},
   "source": [
    "# 足切りなし"
   ]
  },
  {
   "cell_type": "code",
   "execution_count": 56,
   "metadata": {},
   "outputs": [],
   "source": [
    "def extract_candidate(df, dist_th=None):\n",
    "    dfs = []\n",
    "    candidates = pd.DataFrame()\n",
    "    for country, country_df in df.groupby(\"country\"):\n",
    "        country_df = country_df.reset_index(drop=True)\n",
    "        \n",
    "        knn = KNeighborsRegressor(n_neighbors=min(len(country_df), N_NEIGHBORS), \n",
    "                                  metric='haversine', n_jobs=-1)\n",
    "        knn.fit(country_df[['latitude','longitude']], country_df.index)\n",
    "        dists, nears = knn.kneighbors(country_df[['latitude','longitude']], return_distance=True)\n",
    "        \n",
    "        k = min(len(country_df), N_NEIGHBORS)\n",
    "        country_df['match_id'] = country_df['id'].values[nears[:, :k]].tolist()\n",
    "        country_df['d_near'] = dists[:, :k].tolist()\n",
    "        country_df = country_df.explode(['match_id','d_near'])\n",
    "        country_df = country_df.loc[country_df['id'] != country_df['match_id']].copy()\n",
    "\n",
    "        if dist_th is not None:\n",
    "            country_df = country_df[country_df['d_near'] < country_df['categories'].map(cat_dist_th).fillna(5)].copy()\n",
    "\n",
    "        dfs.append(country_df)\n",
    "\n",
    "    df = pd.concat(dfs).reset_index(drop=True)\n",
    "    return df"
   ]
  },
  {
   "cell_type": "markdown",
   "metadata": {},
   "source": [
    "# 足切りなし"
   ]
  },
  {
   "cell_type": "code",
   "execution_count": 57,
   "metadata": {},
   "outputs": [
    {
     "name": "stdout",
     "output_type": "stream",
     "text": [
      "10 10248563 0.8903988462445916\n",
      "20 21627709 0.9130873957122682\n",
      "30 33003055 0.9242732307077846\n",
      "40 44374562 0.9313886243621975\n"
     ]
    }
   ],
   "source": [
    "method = 'w/o cutoff'\n",
    "for N_NEIGHBORS in [10,20,30,40]:\n",
    "    train = pd.concat([\n",
    "        extract_candidate(train_origin[train_origin[\"set\"]==0]), \n",
    "        extract_candidate(train_origin[train_origin[\"set\"]==1]), \n",
    "    ])\n",
    "    train = add_orgin_data(train, train_origin)\n",
    "    L = len(train)\n",
    "    score = calc_max_score(train, train_origin)\n",
    "\n",
    "    methods.append(method)\n",
    "    Ns.append(N_NEIGHBORS)\n",
    "    Ls.append(L)\n",
    "    scores.append(score)\n",
    "\n",
    "    print(N_NEIGHBORS, L, score)"
   ]
  },
  {
   "cell_type": "markdown",
   "metadata": {},
   "source": [
    "# カテゴリごとの距離で足切り"
   ]
  },
  {
   "cell_type": "code",
   "execution_count": 58,
   "metadata": {},
   "outputs": [
    {
     "name": "stdout",
     "output_type": "stream",
     "text": [
      "10 9414953 0.8869668268663572\n",
      "20 18997782 0.9081040675026321\n",
      "30 28083545 0.9183153938021523\n",
      "40 36819211 0.9246967146459395\n"
     ]
    }
   ],
   "source": [
    "method = 'percentile75'\n",
    "for N_NEIGHBORS in [10,20,30,40]:\n",
    "    cat_dist_th = {c:d for c,d in zip(categories_dist['categories'], categories_dist[method])}\n",
    "    train = pd.concat([\n",
    "        extract_candidate(train_origin[train_origin[\"set\"]==0], cat_dist_th), \n",
    "        extract_candidate(train_origin[train_origin[\"set\"]==1], cat_dist_th), \n",
    "    ])\n",
    "    train = add_orgin_data(train, train_origin)\n",
    "    L = len(train)\n",
    "    score = calc_max_score(train, train_origin)\n",
    "\n",
    "    methods.append(method)\n",
    "    Ns.append(N_NEIGHBORS)\n",
    "    Ls.append(L)\n",
    "    scores.append(score)\n",
    "\n",
    "    print(N_NEIGHBORS, L, score)"
   ]
  },
  {
   "cell_type": "code",
   "execution_count": 59,
   "metadata": {},
   "outputs": [
    {
     "name": "stdout",
     "output_type": "stream",
     "text": [
      "10 10066245 0.8900145306882149\n",
      "20 20952062 0.9124676953388525\n",
      "30 31610505 0.9234769777856286\n",
      "40 42085539 0.9304394238508866\n"
     ]
    }
   ],
   "source": [
    "method = 'percentile90'\n",
    "for N_NEIGHBORS in [10,20,30,40]:\n",
    "    cat_dist_th = {c:d for c,d in zip(categories_dist['categories'], categories_dist[method])}\n",
    "    train = pd.concat([\n",
    "        extract_candidate(train_origin[train_origin[\"set\"]==0], cat_dist_th), \n",
    "        extract_candidate(train_origin[train_origin[\"set\"]==1], cat_dist_th), \n",
    "    ])\n",
    "    train = add_orgin_data(train, train_origin)\n",
    "    L = len(train)\n",
    "    score = calc_max_score(train, train_origin)\n",
    "\n",
    "    methods.append(method)\n",
    "    Ns.append(N_NEIGHBORS)\n",
    "    Ls.append(L)\n",
    "    scores.append(score)\n",
    "\n",
    "    print(N_NEIGHBORS, L, score)"
   ]
  },
  {
   "cell_type": "code",
   "execution_count": 60,
   "metadata": {},
   "outputs": [
    {
     "name": "stdout",
     "output_type": "stream",
     "text": [
      "10 10180465 0.8903069341160568\n",
      "20 21363236 0.9129412872418928\n",
      "30 32438039 0.9240868985991305\n",
      "40 43414748 0.9311576317154469\n"
     ]
    }
   ],
   "source": [
    "method = 'percentile95'\n",
    "for N_NEIGHBORS in [10,20,30,40]:\n",
    "    cat_dist_th = {c:d for c,d in zip(categories_dist['categories'], categories_dist[method])}\n",
    "    train = pd.concat([\n",
    "        extract_candidate(train_origin[train_origin[\"set\"]==0], cat_dist_th), \n",
    "        extract_candidate(train_origin[train_origin[\"set\"]==1], cat_dist_th), \n",
    "    ])\n",
    "    train = add_orgin_data(train, train_origin)\n",
    "    L = len(train)\n",
    "    score = calc_max_score(train, train_origin)\n",
    "\n",
    "    methods.append(method)\n",
    "    Ns.append(N_NEIGHBORS)\n",
    "    Ls.append(L)\n",
    "    scores.append(score)\n",
    "\n",
    "    print(N_NEIGHBORS, L, score)"
   ]
  },
  {
   "cell_type": "code",
   "execution_count": 61,
   "metadata": {},
   "outputs": [
    {
     "name": "stdout",
     "output_type": "stream",
     "text": [
      "10 10206084 0.8903565799764688\n",
      "20 21457269 0.9130155612458412\n",
      "30 32628705 0.9241777811606814\n",
      "40 43726236 0.9312699404938806\n"
     ]
    }
   ],
   "source": [
    "method = '1sigma'\n",
    "for N_NEIGHBORS in [10,20,30,40]:\n",
    "    cat_dist_th = {c:d for c,d in zip(categories_dist['categories'], categories_dist[method])}\n",
    "    train = pd.concat([\n",
    "        extract_candidate(train_origin[train_origin[\"set\"]==0], cat_dist_th), \n",
    "        extract_candidate(train_origin[train_origin[\"set\"]==1], cat_dist_th), \n",
    "    ])\n",
    "    train = add_orgin_data(train, train_origin)\n",
    "    L = len(train)\n",
    "    score = calc_max_score(train, train_origin)\n",
    "\n",
    "    methods.append(method)\n",
    "    Ns.append(N_NEIGHBORS)\n",
    "    Ls.append(L)\n",
    "    scores.append(score)\n",
    "\n",
    "    print(N_NEIGHBORS, L, score)"
   ]
  },
  {
   "cell_type": "code",
   "execution_count": 62,
   "metadata": {},
   "outputs": [
    {
     "name": "stdout",
     "output_type": "stream",
     "text": [
      "10 10230277 0.8903853233804138\n",
      "20 21551954 0.9130621281527412\n",
      "30 32833557 0.9242388222154948\n",
      "40 44075250 0.9313441615325808\n"
     ]
    }
   ],
   "source": [
    "method = '2sigma'\n",
    "for N_NEIGHBORS in [10,20,30,40]:\n",
    "    cat_dist_th = {c:d for c,d in zip(categories_dist['categories'], categories_dist[method])}\n",
    "    train = pd.concat([\n",
    "        extract_candidate(train_origin[train_origin[\"set\"]==0], cat_dist_th), \n",
    "        extract_candidate(train_origin[train_origin[\"set\"]==1], cat_dist_th), \n",
    "    ])\n",
    "    train = add_orgin_data(train, train_origin)\n",
    "    L = len(train)\n",
    "    score = calc_max_score(train, train_origin)\n",
    "\n",
    "    methods.append(method)\n",
    "    Ns.append(N_NEIGHBORS)\n",
    "    Ls.append(L)\n",
    "    scores.append(score)\n",
    "\n",
    "    print(N_NEIGHBORS, L, score)"
   ]
  },
  {
   "cell_type": "code",
   "execution_count": 63,
   "metadata": {},
   "outputs": [
    {
     "name": "stdout",
     "output_type": "stream",
     "text": [
      "10 10238579 0.8903905042179885\n",
      "20 21585218 0.913072284936009\n",
      "30 32906269 0.9242547538506152\n",
      "40 44201380 0.9313659764917266\n"
     ]
    }
   ],
   "source": [
    "method = '3sigma'\n",
    "for N_NEIGHBORS in [10,20,30,40]:\n",
    "    cat_dist_th = {c:d for c,d in zip(categories_dist['categories'], categories_dist[method])}\n",
    "    train = pd.concat([\n",
    "        extract_candidate(train_origin[train_origin[\"set\"]==0], cat_dist_th), \n",
    "        extract_candidate(train_origin[train_origin[\"set\"]==1], cat_dist_th), \n",
    "    ])\n",
    "    train = add_orgin_data(train, train_origin)\n",
    "    L = len(train)\n",
    "    score = calc_max_score(train, train_origin)\n",
    "\n",
    "    methods.append(method)\n",
    "    Ns.append(N_NEIGHBORS)\n",
    "    Ls.append(L)\n",
    "    scores.append(score)\n",
    "\n",
    "    print(N_NEIGHBORS, L, score)"
   ]
  },
  {
   "cell_type": "code",
   "execution_count": 64,
   "metadata": {},
   "outputs": [
    {
     "data": {
      "text/html": [
       "<div>\n",
       "<style scoped>\n",
       "    .dataframe tbody tr th:only-of-type {\n",
       "        vertical-align: middle;\n",
       "    }\n",
       "\n",
       "    .dataframe tbody tr th {\n",
       "        vertical-align: top;\n",
       "    }\n",
       "\n",
       "    .dataframe thead th {\n",
       "        text-align: right;\n",
       "    }\n",
       "</style>\n",
       "<table border=\"1\" class=\"dataframe\">\n",
       "  <thead>\n",
       "    <tr style=\"text-align: right;\">\n",
       "      <th></th>\n",
       "      <th>method</th>\n",
       "      <th>n_neighbors</th>\n",
       "      <th>record_cnt</th>\n",
       "      <th>max_score</th>\n",
       "    </tr>\n",
       "  </thead>\n",
       "  <tbody>\n",
       "    <tr>\n",
       "      <th>0</th>\n",
       "      <td>w/o cutoff</td>\n",
       "      <td>10</td>\n",
       "      <td>10248563</td>\n",
       "      <td>0.890399</td>\n",
       "    </tr>\n",
       "    <tr>\n",
       "      <th>1</th>\n",
       "      <td>w/o cutoff</td>\n",
       "      <td>20</td>\n",
       "      <td>21627709</td>\n",
       "      <td>0.913087</td>\n",
       "    </tr>\n",
       "    <tr>\n",
       "      <th>2</th>\n",
       "      <td>w/o cutoff</td>\n",
       "      <td>30</td>\n",
       "      <td>33003055</td>\n",
       "      <td>0.924273</td>\n",
       "    </tr>\n",
       "    <tr>\n",
       "      <th>3</th>\n",
       "      <td>w/o cutoff</td>\n",
       "      <td>40</td>\n",
       "      <td>44374562</td>\n",
       "      <td>0.931389</td>\n",
       "    </tr>\n",
       "    <tr>\n",
       "      <th>4</th>\n",
       "      <td>percentile75</td>\n",
       "      <td>10</td>\n",
       "      <td>9414953</td>\n",
       "      <td>0.886967</td>\n",
       "    </tr>\n",
       "  </tbody>\n",
       "</table>\n",
       "</div>"
      ],
      "text/plain": [
       "         method  n_neighbors  record_cnt  max_score\n",
       "0    w/o cutoff           10    10248563   0.890399\n",
       "1    w/o cutoff           20    21627709   0.913087\n",
       "2    w/o cutoff           30    33003055   0.924273\n",
       "3    w/o cutoff           40    44374562   0.931389\n",
       "4  percentile75           10     9414953   0.886967"
      ]
     },
     "execution_count": 64,
     "metadata": {},
     "output_type": "execute_result"
    }
   ],
   "source": [
    "result = pd.DataFrame({\n",
    "    'method':methods,\n",
    "    'n_neighbors':Ns,\n",
    "    'record_cnt':Ls,\n",
    "    'max_score':scores\n",
    "})\n",
    "result.head()"
   ]
  },
  {
   "cell_type": "code",
   "execution_count": 71,
   "metadata": {},
   "outputs": [
    {
     "name": "stderr",
     "output_type": "stream",
     "text": [
      "/tmp/ipykernel_24552/2701367336.py:6: UserWarning: color is redundantly defined by the 'color' keyword argument and the fmt string \"-or\" (-> color='r'). The keyword argument will take precedence.\n",
      "  ax.plot(tmp['record_cnt'], tmp['max_score'], \"-or\", label=m, color=cp[i])\n",
      "/tmp/ipykernel_24552/2701367336.py:6: UserWarning: color is redundantly defined by the 'color' keyword argument and the fmt string \"-or\" (-> color='r'). The keyword argument will take precedence.\n",
      "  ax.plot(tmp['record_cnt'], tmp['max_score'], \"-or\", label=m, color=cp[i])\n",
      "/tmp/ipykernel_24552/2701367336.py:6: UserWarning: color is redundantly defined by the 'color' keyword argument and the fmt string \"-or\" (-> color='r'). The keyword argument will take precedence.\n",
      "  ax.plot(tmp['record_cnt'], tmp['max_score'], \"-or\", label=m, color=cp[i])\n",
      "/tmp/ipykernel_24552/2701367336.py:6: UserWarning: color is redundantly defined by the 'color' keyword argument and the fmt string \"-or\" (-> color='r'). The keyword argument will take precedence.\n",
      "  ax.plot(tmp['record_cnt'], tmp['max_score'], \"-or\", label=m, color=cp[i])\n",
      "/tmp/ipykernel_24552/2701367336.py:6: UserWarning: color is redundantly defined by the 'color' keyword argument and the fmt string \"-or\" (-> color='r'). The keyword argument will take precedence.\n",
      "  ax.plot(tmp['record_cnt'], tmp['max_score'], \"-or\", label=m, color=cp[i])\n",
      "/tmp/ipykernel_24552/2701367336.py:6: UserWarning: color is redundantly defined by the 'color' keyword argument and the fmt string \"-or\" (-> color='r'). The keyword argument will take precedence.\n",
      "  ax.plot(tmp['record_cnt'], tmp['max_score'], \"-or\", label=m, color=cp[i])\n",
      "/tmp/ipykernel_24552/2701367336.py:6: UserWarning: color is redundantly defined by the 'color' keyword argument and the fmt string \"-or\" (-> color='r'). The keyword argument will take precedence.\n",
      "  ax.plot(tmp['record_cnt'], tmp['max_score'], \"-or\", label=m, color=cp[i])\n"
     ]
    },
    {
     "data": {
      "image/png": "[encoded data removed]",
      "text/plain": [
       "<Figure size 1440x720 with 1 Axes>"
      ]
     },
     "metadata": {},
     "output_type": "display_data"
    }
   ],
   "source": [
    "cp = plt.rcParams['axes.prop_cycle'].by_key()['color']\n",
    "fig, ax = plt.subplots(figsize=(20,10))\n",
    "\n",
    "for i, m in enumerate(result['method'].unique()):\n",
    "    tmp = result[result['method'] == m].copy()\n",
    "    ax.plot(tmp['record_cnt'], tmp['max_score'], \"-or\", label=m, color=cp[i])\n",
    "    ax.legend()\n",
    "    ax.set_xlabel('record_cnt')\n",
    "    ax.set_ylabel('max_score')"
   ]
  },
  {
   "cell_type": "code",
   "execution_count": 68,
   "metadata": {},
   "outputs": [
    {
     "data": {
      "text/plain": [
       "['#E24A33', '#348ABD', '#988ED5', '#777777', '#FBC15E', '#8EBA42', '#FFB5B8']"
      ]
     },
     "execution_count": 68,
     "metadata": {},
     "output_type": "execute_result"
    }
   ],
   "source": []
  },
  {
   "cell_type": "code",
   "execution_count": null,
   "metadata": {},
   "outputs": [],
   "source": []
  }
 ],
 "metadata": {
  "interpreter": {
   "hash": "d4d1e4263499bec80672ea0156c357c1ee493ec2b1c70f0acce89fc37c4a6abe"
  },
  "kernelspec": {
   "display_name": "Python 3.8.12 ('base')",
   "language": "python",
   "name": "python3"
  },
  "language_info": {
   "codemirror_mode": {
    "name": "ipython",
    "version": 3
   },
   "file_extension": ".py",
   "mimetype": "text/x-python",
   "name": "python",
   "nbconvert_exporter": "python",
   "pygments_lexer": "ipython3",
   "version": "3.8.12"
  },
  "orig_nbformat": 4
 },
 "nbformat": 4,
 "nbformat_minor": 2
}
